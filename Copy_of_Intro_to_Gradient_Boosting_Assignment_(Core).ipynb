{
  "nbformat": 4,
  "nbformat_minor": 0,
  "metadata": {
    "colab": {
      "name": "Copy of Intro_to_Gradient_Boosting_Assignment (Core).ipynb",
      "provenance": [],
      "collapsed_sections": [],
      "include_colab_link": true
    },
    "kernelspec": {
      "name": "python3",
      "display_name": "Python 3"
    },
    "language_info": {
      "name": "python"
    }
  },
  "cells": [
    {
      "cell_type": "markdown",
      "metadata": {
        "id": "view-in-github",
        "colab_type": "text"
      },
      "source": [
        "<a href=\"https://colab.research.google.com/github/alupo933/Python-Work-for-Bootcamp/blob/main/Copy_of_Intro_to_Gradient_Boosting_Assignment_(Core).ipynb\" target=\"_parent\"><img src=\"https://colab.research.google.com/assets/colab-badge.svg\" alt=\"Open In Colab\"/></a>"
      ]
    },
    {
      "cell_type": "markdown",
      "metadata": {
        "id": "X1a1R3UyYQMH"
      },
      "source": [
        "# Intro to Gradient Boosting\n",
        "\n",
        "![gradient boosting image](https://media.geeksforgeeks.org/wp-content/uploads/20200721214745/gradientboosting.PNG)\n",
        "\n",
        "Image thanks to [Geeks for Geeks](https://www.geeksforgeeks.org/ml-gradient-boosting/)\n",
        "\n",
        "In this assignment you will:\n",
        "1. import and prepare a dataset for modeling\n",
        "2. test and evaluate 3 different boosting models and compare the fit times of each.\n",
        "3. tune the hyperparameters of the best model to reduce overfitting and improve performance."
      ]
    },
    {
      "cell_type": "code",
      "source": [
        "from google.colab import drive\n",
        "drive.mount('/content/drive')"
      ],
      "metadata": {
        "id": "uoB-f5dyDwVw",
        "outputId": "c4d9987a-e3c9-4122-c000-7c65ab873634",
        "colab": {
          "base_uri": "https://localhost:8080/"
        }
      },
      "execution_count": 57,
      "outputs": [
        {
          "output_type": "stream",
          "name": "stdout",
          "text": [
            "Drive already mounted at /content/drive; to attempt to forcibly remount, call drive.mount(\"/content/drive\", force_remount=True).\n"
          ]
        }
      ]
    },
    {
      "cell_type": "code",
      "metadata": {
        "id": "YBHKlzCubQOq"
      },
      "source": [
        "import pandas as pd\n",
        "import numpy as np\n",
        "import seaborn as sns\n",
        "import matplotlib.pyplot as plt\n",
        "from sklearn.ensemble import GradientBoostingClassifier\n",
        "from sklearn.model_selection import train_test_split, GridSearchCV\n",
        "from sklearn.preprocessing import OneHotEncoder, StandardScaler\n",
        "from sklearn.compose import make_column_selector, make_column_transformer\n",
        "from sklearn.pipeline import make_pipeline\n",
        "from sklearn.metrics import classification_report, plot_confusion_matrix\n",
        "from lightgbm import LGBMClassifier\n",
        "from xgboost import XGBClassifier\n",
        "from sklearn import set_config\n",
        "set_config(display='diagram')"
      ],
      "execution_count": 79,
      "outputs": []
    },
    {
      "cell_type": "markdown",
      "metadata": {
        "id": "1guzybQJjbn6"
      },
      "source": [
        "In this assignment you will be working with census data.  Your goal is to predict whether a person will make more or less than $50k per year in income.\n",
        "\n",
        "The data is available [here](https://drive.google.com/file/d/1drlRzq-lIY7rxQnvv_3fsxfIfLsjQ4A-/view?usp=sharing)"
      ]
    },
    {
      "cell_type": "markdown",
      "source": [
        "#Create a classification Function:"
      ],
      "metadata": {
        "id": "dI0OZPPjldhq"
      }
    },
    {
      "cell_type": "code",
      "source": [
        "import sklearn.metrics as metrics\n",
        "def evaluate_classification(model, X, y_true, classes=None, normalize='true',\n",
        "                            cmap=\"Blues\", label=\"Test Data\"): \n",
        "\n",
        "    ## Get Predictions\n",
        "    y_pred = model.predict(X)\n",
        "    \n",
        "    ## Classification Report / Scores \n",
        "    dashes = '---'*20\n",
        "    print(dashes)\n",
        "    print(f\"[i] CLASSIFICATION REPORT FOR: {label}\")\n",
        "    print(dashes)\n",
        "    \n",
        "    print(metrics.classification_report(y_true,y_pred,\n",
        "                                        target_names=classes))\n",
        "    \n",
        "\n",
        "    ## Plot a confusion matrix\n",
        "    cm = metrics.confusion_matrix(y_true,y_pred,normalize=normalize,)\n",
        "    ax = sns.heatmap(cm, annot=True,square=True,cmap=cmap)\n",
        "\n",
        "    if classes != None:\n",
        "        ## Label classes\n",
        "        ax.set_xticklabels(classes)\n",
        "        ax.set_yticklabels(classes,rotation=0)\n",
        "\n",
        "    ## Add axis labels & title\n",
        "    ax.set_ylabel('True Classes')\n",
        "    ax.set_xlabel('Predicted Classes')\n",
        "    ax.set_title('Confusion Matrix');\n",
        "    plt.show()\n",
        "    "
      ],
      "metadata": {
        "id": "yWPUhrfAQZK7"
      },
      "execution_count": 77,
      "outputs": []
    },
    {
      "cell_type": "code",
      "metadata": {
        "id": "TsllcFvrb7YC",
        "outputId": "a872f613-e180-47c1-921b-d2c7a5355464",
        "colab": {
          "base_uri": "https://localhost:8080/",
          "height": 206
        }
      },
      "source": [
        "  filename = '/content/drive/MyDrive/Coding Dojo Data Science Boot Camp/Excel Files/census_income - census_income.csv'\n",
        "  df = pd.read_csv(filename)\n",
        "  df.head() "
      ],
      "execution_count": 60,
      "outputs": [
        {
          "output_type": "execute_result",
          "data": {
            "text/html": [
              "\n",
              "  <div id=\"df-8501492a-4342-45b2-81b4-12451559110e\">\n",
              "    <div class=\"colab-df-container\">\n",
              "      <div>\n",
              "<style scoped>\n",
              "    .dataframe tbody tr th:only-of-type {\n",
              "        vertical-align: middle;\n",
              "    }\n",
              "\n",
              "    .dataframe tbody tr th {\n",
              "        vertical-align: top;\n",
              "    }\n",
              "\n",
              "    .dataframe thead th {\n",
              "        text-align: right;\n",
              "    }\n",
              "</style>\n",
              "<table border=\"1\" class=\"dataframe\">\n",
              "  <thead>\n",
              "    <tr style=\"text-align: right;\">\n",
              "      <th></th>\n",
              "      <th>Unnamed: 0</th>\n",
              "      <th>age</th>\n",
              "      <th>workclass</th>\n",
              "      <th>education</th>\n",
              "      <th>marital-status</th>\n",
              "      <th>occupation</th>\n",
              "      <th>relationship</th>\n",
              "      <th>race</th>\n",
              "      <th>sex</th>\n",
              "      <th>capital-gain</th>\n",
              "      <th>capital-loss</th>\n",
              "      <th>hours-per-week</th>\n",
              "      <th>native-country</th>\n",
              "      <th>income-class</th>\n",
              "    </tr>\n",
              "  </thead>\n",
              "  <tbody>\n",
              "    <tr>\n",
              "      <th>0</th>\n",
              "      <td>0</td>\n",
              "      <td>39</td>\n",
              "      <td>State-gov</td>\n",
              "      <td>Bachelors</td>\n",
              "      <td>Never-married</td>\n",
              "      <td>Adm-clerical</td>\n",
              "      <td>Not-in-family</td>\n",
              "      <td>White</td>\n",
              "      <td>Male</td>\n",
              "      <td>2174</td>\n",
              "      <td>0</td>\n",
              "      <td>40</td>\n",
              "      <td>United-States</td>\n",
              "      <td>&lt;=50K</td>\n",
              "    </tr>\n",
              "    <tr>\n",
              "      <th>1</th>\n",
              "      <td>1</td>\n",
              "      <td>50</td>\n",
              "      <td>Self-emp-not-inc</td>\n",
              "      <td>Bachelors</td>\n",
              "      <td>Married-civ-spouse</td>\n",
              "      <td>Exec-managerial</td>\n",
              "      <td>Husband</td>\n",
              "      <td>White</td>\n",
              "      <td>Male</td>\n",
              "      <td>0</td>\n",
              "      <td>0</td>\n",
              "      <td>13</td>\n",
              "      <td>United-States</td>\n",
              "      <td>&lt;=50K</td>\n",
              "    </tr>\n",
              "    <tr>\n",
              "      <th>2</th>\n",
              "      <td>2</td>\n",
              "      <td>38</td>\n",
              "      <td>Private</td>\n",
              "      <td>HS-grad</td>\n",
              "      <td>Divorced</td>\n",
              "      <td>Handlers-cleaners</td>\n",
              "      <td>Not-in-family</td>\n",
              "      <td>White</td>\n",
              "      <td>Male</td>\n",
              "      <td>0</td>\n",
              "      <td>0</td>\n",
              "      <td>40</td>\n",
              "      <td>United-States</td>\n",
              "      <td>&lt;=50K</td>\n",
              "    </tr>\n",
              "    <tr>\n",
              "      <th>3</th>\n",
              "      <td>3</td>\n",
              "      <td>53</td>\n",
              "      <td>Private</td>\n",
              "      <td>11th</td>\n",
              "      <td>Married-civ-spouse</td>\n",
              "      <td>Handlers-cleaners</td>\n",
              "      <td>Husband</td>\n",
              "      <td>Black</td>\n",
              "      <td>Male</td>\n",
              "      <td>0</td>\n",
              "      <td>0</td>\n",
              "      <td>40</td>\n",
              "      <td>United-States</td>\n",
              "      <td>&lt;=50K</td>\n",
              "    </tr>\n",
              "    <tr>\n",
              "      <th>4</th>\n",
              "      <td>4</td>\n",
              "      <td>28</td>\n",
              "      <td>Private</td>\n",
              "      <td>Bachelors</td>\n",
              "      <td>Married-civ-spouse</td>\n",
              "      <td>Prof-specialty</td>\n",
              "      <td>Wife</td>\n",
              "      <td>Black</td>\n",
              "      <td>Female</td>\n",
              "      <td>0</td>\n",
              "      <td>0</td>\n",
              "      <td>40</td>\n",
              "      <td>Cuba</td>\n",
              "      <td>&lt;=50K</td>\n",
              "    </tr>\n",
              "  </tbody>\n",
              "</table>\n",
              "</div>\n",
              "      <button class=\"colab-df-convert\" onclick=\"convertToInteractive('df-8501492a-4342-45b2-81b4-12451559110e')\"\n",
              "              title=\"Convert this dataframe to an interactive table.\"\n",
              "              style=\"display:none;\">\n",
              "        \n",
              "  <svg xmlns=\"http://www.w3.org/2000/svg\" height=\"24px\"viewBox=\"0 0 24 24\"\n",
              "       width=\"24px\">\n",
              "    <path d=\"M0 0h24v24H0V0z\" fill=\"none\"/>\n",
              "    <path d=\"M18.56 5.44l.94 2.06.94-2.06 2.06-.94-2.06-.94-.94-2.06-.94 2.06-2.06.94zm-11 1L8.5 8.5l.94-2.06 2.06-.94-2.06-.94L8.5 2.5l-.94 2.06-2.06.94zm10 10l.94 2.06.94-2.06 2.06-.94-2.06-.94-.94-2.06-.94 2.06-2.06.94z\"/><path d=\"M17.41 7.96l-1.37-1.37c-.4-.4-.92-.59-1.43-.59-.52 0-1.04.2-1.43.59L10.3 9.45l-7.72 7.72c-.78.78-.78 2.05 0 2.83L4 21.41c.39.39.9.59 1.41.59.51 0 1.02-.2 1.41-.59l7.78-7.78 2.81-2.81c.8-.78.8-2.07 0-2.86zM5.41 20L4 18.59l7.72-7.72 1.47 1.35L5.41 20z\"/>\n",
              "  </svg>\n",
              "      </button>\n",
              "      \n",
              "  <style>\n",
              "    .colab-df-container {\n",
              "      display:flex;\n",
              "      flex-wrap:wrap;\n",
              "      gap: 12px;\n",
              "    }\n",
              "\n",
              "    .colab-df-convert {\n",
              "      background-color: #E8F0FE;\n",
              "      border: none;\n",
              "      border-radius: 50%;\n",
              "      cursor: pointer;\n",
              "      display: none;\n",
              "      fill: #1967D2;\n",
              "      height: 32px;\n",
              "      padding: 0 0 0 0;\n",
              "      width: 32px;\n",
              "    }\n",
              "\n",
              "    .colab-df-convert:hover {\n",
              "      background-color: #E2EBFA;\n",
              "      box-shadow: 0px 1px 2px rgba(60, 64, 67, 0.3), 0px 1px 3px 1px rgba(60, 64, 67, 0.15);\n",
              "      fill: #174EA6;\n",
              "    }\n",
              "\n",
              "    [theme=dark] .colab-df-convert {\n",
              "      background-color: #3B4455;\n",
              "      fill: #D2E3FC;\n",
              "    }\n",
              "\n",
              "    [theme=dark] .colab-df-convert:hover {\n",
              "      background-color: #434B5C;\n",
              "      box-shadow: 0px 1px 3px 1px rgba(0, 0, 0, 0.15);\n",
              "      filter: drop-shadow(0px 1px 2px rgba(0, 0, 0, 0.3));\n",
              "      fill: #FFFFFF;\n",
              "    }\n",
              "  </style>\n",
              "\n",
              "      <script>\n",
              "        const buttonEl =\n",
              "          document.querySelector('#df-8501492a-4342-45b2-81b4-12451559110e button.colab-df-convert');\n",
              "        buttonEl.style.display =\n",
              "          google.colab.kernel.accessAllowed ? 'block' : 'none';\n",
              "\n",
              "        async function convertToInteractive(key) {\n",
              "          const element = document.querySelector('#df-8501492a-4342-45b2-81b4-12451559110e');\n",
              "          const dataTable =\n",
              "            await google.colab.kernel.invokeFunction('convertToInteractive',\n",
              "                                                     [key], {});\n",
              "          if (!dataTable) return;\n",
              "\n",
              "          const docLinkHtml = 'Like what you see? Visit the ' +\n",
              "            '<a target=\"_blank\" href=https://colab.research.google.com/notebooks/data_table.ipynb>data table notebook</a>'\n",
              "            + ' to learn more about interactive tables.';\n",
              "          element.innerHTML = '';\n",
              "          dataTable['output_type'] = 'display_data';\n",
              "          await google.colab.output.renderOutput(dataTable, element);\n",
              "          const docLink = document.createElement('div');\n",
              "          docLink.innerHTML = docLinkHtml;\n",
              "          element.appendChild(docLink);\n",
              "        }\n",
              "      </script>\n",
              "    </div>\n",
              "  </div>\n",
              "  "
            ],
            "text/plain": [
              "   Unnamed: 0  age  ... native-country income-class\n",
              "0           0   39  ...  United-States        <=50K\n",
              "1           1   50  ...  United-States        <=50K\n",
              "2           2   38  ...  United-States        <=50K\n",
              "3           3   53  ...  United-States        <=50K\n",
              "4           4   28  ...           Cuba        <=50K\n",
              "\n",
              "[5 rows x 14 columns]"
            ]
          },
          "metadata": {},
          "execution_count": 60
        }
      ]
    },
    {
      "cell_type": "markdown",
      "source": [
        "Prepare your dataset for modeling.\n",
        "\n",
        "Remember to: \n",
        "1. Check for missing data, bad data, and duplicates.\n",
        "2. Check your target class balance.\n",
        "3. Perform your validation split\n",
        "4. Create a preprocessing pipeline to use with your models.\n",
        "5. Fit and evaluate your models using pipelines"
      ],
      "metadata": {
        "id": "bB9VWbbmFJvH"
      }
    },
    {
      "cell_type": "code",
      "source": [
        "# Check for duplicates\n",
        "df.duplicated().sum()"
      ],
      "metadata": {
        "id": "DnbIRiXiE9oJ",
        "outputId": "85677de6-e91b-4ec3-b599-66cf66db5f88",
        "colab": {
          "base_uri": "https://localhost:8080/"
        }
      },
      "execution_count": 61,
      "outputs": [
        {
          "output_type": "execute_result",
          "data": {
            "text/plain": [
              "0"
            ]
          },
          "metadata": {},
          "execution_count": 61
        }
      ]
    },
    {
      "cell_type": "markdown",
      "source": [
        "There are no duplicates"
      ],
      "metadata": {
        "id": "frNic8zrFSek"
      }
    },
    {
      "cell_type": "code",
      "source": [
        "# Check for missing data\n",
        "df.isnull().sum()"
      ],
      "metadata": {
        "id": "nWA07cwyFFSg",
        "outputId": "5321ce9e-798b-4ffb-bc15-a5d9cebad542",
        "colab": {
          "base_uri": "https://localhost:8080/"
        }
      },
      "execution_count": 62,
      "outputs": [
        {
          "output_type": "execute_result",
          "data": {
            "text/plain": [
              "Unnamed: 0        0\n",
              "age               0\n",
              "workclass         0\n",
              "education         0\n",
              "marital-status    0\n",
              "occupation        0\n",
              "relationship      0\n",
              "race              0\n",
              "sex               0\n",
              "capital-gain      0\n",
              "capital-loss      0\n",
              "hours-per-week    0\n",
              "native-country    0\n",
              "income-class      0\n",
              "dtype: int64"
            ]
          },
          "metadata": {},
          "execution_count": 62
        }
      ]
    },
    {
      "cell_type": "markdown",
      "metadata": {
        "id": "e6_1E6psj1J0"
      },
      "source": [
        "There is no missing data"
      ]
    },
    {
      "cell_type": "code",
      "metadata": {
        "id": "x-Wh3RssgPAu",
        "outputId": "8b084d12-6cf6-4770-fe9a-b02141847232",
        "colab": {
          "base_uri": "https://localhost:8080/",
          "height": 300
        }
      },
      "source": [
        "# Check for bad data\n",
        "df.describe()"
      ],
      "execution_count": 63,
      "outputs": [
        {
          "output_type": "execute_result",
          "data": {
            "text/html": [
              "\n",
              "  <div id=\"df-75aea5fe-9040-4b98-af64-8d40fbc65a6c\">\n",
              "    <div class=\"colab-df-container\">\n",
              "      <div>\n",
              "<style scoped>\n",
              "    .dataframe tbody tr th:only-of-type {\n",
              "        vertical-align: middle;\n",
              "    }\n",
              "\n",
              "    .dataframe tbody tr th {\n",
              "        vertical-align: top;\n",
              "    }\n",
              "\n",
              "    .dataframe thead th {\n",
              "        text-align: right;\n",
              "    }\n",
              "</style>\n",
              "<table border=\"1\" class=\"dataframe\">\n",
              "  <thead>\n",
              "    <tr style=\"text-align: right;\">\n",
              "      <th></th>\n",
              "      <th>Unnamed: 0</th>\n",
              "      <th>age</th>\n",
              "      <th>capital-gain</th>\n",
              "      <th>capital-loss</th>\n",
              "      <th>hours-per-week</th>\n",
              "    </tr>\n",
              "  </thead>\n",
              "  <tbody>\n",
              "    <tr>\n",
              "      <th>count</th>\n",
              "      <td>32561.000000</td>\n",
              "      <td>32561.000000</td>\n",
              "      <td>32561.000000</td>\n",
              "      <td>32561.000000</td>\n",
              "      <td>32561.000000</td>\n",
              "    </tr>\n",
              "    <tr>\n",
              "      <th>mean</th>\n",
              "      <td>16280.000000</td>\n",
              "      <td>38.581647</td>\n",
              "      <td>1077.648844</td>\n",
              "      <td>87.303830</td>\n",
              "      <td>40.437456</td>\n",
              "    </tr>\n",
              "    <tr>\n",
              "      <th>std</th>\n",
              "      <td>9399.695394</td>\n",
              "      <td>13.640433</td>\n",
              "      <td>7385.292085</td>\n",
              "      <td>402.960219</td>\n",
              "      <td>12.347429</td>\n",
              "    </tr>\n",
              "    <tr>\n",
              "      <th>min</th>\n",
              "      <td>0.000000</td>\n",
              "      <td>17.000000</td>\n",
              "      <td>0.000000</td>\n",
              "      <td>0.000000</td>\n",
              "      <td>1.000000</td>\n",
              "    </tr>\n",
              "    <tr>\n",
              "      <th>25%</th>\n",
              "      <td>8140.000000</td>\n",
              "      <td>28.000000</td>\n",
              "      <td>0.000000</td>\n",
              "      <td>0.000000</td>\n",
              "      <td>40.000000</td>\n",
              "    </tr>\n",
              "    <tr>\n",
              "      <th>50%</th>\n",
              "      <td>16280.000000</td>\n",
              "      <td>37.000000</td>\n",
              "      <td>0.000000</td>\n",
              "      <td>0.000000</td>\n",
              "      <td>40.000000</td>\n",
              "    </tr>\n",
              "    <tr>\n",
              "      <th>75%</th>\n",
              "      <td>24420.000000</td>\n",
              "      <td>48.000000</td>\n",
              "      <td>0.000000</td>\n",
              "      <td>0.000000</td>\n",
              "      <td>45.000000</td>\n",
              "    </tr>\n",
              "    <tr>\n",
              "      <th>max</th>\n",
              "      <td>32560.000000</td>\n",
              "      <td>90.000000</td>\n",
              "      <td>99999.000000</td>\n",
              "      <td>4356.000000</td>\n",
              "      <td>99.000000</td>\n",
              "    </tr>\n",
              "  </tbody>\n",
              "</table>\n",
              "</div>\n",
              "      <button class=\"colab-df-convert\" onclick=\"convertToInteractive('df-75aea5fe-9040-4b98-af64-8d40fbc65a6c')\"\n",
              "              title=\"Convert this dataframe to an interactive table.\"\n",
              "              style=\"display:none;\">\n",
              "        \n",
              "  <svg xmlns=\"http://www.w3.org/2000/svg\" height=\"24px\"viewBox=\"0 0 24 24\"\n",
              "       width=\"24px\">\n",
              "    <path d=\"M0 0h24v24H0V0z\" fill=\"none\"/>\n",
              "    <path d=\"M18.56 5.44l.94 2.06.94-2.06 2.06-.94-2.06-.94-.94-2.06-.94 2.06-2.06.94zm-11 1L8.5 8.5l.94-2.06 2.06-.94-2.06-.94L8.5 2.5l-.94 2.06-2.06.94zm10 10l.94 2.06.94-2.06 2.06-.94-2.06-.94-.94-2.06-.94 2.06-2.06.94z\"/><path d=\"M17.41 7.96l-1.37-1.37c-.4-.4-.92-.59-1.43-.59-.52 0-1.04.2-1.43.59L10.3 9.45l-7.72 7.72c-.78.78-.78 2.05 0 2.83L4 21.41c.39.39.9.59 1.41.59.51 0 1.02-.2 1.41-.59l7.78-7.78 2.81-2.81c.8-.78.8-2.07 0-2.86zM5.41 20L4 18.59l7.72-7.72 1.47 1.35L5.41 20z\"/>\n",
              "  </svg>\n",
              "      </button>\n",
              "      \n",
              "  <style>\n",
              "    .colab-df-container {\n",
              "      display:flex;\n",
              "      flex-wrap:wrap;\n",
              "      gap: 12px;\n",
              "    }\n",
              "\n",
              "    .colab-df-convert {\n",
              "      background-color: #E8F0FE;\n",
              "      border: none;\n",
              "      border-radius: 50%;\n",
              "      cursor: pointer;\n",
              "      display: none;\n",
              "      fill: #1967D2;\n",
              "      height: 32px;\n",
              "      padding: 0 0 0 0;\n",
              "      width: 32px;\n",
              "    }\n",
              "\n",
              "    .colab-df-convert:hover {\n",
              "      background-color: #E2EBFA;\n",
              "      box-shadow: 0px 1px 2px rgba(60, 64, 67, 0.3), 0px 1px 3px 1px rgba(60, 64, 67, 0.15);\n",
              "      fill: #174EA6;\n",
              "    }\n",
              "\n",
              "    [theme=dark] .colab-df-convert {\n",
              "      background-color: #3B4455;\n",
              "      fill: #D2E3FC;\n",
              "    }\n",
              "\n",
              "    [theme=dark] .colab-df-convert:hover {\n",
              "      background-color: #434B5C;\n",
              "      box-shadow: 0px 1px 3px 1px rgba(0, 0, 0, 0.15);\n",
              "      filter: drop-shadow(0px 1px 2px rgba(0, 0, 0, 0.3));\n",
              "      fill: #FFFFFF;\n",
              "    }\n",
              "  </style>\n",
              "\n",
              "      <script>\n",
              "        const buttonEl =\n",
              "          document.querySelector('#df-75aea5fe-9040-4b98-af64-8d40fbc65a6c button.colab-df-convert');\n",
              "        buttonEl.style.display =\n",
              "          google.colab.kernel.accessAllowed ? 'block' : 'none';\n",
              "\n",
              "        async function convertToInteractive(key) {\n",
              "          const element = document.querySelector('#df-75aea5fe-9040-4b98-af64-8d40fbc65a6c');\n",
              "          const dataTable =\n",
              "            await google.colab.kernel.invokeFunction('convertToInteractive',\n",
              "                                                     [key], {});\n",
              "          if (!dataTable) return;\n",
              "\n",
              "          const docLinkHtml = 'Like what you see? Visit the ' +\n",
              "            '<a target=\"_blank\" href=https://colab.research.google.com/notebooks/data_table.ipynb>data table notebook</a>'\n",
              "            + ' to learn more about interactive tables.';\n",
              "          element.innerHTML = '';\n",
              "          dataTable['output_type'] = 'display_data';\n",
              "          await google.colab.output.renderOutput(dataTable, element);\n",
              "          const docLink = document.createElement('div');\n",
              "          docLink.innerHTML = docLinkHtml;\n",
              "          element.appendChild(docLink);\n",
              "        }\n",
              "      </script>\n",
              "    </div>\n",
              "  </div>\n",
              "  "
            ],
            "text/plain": [
              "         Unnamed: 0           age  capital-gain  capital-loss  hours-per-week\n",
              "count  32561.000000  32561.000000  32561.000000  32561.000000    32561.000000\n",
              "mean   16280.000000     38.581647   1077.648844     87.303830       40.437456\n",
              "std     9399.695394     13.640433   7385.292085    402.960219       12.347429\n",
              "min        0.000000     17.000000      0.000000      0.000000        1.000000\n",
              "25%     8140.000000     28.000000      0.000000      0.000000       40.000000\n",
              "50%    16280.000000     37.000000      0.000000      0.000000       40.000000\n",
              "75%    24420.000000     48.000000      0.000000      0.000000       45.000000\n",
              "max    32560.000000     90.000000  99999.000000   4356.000000       99.000000"
            ]
          },
          "metadata": {},
          "execution_count": 63
        }
      ]
    },
    {
      "cell_type": "code",
      "source": [
        "df['capital-gain'].value_counts()"
      ],
      "metadata": {
        "id": "7QwBx65aFu-H",
        "outputId": "2ca2f67e-ce45-4706-ccfa-51c27b5b6e16",
        "colab": {
          "base_uri": "https://localhost:8080/"
        }
      },
      "execution_count": 64,
      "outputs": [
        {
          "output_type": "execute_result",
          "data": {
            "text/plain": [
              "0        29849\n",
              "15024      347\n",
              "7688       284\n",
              "7298       246\n",
              "99999      159\n",
              "         ...  \n",
              "1111         1\n",
              "2538         1\n",
              "22040        1\n",
              "4931         1\n",
              "5060         1\n",
              "Name: capital-gain, Length: 119, dtype: int64"
            ]
          },
          "metadata": {},
          "execution_count": 64
        }
      ]
    },
    {
      "cell_type": "code",
      "source": [
        "df.dtypes"
      ],
      "metadata": {
        "id": "Dc_bNC37S85B",
        "outputId": "4e04c3b1-7e77-4838-e991-54e921096de8",
        "colab": {
          "base_uri": "https://localhost:8080/"
        }
      },
      "execution_count": 65,
      "outputs": [
        {
          "output_type": "execute_result",
          "data": {
            "text/plain": [
              "Unnamed: 0         int64\n",
              "age                int64\n",
              "workclass         object\n",
              "education         object\n",
              "marital-status    object\n",
              "occupation        object\n",
              "relationship      object\n",
              "race              object\n",
              "sex               object\n",
              "capital-gain       int64\n",
              "capital-loss       int64\n",
              "hours-per-week     int64\n",
              "native-country    object\n",
              "income-class      object\n",
              "dtype: object"
            ]
          },
          "metadata": {},
          "execution_count": 65
        }
      ]
    },
    {
      "cell_type": "code",
      "source": [
        "df.head()"
      ],
      "metadata": {
        "id": "4lyI2PAaUB0U",
        "outputId": "3f6d24dd-d916-4b8d-e71c-e1fa68fb28bf",
        "colab": {
          "base_uri": "https://localhost:8080/",
          "height": 206
        }
      },
      "execution_count": 66,
      "outputs": [
        {
          "output_type": "execute_result",
          "data": {
            "text/html": [
              "\n",
              "  <div id=\"df-6dab0d00-c691-4e35-bf2b-8e17ffaacaed\">\n",
              "    <div class=\"colab-df-container\">\n",
              "      <div>\n",
              "<style scoped>\n",
              "    .dataframe tbody tr th:only-of-type {\n",
              "        vertical-align: middle;\n",
              "    }\n",
              "\n",
              "    .dataframe tbody tr th {\n",
              "        vertical-align: top;\n",
              "    }\n",
              "\n",
              "    .dataframe thead th {\n",
              "        text-align: right;\n",
              "    }\n",
              "</style>\n",
              "<table border=\"1\" class=\"dataframe\">\n",
              "  <thead>\n",
              "    <tr style=\"text-align: right;\">\n",
              "      <th></th>\n",
              "      <th>Unnamed: 0</th>\n",
              "      <th>age</th>\n",
              "      <th>workclass</th>\n",
              "      <th>education</th>\n",
              "      <th>marital-status</th>\n",
              "      <th>occupation</th>\n",
              "      <th>relationship</th>\n",
              "      <th>race</th>\n",
              "      <th>sex</th>\n",
              "      <th>capital-gain</th>\n",
              "      <th>capital-loss</th>\n",
              "      <th>hours-per-week</th>\n",
              "      <th>native-country</th>\n",
              "      <th>income-class</th>\n",
              "    </tr>\n",
              "  </thead>\n",
              "  <tbody>\n",
              "    <tr>\n",
              "      <th>0</th>\n",
              "      <td>0</td>\n",
              "      <td>39</td>\n",
              "      <td>State-gov</td>\n",
              "      <td>Bachelors</td>\n",
              "      <td>Never-married</td>\n",
              "      <td>Adm-clerical</td>\n",
              "      <td>Not-in-family</td>\n",
              "      <td>White</td>\n",
              "      <td>Male</td>\n",
              "      <td>2174</td>\n",
              "      <td>0</td>\n",
              "      <td>40</td>\n",
              "      <td>United-States</td>\n",
              "      <td>&lt;=50K</td>\n",
              "    </tr>\n",
              "    <tr>\n",
              "      <th>1</th>\n",
              "      <td>1</td>\n",
              "      <td>50</td>\n",
              "      <td>Self-emp-not-inc</td>\n",
              "      <td>Bachelors</td>\n",
              "      <td>Married-civ-spouse</td>\n",
              "      <td>Exec-managerial</td>\n",
              "      <td>Husband</td>\n",
              "      <td>White</td>\n",
              "      <td>Male</td>\n",
              "      <td>0</td>\n",
              "      <td>0</td>\n",
              "      <td>13</td>\n",
              "      <td>United-States</td>\n",
              "      <td>&lt;=50K</td>\n",
              "    </tr>\n",
              "    <tr>\n",
              "      <th>2</th>\n",
              "      <td>2</td>\n",
              "      <td>38</td>\n",
              "      <td>Private</td>\n",
              "      <td>HS-grad</td>\n",
              "      <td>Divorced</td>\n",
              "      <td>Handlers-cleaners</td>\n",
              "      <td>Not-in-family</td>\n",
              "      <td>White</td>\n",
              "      <td>Male</td>\n",
              "      <td>0</td>\n",
              "      <td>0</td>\n",
              "      <td>40</td>\n",
              "      <td>United-States</td>\n",
              "      <td>&lt;=50K</td>\n",
              "    </tr>\n",
              "    <tr>\n",
              "      <th>3</th>\n",
              "      <td>3</td>\n",
              "      <td>53</td>\n",
              "      <td>Private</td>\n",
              "      <td>11th</td>\n",
              "      <td>Married-civ-spouse</td>\n",
              "      <td>Handlers-cleaners</td>\n",
              "      <td>Husband</td>\n",
              "      <td>Black</td>\n",
              "      <td>Male</td>\n",
              "      <td>0</td>\n",
              "      <td>0</td>\n",
              "      <td>40</td>\n",
              "      <td>United-States</td>\n",
              "      <td>&lt;=50K</td>\n",
              "    </tr>\n",
              "    <tr>\n",
              "      <th>4</th>\n",
              "      <td>4</td>\n",
              "      <td>28</td>\n",
              "      <td>Private</td>\n",
              "      <td>Bachelors</td>\n",
              "      <td>Married-civ-spouse</td>\n",
              "      <td>Prof-specialty</td>\n",
              "      <td>Wife</td>\n",
              "      <td>Black</td>\n",
              "      <td>Female</td>\n",
              "      <td>0</td>\n",
              "      <td>0</td>\n",
              "      <td>40</td>\n",
              "      <td>Cuba</td>\n",
              "      <td>&lt;=50K</td>\n",
              "    </tr>\n",
              "  </tbody>\n",
              "</table>\n",
              "</div>\n",
              "      <button class=\"colab-df-convert\" onclick=\"convertToInteractive('df-6dab0d00-c691-4e35-bf2b-8e17ffaacaed')\"\n",
              "              title=\"Convert this dataframe to an interactive table.\"\n",
              "              style=\"display:none;\">\n",
              "        \n",
              "  <svg xmlns=\"http://www.w3.org/2000/svg\" height=\"24px\"viewBox=\"0 0 24 24\"\n",
              "       width=\"24px\">\n",
              "    <path d=\"M0 0h24v24H0V0z\" fill=\"none\"/>\n",
              "    <path d=\"M18.56 5.44l.94 2.06.94-2.06 2.06-.94-2.06-.94-.94-2.06-.94 2.06-2.06.94zm-11 1L8.5 8.5l.94-2.06 2.06-.94-2.06-.94L8.5 2.5l-.94 2.06-2.06.94zm10 10l.94 2.06.94-2.06 2.06-.94-2.06-.94-.94-2.06-.94 2.06-2.06.94z\"/><path d=\"M17.41 7.96l-1.37-1.37c-.4-.4-.92-.59-1.43-.59-.52 0-1.04.2-1.43.59L10.3 9.45l-7.72 7.72c-.78.78-.78 2.05 0 2.83L4 21.41c.39.39.9.59 1.41.59.51 0 1.02-.2 1.41-.59l7.78-7.78 2.81-2.81c.8-.78.8-2.07 0-2.86zM5.41 20L4 18.59l7.72-7.72 1.47 1.35L5.41 20z\"/>\n",
              "  </svg>\n",
              "      </button>\n",
              "      \n",
              "  <style>\n",
              "    .colab-df-container {\n",
              "      display:flex;\n",
              "      flex-wrap:wrap;\n",
              "      gap: 12px;\n",
              "    }\n",
              "\n",
              "    .colab-df-convert {\n",
              "      background-color: #E8F0FE;\n",
              "      border: none;\n",
              "      border-radius: 50%;\n",
              "      cursor: pointer;\n",
              "      display: none;\n",
              "      fill: #1967D2;\n",
              "      height: 32px;\n",
              "      padding: 0 0 0 0;\n",
              "      width: 32px;\n",
              "    }\n",
              "\n",
              "    .colab-df-convert:hover {\n",
              "      background-color: #E2EBFA;\n",
              "      box-shadow: 0px 1px 2px rgba(60, 64, 67, 0.3), 0px 1px 3px 1px rgba(60, 64, 67, 0.15);\n",
              "      fill: #174EA6;\n",
              "    }\n",
              "\n",
              "    [theme=dark] .colab-df-convert {\n",
              "      background-color: #3B4455;\n",
              "      fill: #D2E3FC;\n",
              "    }\n",
              "\n",
              "    [theme=dark] .colab-df-convert:hover {\n",
              "      background-color: #434B5C;\n",
              "      box-shadow: 0px 1px 3px 1px rgba(0, 0, 0, 0.15);\n",
              "      filter: drop-shadow(0px 1px 2px rgba(0, 0, 0, 0.3));\n",
              "      fill: #FFFFFF;\n",
              "    }\n",
              "  </style>\n",
              "\n",
              "      <script>\n",
              "        const buttonEl =\n",
              "          document.querySelector('#df-6dab0d00-c691-4e35-bf2b-8e17ffaacaed button.colab-df-convert');\n",
              "        buttonEl.style.display =\n",
              "          google.colab.kernel.accessAllowed ? 'block' : 'none';\n",
              "\n",
              "        async function convertToInteractive(key) {\n",
              "          const element = document.querySelector('#df-6dab0d00-c691-4e35-bf2b-8e17ffaacaed');\n",
              "          const dataTable =\n",
              "            await google.colab.kernel.invokeFunction('convertToInteractive',\n",
              "                                                     [key], {});\n",
              "          if (!dataTable) return;\n",
              "\n",
              "          const docLinkHtml = 'Like what you see? Visit the ' +\n",
              "            '<a target=\"_blank\" href=https://colab.research.google.com/notebooks/data_table.ipynb>data table notebook</a>'\n",
              "            + ' to learn more about interactive tables.';\n",
              "          element.innerHTML = '';\n",
              "          dataTable['output_type'] = 'display_data';\n",
              "          await google.colab.output.renderOutput(dataTable, element);\n",
              "          const docLink = document.createElement('div');\n",
              "          docLink.innerHTML = docLinkHtml;\n",
              "          element.appendChild(docLink);\n",
              "        }\n",
              "      </script>\n",
              "    </div>\n",
              "  </div>\n",
              "  "
            ],
            "text/plain": [
              "   Unnamed: 0  age  ... native-country income-class\n",
              "0           0   39  ...  United-States        <=50K\n",
              "1           1   50  ...  United-States        <=50K\n",
              "2           2   38  ...  United-States        <=50K\n",
              "3           3   53  ...  United-States        <=50K\n",
              "4           4   28  ...           Cuba        <=50K\n",
              "\n",
              "[5 rows x 14 columns]"
            ]
          },
          "metadata": {},
          "execution_count": 66
        }
      ]
    },
    {
      "cell_type": "code",
      "source": [
        "# Check the target balance\n",
        "df['income-class'].value_counts(normalize=True)"
      ],
      "metadata": {
        "id": "BTyCUPTlVe_c",
        "outputId": "786ebf3d-aa10-4614-fcec-19ab9cd89f96",
        "colab": {
          "base_uri": "https://localhost:8080/"
        }
      },
      "execution_count": 67,
      "outputs": [
        {
          "output_type": "execute_result",
          "data": {
            "text/plain": [
              "<=50K    0.75919\n",
              ">50K     0.24081\n",
              "Name: income-class, dtype: float64"
            ]
          },
          "metadata": {},
          "execution_count": 67
        }
      ]
    },
    {
      "cell_type": "code",
      "source": [
        "# Drop unneccessary Columns\n",
        "df.drop(columns= 'Unnamed: 0', inplace=True)\n",
        "# Binarize target column\n",
        "df['income-class']= df['income-class'].map({'<=50K': 1, '>50K': 0})\n",
        "# Save X data\n",
        "X = df.drop(columns='income-class')\n",
        "# Encode the target\n",
        "y = df['income-class']"
      ],
      "metadata": {
        "id": "SdV-ZiRiYEgh"
      },
      "execution_count": 68,
      "outputs": []
    },
    {
      "cell_type": "code",
      "source": [
        "# Perform validation split\n",
        "X_train, X_test, y_train, y_test = train_test_split(X, y, random_state=42)"
      ],
      "metadata": {
        "id": "f7mE4PFDSUJT"
      },
      "execution_count": 69,
      "outputs": []
    },
    {
      "cell_type": "code",
      "source": [
        "# Create a preprocessing pipeline to use with model\n",
        "# Instantiate model and fit on training set\n",
        "num_selector = make_column_selector(dtype_include='number')\n",
        "cat_selector = make_column_selector(dtype_include='object')\n",
        "scaler = StandardScaler()\n",
        "ohe_encoder = OneHotEncoder(sparse=False, handle_unknown='ignore')"
      ],
      "metadata": {
        "id": "mbd0J0lradxR"
      },
      "execution_count": 70,
      "outputs": []
    },
    {
      "cell_type": "code",
      "source": [
        "# Make tuples\n",
        "number_tuple = (scaler, num_selector)\n",
        "category_tuple = (ohe_encoder, cat_selector)"
      ],
      "metadata": {
        "id": "pyNanfcKjbcA"
      },
      "execution_count": 71,
      "outputs": []
    },
    {
      "cell_type": "code",
      "source": [
        "# Make preprocesseor\n",
        "preprocessor = make_column_transformer(number_tuple, category_tuple)\n",
        "preprocessor"
      ],
      "metadata": {
        "id": "Xy33nlavjmfv",
        "outputId": "1a4262ab-377f-49a7-ec6e-6387d6ef1510",
        "colab": {
          "base_uri": "https://localhost:8080/",
          "height": 118
        }
      },
      "execution_count": 72,
      "outputs": [
        {
          "output_type": "execute_result",
          "data": {
            "text/html": [
              "<style>#sk-e870281b-13ed-4a92-960f-ea34e90e7a6c {color: black;background-color: white;}#sk-e870281b-13ed-4a92-960f-ea34e90e7a6c pre{padding: 0;}#sk-e870281b-13ed-4a92-960f-ea34e90e7a6c div.sk-toggleable {background-color: white;}#sk-e870281b-13ed-4a92-960f-ea34e90e7a6c label.sk-toggleable__label {cursor: pointer;display: block;width: 100%;margin-bottom: 0;padding: 0.3em;box-sizing: border-box;text-align: center;}#sk-e870281b-13ed-4a92-960f-ea34e90e7a6c label.sk-toggleable__label-arrow:before {content: \"▸\";float: left;margin-right: 0.25em;color: #696969;}#sk-e870281b-13ed-4a92-960f-ea34e90e7a6c label.sk-toggleable__label-arrow:hover:before {color: black;}#sk-e870281b-13ed-4a92-960f-ea34e90e7a6c div.sk-estimator:hover label.sk-toggleable__label-arrow:before {color: black;}#sk-e870281b-13ed-4a92-960f-ea34e90e7a6c div.sk-toggleable__content {max-height: 0;max-width: 0;overflow: hidden;text-align: left;background-color: #f0f8ff;}#sk-e870281b-13ed-4a92-960f-ea34e90e7a6c div.sk-toggleable__content pre {margin: 0.2em;color: black;border-radius: 0.25em;background-color: #f0f8ff;}#sk-e870281b-13ed-4a92-960f-ea34e90e7a6c input.sk-toggleable__control:checked~div.sk-toggleable__content {max-height: 200px;max-width: 100%;overflow: auto;}#sk-e870281b-13ed-4a92-960f-ea34e90e7a6c input.sk-toggleable__control:checked~label.sk-toggleable__label-arrow:before {content: \"▾\";}#sk-e870281b-13ed-4a92-960f-ea34e90e7a6c div.sk-estimator input.sk-toggleable__control:checked~label.sk-toggleable__label {background-color: #d4ebff;}#sk-e870281b-13ed-4a92-960f-ea34e90e7a6c div.sk-label input.sk-toggleable__control:checked~label.sk-toggleable__label {background-color: #d4ebff;}#sk-e870281b-13ed-4a92-960f-ea34e90e7a6c input.sk-hidden--visually {border: 0;clip: rect(1px 1px 1px 1px);clip: rect(1px, 1px, 1px, 1px);height: 1px;margin: -1px;overflow: hidden;padding: 0;position: absolute;width: 1px;}#sk-e870281b-13ed-4a92-960f-ea34e90e7a6c div.sk-estimator {font-family: monospace;background-color: #f0f8ff;border: 1px dotted black;border-radius: 0.25em;box-sizing: border-box;margin-bottom: 0.5em;}#sk-e870281b-13ed-4a92-960f-ea34e90e7a6c div.sk-estimator:hover {background-color: #d4ebff;}#sk-e870281b-13ed-4a92-960f-ea34e90e7a6c div.sk-parallel-item::after {content: \"\";width: 100%;border-bottom: 1px solid gray;flex-grow: 1;}#sk-e870281b-13ed-4a92-960f-ea34e90e7a6c div.sk-label:hover label.sk-toggleable__label {background-color: #d4ebff;}#sk-e870281b-13ed-4a92-960f-ea34e90e7a6c div.sk-serial::before {content: \"\";position: absolute;border-left: 1px solid gray;box-sizing: border-box;top: 2em;bottom: 0;left: 50%;}#sk-e870281b-13ed-4a92-960f-ea34e90e7a6c div.sk-serial {display: flex;flex-direction: column;align-items: center;background-color: white;padding-right: 0.2em;padding-left: 0.2em;}#sk-e870281b-13ed-4a92-960f-ea34e90e7a6c div.sk-item {z-index: 1;}#sk-e870281b-13ed-4a92-960f-ea34e90e7a6c div.sk-parallel {display: flex;align-items: stretch;justify-content: center;background-color: white;}#sk-e870281b-13ed-4a92-960f-ea34e90e7a6c div.sk-parallel::before {content: \"\";position: absolute;border-left: 1px solid gray;box-sizing: border-box;top: 2em;bottom: 0;left: 50%;}#sk-e870281b-13ed-4a92-960f-ea34e90e7a6c div.sk-parallel-item {display: flex;flex-direction: column;position: relative;background-color: white;}#sk-e870281b-13ed-4a92-960f-ea34e90e7a6c div.sk-parallel-item:first-child::after {align-self: flex-end;width: 50%;}#sk-e870281b-13ed-4a92-960f-ea34e90e7a6c div.sk-parallel-item:last-child::after {align-self: flex-start;width: 50%;}#sk-e870281b-13ed-4a92-960f-ea34e90e7a6c div.sk-parallel-item:only-child::after {width: 0;}#sk-e870281b-13ed-4a92-960f-ea34e90e7a6c div.sk-dashed-wrapped {border: 1px dashed gray;margin: 0 0.4em 0.5em 0.4em;box-sizing: border-box;padding-bottom: 0.4em;background-color: white;position: relative;}#sk-e870281b-13ed-4a92-960f-ea34e90e7a6c div.sk-label label {font-family: monospace;font-weight: bold;background-color: white;display: inline-block;line-height: 1.2em;}#sk-e870281b-13ed-4a92-960f-ea34e90e7a6c div.sk-label-container {position: relative;z-index: 2;text-align: center;}#sk-e870281b-13ed-4a92-960f-ea34e90e7a6c div.sk-container {/* jupyter's `normalize.less` sets `[hidden] { display: none; }` but bootstrap.min.css set `[hidden] { display: none !important; }` so we also need the `!important` here to be able to override the default hidden behavior on the sphinx rendered scikit-learn.org. See: https://github.com/scikit-learn/scikit-learn/issues/21755 */display: inline-block !important;position: relative;}#sk-e870281b-13ed-4a92-960f-ea34e90e7a6c div.sk-text-repr-fallback {display: none;}</style><div id=\"sk-e870281b-13ed-4a92-960f-ea34e90e7a6c\" class=\"sk-top-container\"><div class=\"sk-text-repr-fallback\"><pre>ColumnTransformer(transformers=[(&#x27;standardscaler&#x27;, StandardScaler(),\n",
              "                                 &lt;sklearn.compose._column_transformer.make_column_selector object at 0x7fd16ebb8d10&gt;),\n",
              "                                (&#x27;onehotencoder&#x27;,\n",
              "                                 OneHotEncoder(handle_unknown=&#x27;ignore&#x27;,\n",
              "                                               sparse=False),\n",
              "                                 &lt;sklearn.compose._column_transformer.make_column_selector object at 0x7fd16ebb8dd0&gt;)])</pre><b>Please rerun this cell to show the HTML repr or trust the notebook.</b></div><div class=\"sk-container\" hidden><div class=\"sk-item sk-dashed-wrapped\"><div class=\"sk-label-container\"><div class=\"sk-label sk-toggleable\"><input class=\"sk-toggleable__control sk-hidden--visually\" id=\"8ff8d67c-21eb-449c-8d84-26de53dfdd1d\" type=\"checkbox\" ><label for=\"8ff8d67c-21eb-449c-8d84-26de53dfdd1d\" class=\"sk-toggleable__label sk-toggleable__label-arrow\">ColumnTransformer</label><div class=\"sk-toggleable__content\"><pre>ColumnTransformer(transformers=[(&#x27;standardscaler&#x27;, StandardScaler(),\n",
              "                                 &lt;sklearn.compose._column_transformer.make_column_selector object at 0x7fd16ebb8d10&gt;),\n",
              "                                (&#x27;onehotencoder&#x27;,\n",
              "                                 OneHotEncoder(handle_unknown=&#x27;ignore&#x27;,\n",
              "                                               sparse=False),\n",
              "                                 &lt;sklearn.compose._column_transformer.make_column_selector object at 0x7fd16ebb8dd0&gt;)])</pre></div></div></div><div class=\"sk-parallel\"><div class=\"sk-parallel-item\"><div class=\"sk-item\"><div class=\"sk-label-container\"><div class=\"sk-label sk-toggleable\"><input class=\"sk-toggleable__control sk-hidden--visually\" id=\"ef8db4e9-5f94-4b18-af37-d63d02878891\" type=\"checkbox\" ><label for=\"ef8db4e9-5f94-4b18-af37-d63d02878891\" class=\"sk-toggleable__label sk-toggleable__label-arrow\">standardscaler</label><div class=\"sk-toggleable__content\"><pre>&lt;sklearn.compose._column_transformer.make_column_selector object at 0x7fd16ebb8d10&gt;</pre></div></div></div><div class=\"sk-serial\"><div class=\"sk-item\"><div class=\"sk-estimator sk-toggleable\"><input class=\"sk-toggleable__control sk-hidden--visually\" id=\"1b83be25-2ee3-4e00-802c-f8f75f8d02d9\" type=\"checkbox\" ><label for=\"1b83be25-2ee3-4e00-802c-f8f75f8d02d9\" class=\"sk-toggleable__label sk-toggleable__label-arrow\">StandardScaler</label><div class=\"sk-toggleable__content\"><pre>StandardScaler()</pre></div></div></div></div></div></div><div class=\"sk-parallel-item\"><div class=\"sk-item\"><div class=\"sk-label-container\"><div class=\"sk-label sk-toggleable\"><input class=\"sk-toggleable__control sk-hidden--visually\" id=\"928235dd-3675-4a0e-9307-bfe1b3547644\" type=\"checkbox\" ><label for=\"928235dd-3675-4a0e-9307-bfe1b3547644\" class=\"sk-toggleable__label sk-toggleable__label-arrow\">onehotencoder</label><div class=\"sk-toggleable__content\"><pre>&lt;sklearn.compose._column_transformer.make_column_selector object at 0x7fd16ebb8dd0&gt;</pre></div></div></div><div class=\"sk-serial\"><div class=\"sk-item\"><div class=\"sk-estimator sk-toggleable\"><input class=\"sk-toggleable__control sk-hidden--visually\" id=\"279eabf0-97d8-4b63-b695-091c6e83534d\" type=\"checkbox\" ><label for=\"279eabf0-97d8-4b63-b695-091c6e83534d\" class=\"sk-toggleable__label sk-toggleable__label-arrow\">OneHotEncoder</label><div class=\"sk-toggleable__content\"><pre>OneHotEncoder(handle_unknown=&#x27;ignore&#x27;, sparse=False)</pre></div></div></div></div></div></div></div></div></div></div>"
            ],
            "text/plain": [
              "ColumnTransformer(transformers=[('standardscaler', StandardScaler(),\n",
              "                                 <sklearn.compose._column_transformer.make_column_selector object at 0x7fd16ebb8d10>),\n",
              "                                ('onehotencoder',\n",
              "                                 OneHotEncoder(handle_unknown='ignore',\n",
              "                                               sparse=False),\n",
              "                                 <sklearn.compose._column_transformer.make_column_selector object at 0x7fd16ebb8dd0>)])"
            ]
          },
          "metadata": {},
          "execution_count": 72
        }
      ]
    },
    {
      "cell_type": "code",
      "source": [
        ""
      ],
      "metadata": {
        "id": "-ufACLvn7seX"
      },
      "execution_count": 72,
      "outputs": []
    },
    {
      "cell_type": "markdown",
      "metadata": {
        "id": "OOIAxdz7k7d_"
      },
      "source": [
        "# eXtreme Gradient Boosting\n",
        "We are going to compare both metrics and fit times for our models.  Notice the 'cell magic' in the top of the cell below.  By putting `%%time` at the top of a notebook cell, we can tell it to output how long that cell took to run.  We can use this to compare the speed of each of our different models.  Fit times can be very important for models in deployment, especially with very large dataset and/or many features.\n",
        "\n",
        "Instantiate an eXtreme Gradient Boosting Classifier (XGBClassifier) below, fit it, and print out a classification report.  Take note of the accuracy, recall, precision, and f1-score, as well as the run time of the cell to compare to our next models."
      ]
    },
    {
      "cell_type": "code",
      "metadata": {
        "id": "du_JvXzBgHcU",
        "colab": {
          "base_uri": "https://localhost:8080/"
        },
        "outputId": "9428b7d2-c8a8-44b0-d69f-b2c5bf5d41fe"
      },
      "source": [
        "%%time\n",
        "# Instantiate the model\n",
        "xgboost = XGBClassifier()\n",
        "# Make a pipeline of the model\n",
        "xgb_pipe = make_pipeline(preprocessor, xgboost)\n"
      ],
      "execution_count": 73,
      "outputs": [
        {
          "output_type": "stream",
          "name": "stdout",
          "text": [
            "CPU times: user 251 µs, sys: 0 ns, total: 251 µs\n",
            "Wall time: 432 µs\n"
          ]
        }
      ]
    },
    {
      "cell_type": "code",
      "source": [
        "%%time \n",
        "# Fit the model\n",
        "xgb_pipe.fit(X_train, y_train)"
      ],
      "metadata": {
        "id": "dHFiYgDx7FOZ",
        "colab": {
          "base_uri": "https://localhost:8080/",
          "height": 227
        },
        "outputId": "82d56093-25e0-4e26-b103-4f3bfd862061"
      },
      "execution_count": 74,
      "outputs": [
        {
          "output_type": "stream",
          "name": "stdout",
          "text": [
            "CPU times: user 5.57 s, sys: 41.3 ms, total: 5.61 s\n",
            "Wall time: 5.53 s\n"
          ]
        },
        {
          "output_type": "execute_result",
          "data": {
            "text/html": [
              "<style>#sk-c4f6a779-e1e5-45a4-bf3c-6291803b51de {color: black;background-color: white;}#sk-c4f6a779-e1e5-45a4-bf3c-6291803b51de pre{padding: 0;}#sk-c4f6a779-e1e5-45a4-bf3c-6291803b51de div.sk-toggleable {background-color: white;}#sk-c4f6a779-e1e5-45a4-bf3c-6291803b51de label.sk-toggleable__label {cursor: pointer;display: block;width: 100%;margin-bottom: 0;padding: 0.3em;box-sizing: border-box;text-align: center;}#sk-c4f6a779-e1e5-45a4-bf3c-6291803b51de label.sk-toggleable__label-arrow:before {content: \"▸\";float: left;margin-right: 0.25em;color: #696969;}#sk-c4f6a779-e1e5-45a4-bf3c-6291803b51de label.sk-toggleable__label-arrow:hover:before {color: black;}#sk-c4f6a779-e1e5-45a4-bf3c-6291803b51de div.sk-estimator:hover label.sk-toggleable__label-arrow:before {color: black;}#sk-c4f6a779-e1e5-45a4-bf3c-6291803b51de div.sk-toggleable__content {max-height: 0;max-width: 0;overflow: hidden;text-align: left;background-color: #f0f8ff;}#sk-c4f6a779-e1e5-45a4-bf3c-6291803b51de div.sk-toggleable__content pre {margin: 0.2em;color: black;border-radius: 0.25em;background-color: #f0f8ff;}#sk-c4f6a779-e1e5-45a4-bf3c-6291803b51de input.sk-toggleable__control:checked~div.sk-toggleable__content {max-height: 200px;max-width: 100%;overflow: auto;}#sk-c4f6a779-e1e5-45a4-bf3c-6291803b51de input.sk-toggleable__control:checked~label.sk-toggleable__label-arrow:before {content: \"▾\";}#sk-c4f6a779-e1e5-45a4-bf3c-6291803b51de div.sk-estimator input.sk-toggleable__control:checked~label.sk-toggleable__label {background-color: #d4ebff;}#sk-c4f6a779-e1e5-45a4-bf3c-6291803b51de div.sk-label input.sk-toggleable__control:checked~label.sk-toggleable__label {background-color: #d4ebff;}#sk-c4f6a779-e1e5-45a4-bf3c-6291803b51de input.sk-hidden--visually {border: 0;clip: rect(1px 1px 1px 1px);clip: rect(1px, 1px, 1px, 1px);height: 1px;margin: -1px;overflow: hidden;padding: 0;position: absolute;width: 1px;}#sk-c4f6a779-e1e5-45a4-bf3c-6291803b51de div.sk-estimator {font-family: monospace;background-color: #f0f8ff;border: 1px dotted black;border-radius: 0.25em;box-sizing: border-box;margin-bottom: 0.5em;}#sk-c4f6a779-e1e5-45a4-bf3c-6291803b51de div.sk-estimator:hover {background-color: #d4ebff;}#sk-c4f6a779-e1e5-45a4-bf3c-6291803b51de div.sk-parallel-item::after {content: \"\";width: 100%;border-bottom: 1px solid gray;flex-grow: 1;}#sk-c4f6a779-e1e5-45a4-bf3c-6291803b51de div.sk-label:hover label.sk-toggleable__label {background-color: #d4ebff;}#sk-c4f6a779-e1e5-45a4-bf3c-6291803b51de div.sk-serial::before {content: \"\";position: absolute;border-left: 1px solid gray;box-sizing: border-box;top: 2em;bottom: 0;left: 50%;}#sk-c4f6a779-e1e5-45a4-bf3c-6291803b51de div.sk-serial {display: flex;flex-direction: column;align-items: center;background-color: white;padding-right: 0.2em;padding-left: 0.2em;}#sk-c4f6a779-e1e5-45a4-bf3c-6291803b51de div.sk-item {z-index: 1;}#sk-c4f6a779-e1e5-45a4-bf3c-6291803b51de div.sk-parallel {display: flex;align-items: stretch;justify-content: center;background-color: white;}#sk-c4f6a779-e1e5-45a4-bf3c-6291803b51de div.sk-parallel::before {content: \"\";position: absolute;border-left: 1px solid gray;box-sizing: border-box;top: 2em;bottom: 0;left: 50%;}#sk-c4f6a779-e1e5-45a4-bf3c-6291803b51de div.sk-parallel-item {display: flex;flex-direction: column;position: relative;background-color: white;}#sk-c4f6a779-e1e5-45a4-bf3c-6291803b51de div.sk-parallel-item:first-child::after {align-self: flex-end;width: 50%;}#sk-c4f6a779-e1e5-45a4-bf3c-6291803b51de div.sk-parallel-item:last-child::after {align-self: flex-start;width: 50%;}#sk-c4f6a779-e1e5-45a4-bf3c-6291803b51de div.sk-parallel-item:only-child::after {width: 0;}#sk-c4f6a779-e1e5-45a4-bf3c-6291803b51de div.sk-dashed-wrapped {border: 1px dashed gray;margin: 0 0.4em 0.5em 0.4em;box-sizing: border-box;padding-bottom: 0.4em;background-color: white;position: relative;}#sk-c4f6a779-e1e5-45a4-bf3c-6291803b51de div.sk-label label {font-family: monospace;font-weight: bold;background-color: white;display: inline-block;line-height: 1.2em;}#sk-c4f6a779-e1e5-45a4-bf3c-6291803b51de div.sk-label-container {position: relative;z-index: 2;text-align: center;}#sk-c4f6a779-e1e5-45a4-bf3c-6291803b51de div.sk-container {/* jupyter's `normalize.less` sets `[hidden] { display: none; }` but bootstrap.min.css set `[hidden] { display: none !important; }` so we also need the `!important` here to be able to override the default hidden behavior on the sphinx rendered scikit-learn.org. See: https://github.com/scikit-learn/scikit-learn/issues/21755 */display: inline-block !important;position: relative;}#sk-c4f6a779-e1e5-45a4-bf3c-6291803b51de div.sk-text-repr-fallback {display: none;}</style><div id=\"sk-c4f6a779-e1e5-45a4-bf3c-6291803b51de\" class=\"sk-top-container\"><div class=\"sk-text-repr-fallback\"><pre>Pipeline(steps=[(&#x27;columntransformer&#x27;,\n",
              "                 ColumnTransformer(transformers=[(&#x27;standardscaler&#x27;,\n",
              "                                                  StandardScaler(),\n",
              "                                                  &lt;sklearn.compose._column_transformer.make_column_selector object at 0x7fd16ebb8d10&gt;),\n",
              "                                                 (&#x27;onehotencoder&#x27;,\n",
              "                                                  OneHotEncoder(handle_unknown=&#x27;ignore&#x27;,\n",
              "                                                                sparse=False),\n",
              "                                                  &lt;sklearn.compose._column_transformer.make_column_selector object at 0x7fd16ebb8dd0&gt;)])),\n",
              "                (&#x27;xgbclassifier&#x27;, XGBClassifier())])</pre><b>Please rerun this cell to show the HTML repr or trust the notebook.</b></div><div class=\"sk-container\" hidden><div class=\"sk-item sk-dashed-wrapped\"><div class=\"sk-label-container\"><div class=\"sk-label sk-toggleable\"><input class=\"sk-toggleable__control sk-hidden--visually\" id=\"5f5ea1d4-438a-4f66-83bf-0db9440c9439\" type=\"checkbox\" ><label for=\"5f5ea1d4-438a-4f66-83bf-0db9440c9439\" class=\"sk-toggleable__label sk-toggleable__label-arrow\">Pipeline</label><div class=\"sk-toggleable__content\"><pre>Pipeline(steps=[(&#x27;columntransformer&#x27;,\n",
              "                 ColumnTransformer(transformers=[(&#x27;standardscaler&#x27;,\n",
              "                                                  StandardScaler(),\n",
              "                                                  &lt;sklearn.compose._column_transformer.make_column_selector object at 0x7fd16ebb8d10&gt;),\n",
              "                                                 (&#x27;onehotencoder&#x27;,\n",
              "                                                  OneHotEncoder(handle_unknown=&#x27;ignore&#x27;,\n",
              "                                                                sparse=False),\n",
              "                                                  &lt;sklearn.compose._column_transformer.make_column_selector object at 0x7fd16ebb8dd0&gt;)])),\n",
              "                (&#x27;xgbclassifier&#x27;, XGBClassifier())])</pre></div></div></div><div class=\"sk-serial\"><div class=\"sk-item sk-dashed-wrapped\"><div class=\"sk-label-container\"><div class=\"sk-label sk-toggleable\"><input class=\"sk-toggleable__control sk-hidden--visually\" id=\"36a030da-54aa-40e4-98c9-768b22e4331e\" type=\"checkbox\" ><label for=\"36a030da-54aa-40e4-98c9-768b22e4331e\" class=\"sk-toggleable__label sk-toggleable__label-arrow\">columntransformer: ColumnTransformer</label><div class=\"sk-toggleable__content\"><pre>ColumnTransformer(transformers=[(&#x27;standardscaler&#x27;, StandardScaler(),\n",
              "                                 &lt;sklearn.compose._column_transformer.make_column_selector object at 0x7fd16ebb8d10&gt;),\n",
              "                                (&#x27;onehotencoder&#x27;,\n",
              "                                 OneHotEncoder(handle_unknown=&#x27;ignore&#x27;,\n",
              "                                               sparse=False),\n",
              "                                 &lt;sklearn.compose._column_transformer.make_column_selector object at 0x7fd16ebb8dd0&gt;)])</pre></div></div></div><div class=\"sk-parallel\"><div class=\"sk-parallel-item\"><div class=\"sk-item\"><div class=\"sk-label-container\"><div class=\"sk-label sk-toggleable\"><input class=\"sk-toggleable__control sk-hidden--visually\" id=\"9c325028-9457-4539-a6c9-319d12a7588e\" type=\"checkbox\" ><label for=\"9c325028-9457-4539-a6c9-319d12a7588e\" class=\"sk-toggleable__label sk-toggleable__label-arrow\">standardscaler</label><div class=\"sk-toggleable__content\"><pre>&lt;sklearn.compose._column_transformer.make_column_selector object at 0x7fd16ebb8d10&gt;</pre></div></div></div><div class=\"sk-serial\"><div class=\"sk-item\"><div class=\"sk-estimator sk-toggleable\"><input class=\"sk-toggleable__control sk-hidden--visually\" id=\"2423cb85-7480-4c6a-8278-024d240c163b\" type=\"checkbox\" ><label for=\"2423cb85-7480-4c6a-8278-024d240c163b\" class=\"sk-toggleable__label sk-toggleable__label-arrow\">StandardScaler</label><div class=\"sk-toggleable__content\"><pre>StandardScaler()</pre></div></div></div></div></div></div><div class=\"sk-parallel-item\"><div class=\"sk-item\"><div class=\"sk-label-container\"><div class=\"sk-label sk-toggleable\"><input class=\"sk-toggleable__control sk-hidden--visually\" id=\"7e1f1027-631d-4c16-9b48-a89992415e95\" type=\"checkbox\" ><label for=\"7e1f1027-631d-4c16-9b48-a89992415e95\" class=\"sk-toggleable__label sk-toggleable__label-arrow\">onehotencoder</label><div class=\"sk-toggleable__content\"><pre>&lt;sklearn.compose._column_transformer.make_column_selector object at 0x7fd16ebb8dd0&gt;</pre></div></div></div><div class=\"sk-serial\"><div class=\"sk-item\"><div class=\"sk-estimator sk-toggleable\"><input class=\"sk-toggleable__control sk-hidden--visually\" id=\"36a8fae9-676e-4993-ad34-660ef600058c\" type=\"checkbox\" ><label for=\"36a8fae9-676e-4993-ad34-660ef600058c\" class=\"sk-toggleable__label sk-toggleable__label-arrow\">OneHotEncoder</label><div class=\"sk-toggleable__content\"><pre>OneHotEncoder(handle_unknown=&#x27;ignore&#x27;, sparse=False)</pre></div></div></div></div></div></div></div></div><div class=\"sk-item\"><div class=\"sk-estimator sk-toggleable\"><input class=\"sk-toggleable__control sk-hidden--visually\" id=\"e1d75547-89fc-44e7-9b8d-52762b019efd\" type=\"checkbox\" ><label for=\"e1d75547-89fc-44e7-9b8d-52762b019efd\" class=\"sk-toggleable__label sk-toggleable__label-arrow\">XGBClassifier</label><div class=\"sk-toggleable__content\"><pre>XGBClassifier()</pre></div></div></div></div></div></div></div>"
            ],
            "text/plain": [
              "Pipeline(steps=[('columntransformer',\n",
              "                 ColumnTransformer(transformers=[('standardscaler',\n",
              "                                                  StandardScaler(),\n",
              "                                                  <sklearn.compose._column_transformer.make_column_selector object at 0x7fd16ebb8d10>),\n",
              "                                                 ('onehotencoder',\n",
              "                                                  OneHotEncoder(handle_unknown='ignore',\n",
              "                                                                sparse=False),\n",
              "                                                  <sklearn.compose._column_transformer.make_column_selector object at 0x7fd16ebb8dd0>)])),\n",
              "                ('xgbclassifier', XGBClassifier())])"
            ]
          },
          "metadata": {},
          "execution_count": 74
        }
      ]
    },
    {
      "cell_type": "code",
      "metadata": {
        "id": "EMtVjYZ54RjX",
        "colab": {
          "base_uri": "https://localhost:8080/"
        },
        "outputId": "44b15746-85b2-4c0d-c12d-cdf4c22e1dc4"
      },
      "source": [
        "%%time\n",
        "# Get Predictions for training and testing data to check the metric functions\n",
        "xgb_train_predict = xgb_pipe.predict(X_train)\n",
        "xgb_test_predict = xgb_pipe.predict(X_test)"
      ],
      "execution_count": 75,
      "outputs": [
        {
          "output_type": "stream",
          "name": "stdout",
          "text": [
            "CPU times: user 226 ms, sys: 1.91 ms, total: 228 ms\n",
            "Wall time: 232 ms\n"
          ]
        }
      ]
    },
    {
      "cell_type": "code",
      "source": [
        "%%time\n",
        "# XGB Training Model Evaluation\n",
        "target_names = ['>50K', '=<50K']\n",
        "evaluate_classification(xgb_pipe,X_train, y_train, classes=target_names,\n",
        "                        label='XGB Training Data (Classes-Incuded)')"
      ],
      "metadata": {
        "id": "GDbLeXpNnCdN",
        "colab": {
          "base_uri": "https://localhost:8080/",
          "height": 538
        },
        "outputId": "a1e423a4-087a-44d0-9b8f-ec5600fa8197"
      },
      "execution_count": 81,
      "outputs": [
        {
          "output_type": "stream",
          "name": "stdout",
          "text": [
            "------------------------------------------------------------\n",
            "[i] CLASSIFICATION REPORT FOR: XGB Training Data (Classes-Incuded)\n",
            "------------------------------------------------------------\n",
            "              precision    recall  f1-score   support\n",
            "\n",
            "        >50K       0.81      0.57      0.67      5914\n",
            "       =<50K       0.87      0.96      0.91     18506\n",
            "\n",
            "    accuracy                           0.86     24420\n",
            "   macro avg       0.84      0.76      0.79     24420\n",
            "weighted avg       0.86      0.86      0.86     24420\n",
            "\n"
          ]
        },
        {
          "output_type": "display_data",
          "data": {
            "image/png": "[encoded data removed]",
            "text/plain": [
              "<Figure size 432x288 with 2 Axes>"
            ]
          },
          "metadata": {
            "needs_background": "light"
          }
        },
        {
          "output_type": "stream",
          "name": "stdout",
          "text": [
            "CPU times: user 1.36 s, sys: 49.3 ms, total: 1.41 s\n",
            "Wall time: 1.54 s\n"
          ]
        }
      ]
    },
    {
      "cell_type": "code",
      "source": [
        "%%time \n",
        "# XGB Testing Model Evaluation\n",
        "evaluate_classification(xgb_pipe, X_test, y_test, classes=target_names,\n",
        "                        label='XGB Testing Data (Classes-Included)')"
      ],
      "metadata": {
        "colab": {
          "base_uri": "https://localhost:8080/",
          "height": 538
        },
        "id": "OGG2T31VUMyN",
        "outputId": "cac368ed-28d7-474a-f4d3-4902009993cc"
      },
      "execution_count": 82,
      "outputs": [
        {
          "output_type": "stream",
          "name": "stdout",
          "text": [
            "------------------------------------------------------------\n",
            "[i] CLASSIFICATION REPORT FOR: XGB Testing Data (Classes-Included)\n",
            "------------------------------------------------------------\n",
            "              precision    recall  f1-score   support\n",
            "\n",
            "        >50K       0.81      0.57      0.67      1927\n",
            "       =<50K       0.88      0.96      0.92      6214\n",
            "\n",
            "    accuracy                           0.87      8141\n",
            "   macro avg       0.84      0.77      0.79      8141\n",
            "weighted avg       0.86      0.87      0.86      8141\n",
            "\n"
          ]
        },
        {
          "output_type": "display_data",
          "data": {
            "image/png": "[encoded data removed]",
            "text/plain": [
              "<Figure size 432x288 with 2 Axes>"
            ]
          },
          "metadata": {
            "needs_background": "light"
          }
        },
        {
          "output_type": "stream",
          "name": "stdout",
          "text": [
            "CPU times: user 843 ms, sys: 133 ms, total: 976 ms\n",
            "Wall time: 2.09 s\n"
          ]
        }
      ]
    },
    {
      "cell_type": "markdown",
      "metadata": {
        "id": "0DdMdPlLgrVm"
      },
      "source": [
        "Which target class is your model better at predicting?  Is it significantly overfit?"
      ]
    },
    {
      "cell_type": "markdown",
      "metadata": {
        "id": "eWu_4o2nm-HP"
      },
      "source": [
        "# More Gradient Boosting\n",
        "\n",
        "Now fit and evaluate a Light Gradient Boosting Machine and a the Scikit Learn (sklearn) gradient boost model.  Remember to use the `%%time` cell magic command to get the run time."
      ]
    },
    {
      "cell_type": "markdown",
      "metadata": {
        "id": "DpRP2a_UlTYX"
      },
      "source": [
        "## LightGBM"
      ]
    },
    {
      "cell_type": "code",
      "metadata": {
        "id": "oKxj1YCloRML",
        "colab": {
          "base_uri": "https://localhost:8080/"
        },
        "outputId": "06506a9d-206b-4364-93eb-3ee13297fd29"
      },
      "source": [
        "%%time\n",
        "# Instantiate the model \n",
        "lgboost = LGBMClassifier()\n",
        "\n",
        "# Make a pipeline for the LGBM\n",
        "lgb_pipe = make_pipeline(preprocessor, lgboost)"
      ],
      "execution_count": 83,
      "outputs": [
        {
          "output_type": "stream",
          "name": "stdout",
          "text": [
            "CPU times: user 117 µs, sys: 3 µs, total: 120 µs\n",
            "Wall time: 125 µs\n"
          ]
        }
      ]
    },
    {
      "cell_type": "code",
      "metadata": {
        "id": "kDkByQTB4QP_",
        "colab": {
          "base_uri": "https://localhost:8080/",
          "height": 227
        },
        "outputId": "616c4e7e-277e-4a4d-c1a4-2051a9b82a3d"
      },
      "source": [
        "%%time\n",
        "# Fit the model\n",
        "lgb_pipe.fit(X_train, y_train)"
      ],
      "execution_count": 84,
      "outputs": [
        {
          "output_type": "stream",
          "name": "stdout",
          "text": [
            "CPU times: user 936 ms, sys: 21.1 ms, total: 957 ms\n",
            "Wall time: 1.17 s\n"
          ]
        },
        {
          "output_type": "execute_result",
          "data": {
            "text/html": [
              "<style>#sk-0de55438-d5da-4ed6-8250-03fadab4e47e {color: black;background-color: white;}#sk-0de55438-d5da-4ed6-8250-03fadab4e47e pre{padding: 0;}#sk-0de55438-d5da-4ed6-8250-03fadab4e47e div.sk-toggleable {background-color: white;}#sk-0de55438-d5da-4ed6-8250-03fadab4e47e label.sk-toggleable__label {cursor: pointer;display: block;width: 100%;margin-bottom: 0;padding: 0.3em;box-sizing: border-box;text-align: center;}#sk-0de55438-d5da-4ed6-8250-03fadab4e47e label.sk-toggleable__label-arrow:before {content: \"▸\";float: left;margin-right: 0.25em;color: #696969;}#sk-0de55438-d5da-4ed6-8250-03fadab4e47e label.sk-toggleable__label-arrow:hover:before {color: black;}#sk-0de55438-d5da-4ed6-8250-03fadab4e47e div.sk-estimator:hover label.sk-toggleable__label-arrow:before {color: black;}#sk-0de55438-d5da-4ed6-8250-03fadab4e47e div.sk-toggleable__content {max-height: 0;max-width: 0;overflow: hidden;text-align: left;background-color: #f0f8ff;}#sk-0de55438-d5da-4ed6-8250-03fadab4e47e div.sk-toggleable__content pre {margin: 0.2em;color: black;border-radius: 0.25em;background-color: #f0f8ff;}#sk-0de55438-d5da-4ed6-8250-03fadab4e47e input.sk-toggleable__control:checked~div.sk-toggleable__content {max-height: 200px;max-width: 100%;overflow: auto;}#sk-0de55438-d5da-4ed6-8250-03fadab4e47e input.sk-toggleable__control:checked~label.sk-toggleable__label-arrow:before {content: \"▾\";}#sk-0de55438-d5da-4ed6-8250-03fadab4e47e div.sk-estimator input.sk-toggleable__control:checked~label.sk-toggleable__label {background-color: #d4ebff;}#sk-0de55438-d5da-4ed6-8250-03fadab4e47e div.sk-label input.sk-toggleable__control:checked~label.sk-toggleable__label {background-color: #d4ebff;}#sk-0de55438-d5da-4ed6-8250-03fadab4e47e input.sk-hidden--visually {border: 0;clip: rect(1px 1px 1px 1px);clip: rect(1px, 1px, 1px, 1px);height: 1px;margin: -1px;overflow: hidden;padding: 0;position: absolute;width: 1px;}#sk-0de55438-d5da-4ed6-8250-03fadab4e47e div.sk-estimator {font-family: monospace;background-color: #f0f8ff;border: 1px dotted black;border-radius: 0.25em;box-sizing: border-box;margin-bottom: 0.5em;}#sk-0de55438-d5da-4ed6-8250-03fadab4e47e div.sk-estimator:hover {background-color: #d4ebff;}#sk-0de55438-d5da-4ed6-8250-03fadab4e47e div.sk-parallel-item::after {content: \"\";width: 100%;border-bottom: 1px solid gray;flex-grow: 1;}#sk-0de55438-d5da-4ed6-8250-03fadab4e47e div.sk-label:hover label.sk-toggleable__label {background-color: #d4ebff;}#sk-0de55438-d5da-4ed6-8250-03fadab4e47e div.sk-serial::before {content: \"\";position: absolute;border-left: 1px solid gray;box-sizing: border-box;top: 2em;bottom: 0;left: 50%;}#sk-0de55438-d5da-4ed6-8250-03fadab4e47e div.sk-serial {display: flex;flex-direction: column;align-items: center;background-color: white;padding-right: 0.2em;padding-left: 0.2em;}#sk-0de55438-d5da-4ed6-8250-03fadab4e47e div.sk-item {z-index: 1;}#sk-0de55438-d5da-4ed6-8250-03fadab4e47e div.sk-parallel {display: flex;align-items: stretch;justify-content: center;background-color: white;}#sk-0de55438-d5da-4ed6-8250-03fadab4e47e div.sk-parallel::before {content: \"\";position: absolute;border-left: 1px solid gray;box-sizing: border-box;top: 2em;bottom: 0;left: 50%;}#sk-0de55438-d5da-4ed6-8250-03fadab4e47e div.sk-parallel-item {display: flex;flex-direction: column;position: relative;background-color: white;}#sk-0de55438-d5da-4ed6-8250-03fadab4e47e div.sk-parallel-item:first-child::after {align-self: flex-end;width: 50%;}#sk-0de55438-d5da-4ed6-8250-03fadab4e47e div.sk-parallel-item:last-child::after {align-self: flex-start;width: 50%;}#sk-0de55438-d5da-4ed6-8250-03fadab4e47e div.sk-parallel-item:only-child::after {width: 0;}#sk-0de55438-d5da-4ed6-8250-03fadab4e47e div.sk-dashed-wrapped {border: 1px dashed gray;margin: 0 0.4em 0.5em 0.4em;box-sizing: border-box;padding-bottom: 0.4em;background-color: white;position: relative;}#sk-0de55438-d5da-4ed6-8250-03fadab4e47e div.sk-label label {font-family: monospace;font-weight: bold;background-color: white;display: inline-block;line-height: 1.2em;}#sk-0de55438-d5da-4ed6-8250-03fadab4e47e div.sk-label-container {position: relative;z-index: 2;text-align: center;}#sk-0de55438-d5da-4ed6-8250-03fadab4e47e div.sk-container {/* jupyter's `normalize.less` sets `[hidden] { display: none; }` but bootstrap.min.css set `[hidden] { display: none !important; }` so we also need the `!important` here to be able to override the default hidden behavior on the sphinx rendered scikit-learn.org. See: https://github.com/scikit-learn/scikit-learn/issues/21755 */display: inline-block !important;position: relative;}#sk-0de55438-d5da-4ed6-8250-03fadab4e47e div.sk-text-repr-fallback {display: none;}</style><div id=\"sk-0de55438-d5da-4ed6-8250-03fadab4e47e\" class=\"sk-top-container\"><div class=\"sk-text-repr-fallback\"><pre>Pipeline(steps=[(&#x27;columntransformer&#x27;,\n",
              "                 ColumnTransformer(transformers=[(&#x27;standardscaler&#x27;,\n",
              "                                                  StandardScaler(),\n",
              "                                                  &lt;sklearn.compose._column_transformer.make_column_selector object at 0x7fd16ebb8d10&gt;),\n",
              "                                                 (&#x27;onehotencoder&#x27;,\n",
              "                                                  OneHotEncoder(handle_unknown=&#x27;ignore&#x27;,\n",
              "                                                                sparse=False),\n",
              "                                                  &lt;sklearn.compose._column_transformer.make_column_selector object at 0x7fd16ebb8dd0&gt;)])),\n",
              "                (&#x27;lgbmclassifier&#x27;, LGBMClassifier())])</pre><b>Please rerun this cell to show the HTML repr or trust the notebook.</b></div><div class=\"sk-container\" hidden><div class=\"sk-item sk-dashed-wrapped\"><div class=\"sk-label-container\"><div class=\"sk-label sk-toggleable\"><input class=\"sk-toggleable__control sk-hidden--visually\" id=\"92c0d556-dc70-4f33-96d1-815a7abe36e8\" type=\"checkbox\" ><label for=\"92c0d556-dc70-4f33-96d1-815a7abe36e8\" class=\"sk-toggleable__label sk-toggleable__label-arrow\">Pipeline</label><div class=\"sk-toggleable__content\"><pre>Pipeline(steps=[(&#x27;columntransformer&#x27;,\n",
              "                 ColumnTransformer(transformers=[(&#x27;standardscaler&#x27;,\n",
              "                                                  StandardScaler(),\n",
              "                                                  &lt;sklearn.compose._column_transformer.make_column_selector object at 0x7fd16ebb8d10&gt;),\n",
              "                                                 (&#x27;onehotencoder&#x27;,\n",
              "                                                  OneHotEncoder(handle_unknown=&#x27;ignore&#x27;,\n",
              "                                                                sparse=False),\n",
              "                                                  &lt;sklearn.compose._column_transformer.make_column_selector object at 0x7fd16ebb8dd0&gt;)])),\n",
              "                (&#x27;lgbmclassifier&#x27;, LGBMClassifier())])</pre></div></div></div><div class=\"sk-serial\"><div class=\"sk-item sk-dashed-wrapped\"><div class=\"sk-label-container\"><div class=\"sk-label sk-toggleable\"><input class=\"sk-toggleable__control sk-hidden--visually\" id=\"1a395a39-57f2-4e48-a9e5-82d5c3fd51dc\" type=\"checkbox\" ><label for=\"1a395a39-57f2-4e48-a9e5-82d5c3fd51dc\" class=\"sk-toggleable__label sk-toggleable__label-arrow\">columntransformer: ColumnTransformer</label><div class=\"sk-toggleable__content\"><pre>ColumnTransformer(transformers=[(&#x27;standardscaler&#x27;, StandardScaler(),\n",
              "                                 &lt;sklearn.compose._column_transformer.make_column_selector object at 0x7fd16ebb8d10&gt;),\n",
              "                                (&#x27;onehotencoder&#x27;,\n",
              "                                 OneHotEncoder(handle_unknown=&#x27;ignore&#x27;,\n",
              "                                               sparse=False),\n",
              "                                 &lt;sklearn.compose._column_transformer.make_column_selector object at 0x7fd16ebb8dd0&gt;)])</pre></div></div></div><div class=\"sk-parallel\"><div class=\"sk-parallel-item\"><div class=\"sk-item\"><div class=\"sk-label-container\"><div class=\"sk-label sk-toggleable\"><input class=\"sk-toggleable__control sk-hidden--visually\" id=\"57696582-5dc3-46f9-9587-05515e1e6895\" type=\"checkbox\" ><label for=\"57696582-5dc3-46f9-9587-05515e1e6895\" class=\"sk-toggleable__label sk-toggleable__label-arrow\">standardscaler</label><div class=\"sk-toggleable__content\"><pre>&lt;sklearn.compose._column_transformer.make_column_selector object at 0x7fd16ebb8d10&gt;</pre></div></div></div><div class=\"sk-serial\"><div class=\"sk-item\"><div class=\"sk-estimator sk-toggleable\"><input class=\"sk-toggleable__control sk-hidden--visually\" id=\"1553c501-6a18-49a9-b018-159489be2db9\" type=\"checkbox\" ><label for=\"1553c501-6a18-49a9-b018-159489be2db9\" class=\"sk-toggleable__label sk-toggleable__label-arrow\">StandardScaler</label><div class=\"sk-toggleable__content\"><pre>StandardScaler()</pre></div></div></div></div></div></div><div class=\"sk-parallel-item\"><div class=\"sk-item\"><div class=\"sk-label-container\"><div class=\"sk-label sk-toggleable\"><input class=\"sk-toggleable__control sk-hidden--visually\" id=\"e34d68d1-10cb-4efb-a5f8-e29b73c205f7\" type=\"checkbox\" ><label for=\"e34d68d1-10cb-4efb-a5f8-e29b73c205f7\" class=\"sk-toggleable__label sk-toggleable__label-arrow\">onehotencoder</label><div class=\"sk-toggleable__content\"><pre>&lt;sklearn.compose._column_transformer.make_column_selector object at 0x7fd16ebb8dd0&gt;</pre></div></div></div><div class=\"sk-serial\"><div class=\"sk-item\"><div class=\"sk-estimator sk-toggleable\"><input class=\"sk-toggleable__control sk-hidden--visually\" id=\"275a1492-b8c9-4046-abb7-5f9e93e2ad22\" type=\"checkbox\" ><label for=\"275a1492-b8c9-4046-abb7-5f9e93e2ad22\" class=\"sk-toggleable__label sk-toggleable__label-arrow\">OneHotEncoder</label><div class=\"sk-toggleable__content\"><pre>OneHotEncoder(handle_unknown=&#x27;ignore&#x27;, sparse=False)</pre></div></div></div></div></div></div></div></div><div class=\"sk-item\"><div class=\"sk-estimator sk-toggleable\"><input class=\"sk-toggleable__control sk-hidden--visually\" id=\"99736ce0-28a0-4000-aebe-4392b506587c\" type=\"checkbox\" ><label for=\"99736ce0-28a0-4000-aebe-4392b506587c\" class=\"sk-toggleable__label sk-toggleable__label-arrow\">LGBMClassifier</label><div class=\"sk-toggleable__content\"><pre>LGBMClassifier()</pre></div></div></div></div></div></div></div>"
            ],
            "text/plain": [
              "Pipeline(steps=[('columntransformer',\n",
              "                 ColumnTransformer(transformers=[('standardscaler',\n",
              "                                                  StandardScaler(),\n",
              "                                                  <sklearn.compose._column_transformer.make_column_selector object at 0x7fd16ebb8d10>),\n",
              "                                                 ('onehotencoder',\n",
              "                                                  OneHotEncoder(handle_unknown='ignore',\n",
              "                                                                sparse=False),\n",
              "                                                  <sklearn.compose._column_transformer.make_column_selector object at 0x7fd16ebb8dd0>)])),\n",
              "                ('lgbmclassifier', LGBMClassifier())])"
            ]
          },
          "metadata": {},
          "execution_count": 84
        }
      ]
    },
    {
      "cell_type": "code",
      "source": [
        "%%time\n",
        "# predict the model\n",
        "lgb_train_predict = lgb_pipe.predict(X_train)\n",
        "lgb_test_predict = lgb_pipe.predict(X_test)"
      ],
      "metadata": {
        "colab": {
          "base_uri": "https://localhost:8080/"
        },
        "id": "o88PrNiDVWdL",
        "outputId": "a9388bea-e288-400b-c42d-7f6e7f40f0a8"
      },
      "execution_count": 85,
      "outputs": [
        {
          "output_type": "stream",
          "name": "stdout",
          "text": [
            "CPU times: user 442 ms, sys: 3.86 ms, total: 446 ms\n",
            "Wall time: 511 ms\n"
          ]
        }
      ]
    },
    {
      "cell_type": "code",
      "source": [
        "%%time\n",
        "# Evalute the model\n",
        "# LGBM Training Model evaluation\n",
        "evaluate_classification(lgb_pipe, X_train, y_train, classes=target_names,\n",
        "                        label='LGBModel Training Data (Classes Included)')"
      ],
      "metadata": {
        "colab": {
          "base_uri": "https://localhost:8080/",
          "height": 538
        },
        "id": "etS9ozNMVk8H",
        "outputId": "cb5b6c48-97fa-4fa0-9f8e-e39e4d41f7e4"
      },
      "execution_count": 87,
      "outputs": [
        {
          "output_type": "stream",
          "name": "stdout",
          "text": [
            "------------------------------------------------------------\n",
            "[i] CLASSIFICATION REPORT FOR: LGBModel Training Data (Classes Included)\n",
            "------------------------------------------------------------\n",
            "              precision    recall  f1-score   support\n",
            "\n",
            "        >50K       0.81      0.69      0.75      5914\n",
            "       =<50K       0.91      0.95      0.93     18506\n",
            "\n",
            "    accuracy                           0.89     24420\n",
            "   macro avg       0.86      0.82      0.84     24420\n",
            "weighted avg       0.88      0.89      0.88     24420\n",
            "\n"
          ]
        },
        {
          "output_type": "display_data",
          "data": {
            "image/png": "[encoded data removed]",
            "text/plain": [
              "<Figure size 432x288 with 2 Axes>"
            ]
          },
          "metadata": {
            "needs_background": "light"
          }
        },
        {
          "output_type": "stream",
          "name": "stdout",
          "text": [
            "CPU times: user 1.53 s, sys: 62.5 ms, total: 1.6 s\n",
            "Wall time: 1.54 s\n"
          ]
        }
      ]
    },
    {
      "cell_type": "code",
      "source": [
        "%%time\n",
        "# LGBM Testing Model Evaluation\n",
        "evaluate_classification(lgb_pipe, X_test, y_test, classes=target_names,\n",
        "                        label='LGBModel Testing Data (Classes Included)')"
      ],
      "metadata": {
        "colab": {
          "base_uri": "https://localhost:8080/",
          "height": 538
        },
        "id": "pf5X5L0WWCRX",
        "outputId": "f6f5d262-440f-495c-93d6-e3b53c31287e"
      },
      "execution_count": 88,
      "outputs": [
        {
          "output_type": "stream",
          "name": "stdout",
          "text": [
            "------------------------------------------------------------\n",
            "[i] CLASSIFICATION REPORT FOR: LGBModel Testing Data (Classes Included)\n",
            "------------------------------------------------------------\n",
            "              precision    recall  f1-score   support\n",
            "\n",
            "        >50K       0.78      0.67      0.72      1927\n",
            "       =<50K       0.90      0.94      0.92      6214\n",
            "\n",
            "    accuracy                           0.88      8141\n",
            "   macro avg       0.84      0.80      0.82      8141\n",
            "weighted avg       0.87      0.88      0.87      8141\n",
            "\n"
          ]
        },
        {
          "output_type": "display_data",
          "data": {
            "image/png": "[encoded data removed]",
            "text/plain": [
              "<Figure size 432x288 with 2 Axes>"
            ]
          },
          "metadata": {
            "needs_background": "light"
          }
        },
        {
          "output_type": "stream",
          "name": "stdout",
          "text": [
            "CPU times: user 839 ms, sys: 74.4 ms, total: 913 ms\n",
            "Wall time: 865 ms\n"
          ]
        }
      ]
    },
    {
      "cell_type": "markdown",
      "metadata": {
        "id": "-iT6rGsjlWfC"
      },
      "source": [
        "## GradientBoostingClassifier"
      ]
    },
    {
      "cell_type": "code",
      "metadata": {
        "id": "8_zcJ2pVoSUr",
        "colab": {
          "base_uri": "https://localhost:8080/"
        },
        "outputId": "e81f946c-2087-4280-8911-74f8b5315ce9"
      },
      "source": [
        "%%time\n",
        "# Instantiate and Fit the Gradient Boosting Classifier\n",
        "gradient_booster_class = GradientBoostingClassifier()\n",
        "\n",
        "# Make a pipeline\n",
        "gbc_pipe = make_pipeline(preprocessor, gradient_booster_class)"
      ],
      "execution_count": 91,
      "outputs": [
        {
          "output_type": "stream",
          "name": "stdout",
          "text": [
            "CPU times: user 238 µs, sys: 0 ns, total: 238 µs\n",
            "Wall time: 256 µs\n"
          ]
        }
      ]
    },
    {
      "cell_type": "code",
      "source": [
        "%%time\n",
        "# fit the model\n",
        "gbc_pipe.fit(X_train, y_train)"
      ],
      "metadata": {
        "colab": {
          "base_uri": "https://localhost:8080/",
          "height": 227
        },
        "id": "qPi51YGgXCIm",
        "outputId": "79008454-153e-4b43-c798-c86324ed9564"
      },
      "execution_count": 93,
      "outputs": [
        {
          "output_type": "stream",
          "name": "stdout",
          "text": [
            "CPU times: user 10 s, sys: 136 ms, total: 10.1 s\n",
            "Wall time: 9.61 s\n"
          ]
        },
        {
          "output_type": "execute_result",
          "data": {
            "text/html": [
              "<style>#sk-a20b60ca-cb23-47d4-b7e5-f61e9188c498 {color: black;background-color: white;}#sk-a20b60ca-cb23-47d4-b7e5-f61e9188c498 pre{padding: 0;}#sk-a20b60ca-cb23-47d4-b7e5-f61e9188c498 div.sk-toggleable {background-color: white;}#sk-a20b60ca-cb23-47d4-b7e5-f61e9188c498 label.sk-toggleable__label {cursor: pointer;display: block;width: 100%;margin-bottom: 0;padding: 0.3em;box-sizing: border-box;text-align: center;}#sk-a20b60ca-cb23-47d4-b7e5-f61e9188c498 label.sk-toggleable__label-arrow:before {content: \"▸\";float: left;margin-right: 0.25em;color: #696969;}#sk-a20b60ca-cb23-47d4-b7e5-f61e9188c498 label.sk-toggleable__label-arrow:hover:before {color: black;}#sk-a20b60ca-cb23-47d4-b7e5-f61e9188c498 div.sk-estimator:hover label.sk-toggleable__label-arrow:before {color: black;}#sk-a20b60ca-cb23-47d4-b7e5-f61e9188c498 div.sk-toggleable__content {max-height: 0;max-width: 0;overflow: hidden;text-align: left;background-color: #f0f8ff;}#sk-a20b60ca-cb23-47d4-b7e5-f61e9188c498 div.sk-toggleable__content pre {margin: 0.2em;color: black;border-radius: 0.25em;background-color: #f0f8ff;}#sk-a20b60ca-cb23-47d4-b7e5-f61e9188c498 input.sk-toggleable__control:checked~div.sk-toggleable__content {max-height: 200px;max-width: 100%;overflow: auto;}#sk-a20b60ca-cb23-47d4-b7e5-f61e9188c498 input.sk-toggleable__control:checked~label.sk-toggleable__label-arrow:before {content: \"▾\";}#sk-a20b60ca-cb23-47d4-b7e5-f61e9188c498 div.sk-estimator input.sk-toggleable__control:checked~label.sk-toggleable__label {background-color: #d4ebff;}#sk-a20b60ca-cb23-47d4-b7e5-f61e9188c498 div.sk-label input.sk-toggleable__control:checked~label.sk-toggleable__label {background-color: #d4ebff;}#sk-a20b60ca-cb23-47d4-b7e5-f61e9188c498 input.sk-hidden--visually {border: 0;clip: rect(1px 1px 1px 1px);clip: rect(1px, 1px, 1px, 1px);height: 1px;margin: -1px;overflow: hidden;padding: 0;position: absolute;width: 1px;}#sk-a20b60ca-cb23-47d4-b7e5-f61e9188c498 div.sk-estimator {font-family: monospace;background-color: #f0f8ff;border: 1px dotted black;border-radius: 0.25em;box-sizing: border-box;margin-bottom: 0.5em;}#sk-a20b60ca-cb23-47d4-b7e5-f61e9188c498 div.sk-estimator:hover {background-color: #d4ebff;}#sk-a20b60ca-cb23-47d4-b7e5-f61e9188c498 div.sk-parallel-item::after {content: \"\";width: 100%;border-bottom: 1px solid gray;flex-grow: 1;}#sk-a20b60ca-cb23-47d4-b7e5-f61e9188c498 div.sk-label:hover label.sk-toggleable__label {background-color: #d4ebff;}#sk-a20b60ca-cb23-47d4-b7e5-f61e9188c498 div.sk-serial::before {content: \"\";position: absolute;border-left: 1px solid gray;box-sizing: border-box;top: 2em;bottom: 0;left: 50%;}#sk-a20b60ca-cb23-47d4-b7e5-f61e9188c498 div.sk-serial {display: flex;flex-direction: column;align-items: center;background-color: white;padding-right: 0.2em;padding-left: 0.2em;}#sk-a20b60ca-cb23-47d4-b7e5-f61e9188c498 div.sk-item {z-index: 1;}#sk-a20b60ca-cb23-47d4-b7e5-f61e9188c498 div.sk-parallel {display: flex;align-items: stretch;justify-content: center;background-color: white;}#sk-a20b60ca-cb23-47d4-b7e5-f61e9188c498 div.sk-parallel::before {content: \"\";position: absolute;border-left: 1px solid gray;box-sizing: border-box;top: 2em;bottom: 0;left: 50%;}#sk-a20b60ca-cb23-47d4-b7e5-f61e9188c498 div.sk-parallel-item {display: flex;flex-direction: column;position: relative;background-color: white;}#sk-a20b60ca-cb23-47d4-b7e5-f61e9188c498 div.sk-parallel-item:first-child::after {align-self: flex-end;width: 50%;}#sk-a20b60ca-cb23-47d4-b7e5-f61e9188c498 div.sk-parallel-item:last-child::after {align-self: flex-start;width: 50%;}#sk-a20b60ca-cb23-47d4-b7e5-f61e9188c498 div.sk-parallel-item:only-child::after {width: 0;}#sk-a20b60ca-cb23-47d4-b7e5-f61e9188c498 div.sk-dashed-wrapped {border: 1px dashed gray;margin: 0 0.4em 0.5em 0.4em;box-sizing: border-box;padding-bottom: 0.4em;background-color: white;position: relative;}#sk-a20b60ca-cb23-47d4-b7e5-f61e9188c498 div.sk-label label {font-family: monospace;font-weight: bold;background-color: white;display: inline-block;line-height: 1.2em;}#sk-a20b60ca-cb23-47d4-b7e5-f61e9188c498 div.sk-label-container {position: relative;z-index: 2;text-align: center;}#sk-a20b60ca-cb23-47d4-b7e5-f61e9188c498 div.sk-container {/* jupyter's `normalize.less` sets `[hidden] { display: none; }` but bootstrap.min.css set `[hidden] { display: none !important; }` so we also need the `!important` here to be able to override the default hidden behavior on the sphinx rendered scikit-learn.org. See: https://github.com/scikit-learn/scikit-learn/issues/21755 */display: inline-block !important;position: relative;}#sk-a20b60ca-cb23-47d4-b7e5-f61e9188c498 div.sk-text-repr-fallback {display: none;}</style><div id=\"sk-a20b60ca-cb23-47d4-b7e5-f61e9188c498\" class=\"sk-top-container\"><div class=\"sk-text-repr-fallback\"><pre>Pipeline(steps=[(&#x27;columntransformer&#x27;,\n",
              "                 ColumnTransformer(transformers=[(&#x27;standardscaler&#x27;,\n",
              "                                                  StandardScaler(),\n",
              "                                                  &lt;sklearn.compose._column_transformer.make_column_selector object at 0x7fd16ebb8d10&gt;),\n",
              "                                                 (&#x27;onehotencoder&#x27;,\n",
              "                                                  OneHotEncoder(handle_unknown=&#x27;ignore&#x27;,\n",
              "                                                                sparse=False),\n",
              "                                                  &lt;sklearn.compose._column_transformer.make_column_selector object at 0x7fd16ebb8dd0&gt;)])),\n",
              "                (&#x27;gradientboostingclassifier&#x27;, GradientBoostingClassifier())])</pre><b>Please rerun this cell to show the HTML repr or trust the notebook.</b></div><div class=\"sk-container\" hidden><div class=\"sk-item sk-dashed-wrapped\"><div class=\"sk-label-container\"><div class=\"sk-label sk-toggleable\"><input class=\"sk-toggleable__control sk-hidden--visually\" id=\"4c6927c7-ca87-447f-97d4-e42af9b71567\" type=\"checkbox\" ><label for=\"4c6927c7-ca87-447f-97d4-e42af9b71567\" class=\"sk-toggleable__label sk-toggleable__label-arrow\">Pipeline</label><div class=\"sk-toggleable__content\"><pre>Pipeline(steps=[(&#x27;columntransformer&#x27;,\n",
              "                 ColumnTransformer(transformers=[(&#x27;standardscaler&#x27;,\n",
              "                                                  StandardScaler(),\n",
              "                                                  &lt;sklearn.compose._column_transformer.make_column_selector object at 0x7fd16ebb8d10&gt;),\n",
              "                                                 (&#x27;onehotencoder&#x27;,\n",
              "                                                  OneHotEncoder(handle_unknown=&#x27;ignore&#x27;,\n",
              "                                                                sparse=False),\n",
              "                                                  &lt;sklearn.compose._column_transformer.make_column_selector object at 0x7fd16ebb8dd0&gt;)])),\n",
              "                (&#x27;gradientboostingclassifier&#x27;, GradientBoostingClassifier())])</pre></div></div></div><div class=\"sk-serial\"><div class=\"sk-item sk-dashed-wrapped\"><div class=\"sk-label-container\"><div class=\"sk-label sk-toggleable\"><input class=\"sk-toggleable__control sk-hidden--visually\" id=\"f0c5b1fd-3978-45a2-8fd7-55f7634d1234\" type=\"checkbox\" ><label for=\"f0c5b1fd-3978-45a2-8fd7-55f7634d1234\" class=\"sk-toggleable__label sk-toggleable__label-arrow\">columntransformer: ColumnTransformer</label><div class=\"sk-toggleable__content\"><pre>ColumnTransformer(transformers=[(&#x27;standardscaler&#x27;, StandardScaler(),\n",
              "                                 &lt;sklearn.compose._column_transformer.make_column_selector object at 0x7fd16ebb8d10&gt;),\n",
              "                                (&#x27;onehotencoder&#x27;,\n",
              "                                 OneHotEncoder(handle_unknown=&#x27;ignore&#x27;,\n",
              "                                               sparse=False),\n",
              "                                 &lt;sklearn.compose._column_transformer.make_column_selector object at 0x7fd16ebb8dd0&gt;)])</pre></div></div></div><div class=\"sk-parallel\"><div class=\"sk-parallel-item\"><div class=\"sk-item\"><div class=\"sk-label-container\"><div class=\"sk-label sk-toggleable\"><input class=\"sk-toggleable__control sk-hidden--visually\" id=\"8c0872e9-6a69-49da-9a34-8b0d99d1212c\" type=\"checkbox\" ><label for=\"8c0872e9-6a69-49da-9a34-8b0d99d1212c\" class=\"sk-toggleable__label sk-toggleable__label-arrow\">standardscaler</label><div class=\"sk-toggleable__content\"><pre>&lt;sklearn.compose._column_transformer.make_column_selector object at 0x7fd16ebb8d10&gt;</pre></div></div></div><div class=\"sk-serial\"><div class=\"sk-item\"><div class=\"sk-estimator sk-toggleable\"><input class=\"sk-toggleable__control sk-hidden--visually\" id=\"1ea13145-f493-4495-9594-8ba9068aa2ef\" type=\"checkbox\" ><label for=\"1ea13145-f493-4495-9594-8ba9068aa2ef\" class=\"sk-toggleable__label sk-toggleable__label-arrow\">StandardScaler</label><div class=\"sk-toggleable__content\"><pre>StandardScaler()</pre></div></div></div></div></div></div><div class=\"sk-parallel-item\"><div class=\"sk-item\"><div class=\"sk-label-container\"><div class=\"sk-label sk-toggleable\"><input class=\"sk-toggleable__control sk-hidden--visually\" id=\"cd95b5a8-6988-491a-a407-354e742ef060\" type=\"checkbox\" ><label for=\"cd95b5a8-6988-491a-a407-354e742ef060\" class=\"sk-toggleable__label sk-toggleable__label-arrow\">onehotencoder</label><div class=\"sk-toggleable__content\"><pre>&lt;sklearn.compose._column_transformer.make_column_selector object at 0x7fd16ebb8dd0&gt;</pre></div></div></div><div class=\"sk-serial\"><div class=\"sk-item\"><div class=\"sk-estimator sk-toggleable\"><input class=\"sk-toggleable__control sk-hidden--visually\" id=\"8099ddb8-79d8-465c-bd8a-8e24ce97b284\" type=\"checkbox\" ><label for=\"8099ddb8-79d8-465c-bd8a-8e24ce97b284\" class=\"sk-toggleable__label sk-toggleable__label-arrow\">OneHotEncoder</label><div class=\"sk-toggleable__content\"><pre>OneHotEncoder(handle_unknown=&#x27;ignore&#x27;, sparse=False)</pre></div></div></div></div></div></div></div></div><div class=\"sk-item\"><div class=\"sk-estimator sk-toggleable\"><input class=\"sk-toggleable__control sk-hidden--visually\" id=\"c8651edb-9a43-45af-a296-b17f392e8d8d\" type=\"checkbox\" ><label for=\"c8651edb-9a43-45af-a296-b17f392e8d8d\" class=\"sk-toggleable__label sk-toggleable__label-arrow\">GradientBoostingClassifier</label><div class=\"sk-toggleable__content\"><pre>GradientBoostingClassifier()</pre></div></div></div></div></div></div></div>"
            ],
            "text/plain": [
              "Pipeline(steps=[('columntransformer',\n",
              "                 ColumnTransformer(transformers=[('standardscaler',\n",
              "                                                  StandardScaler(),\n",
              "                                                  <sklearn.compose._column_transformer.make_column_selector object at 0x7fd16ebb8d10>),\n",
              "                                                 ('onehotencoder',\n",
              "                                                  OneHotEncoder(handle_unknown='ignore',\n",
              "                                                                sparse=False),\n",
              "                                                  <sklearn.compose._column_transformer.make_column_selector object at 0x7fd16ebb8dd0>)])),\n",
              "                ('gradientboostingclassifier', GradientBoostingClassifier())])"
            ]
          },
          "metadata": {},
          "execution_count": 93
        }
      ]
    },
    {
      "cell_type": "code",
      "metadata": {
        "id": "iSvJ4frz4Q0P",
        "colab": {
          "base_uri": "https://localhost:8080/",
          "height": 538
        },
        "outputId": "9301fadc-745a-4d03-eeab-20c9166c8023"
      },
      "source": [
        "%%time\n",
        "# Evaluate the Gradient Booster Classifier\n",
        "# Training Data First\n",
        "evaluate_classification(gbc_pipe, X_train, y_train, classes=target_names,\n",
        "                        label='GBC Training Model Evaluation (Classes-Included)')"
      ],
      "execution_count": 94,
      "outputs": [
        {
          "output_type": "stream",
          "name": "stdout",
          "text": [
            "------------------------------------------------------------\n",
            "[i] CLASSIFICATION REPORT FOR: GBC Training Model Evaluation (Classes-Included)\n",
            "------------------------------------------------------------\n",
            "              precision    recall  f1-score   support\n",
            "\n",
            "        >50K       0.81      0.60      0.69      5914\n",
            "       =<50K       0.88      0.95      0.92     18506\n",
            "\n",
            "    accuracy                           0.87     24420\n",
            "   macro avg       0.84      0.78      0.80     24420\n",
            "weighted avg       0.86      0.87      0.86     24420\n",
            "\n"
          ]
        },
        {
          "output_type": "display_data",
          "data": {
            "image/png": "[encoded data removed]",
            "text/plain": [
              "<Figure size 432x288 with 2 Axes>"
            ]
          },
          "metadata": {
            "needs_background": "light"
          }
        },
        {
          "output_type": "stream",
          "name": "stdout",
          "text": [
            "CPU times: user 1.07 s, sys: 134 ms, total: 1.2 s\n",
            "Wall time: 3.1 s\n"
          ]
        }
      ]
    },
    {
      "cell_type": "code",
      "source": [
        "%%time\n",
        "# Evaluate Testing Data Next\n",
        "evaluate_classification(gbc_pipe,X_test, y_test, classes=target_names,\n",
        "                        label='GBC Testing Model Evaluation (Classes-Included)')"
      ],
      "metadata": {
        "colab": {
          "base_uri": "https://localhost:8080/",
          "height": 538
        },
        "id": "y1H-jIYdXvHV",
        "outputId": "35e253a9-cb87-43b1-ada9-12f2928dfded"
      },
      "execution_count": 95,
      "outputs": [
        {
          "output_type": "stream",
          "name": "stdout",
          "text": [
            "------------------------------------------------------------\n",
            "[i] CLASSIFICATION REPORT FOR: GBC Testing Model Evaluation (Classes-Included)\n",
            "------------------------------------------------------------\n",
            "              precision    recall  f1-score   support\n",
            "\n",
            "        >50K       0.80      0.59      0.68      1927\n",
            "       =<50K       0.88      0.95      0.92      6214\n",
            "\n",
            "    accuracy                           0.87      8141\n",
            "   macro avg       0.84      0.77      0.80      8141\n",
            "weighted avg       0.86      0.87      0.86      8141\n",
            "\n"
          ]
        },
        {
          "output_type": "display_data",
          "data": {
            "image/png": "[encoded data removed]",
            "text/plain": [
              "<Figure size 432x288 with 2 Axes>"
            ]
          },
          "metadata": {
            "needs_background": "light"
          }
        },
        {
          "output_type": "stream",
          "name": "stdout",
          "text": [
            "CPU times: user 480 ms, sys: 57.9 ms, total: 538 ms\n",
            "Wall time: 537 ms\n"
          ]
        }
      ]
    },
    {
      "cell_type": "markdown",
      "metadata": {
        "id": "y9VNanqkoTf7"
      },
      "source": [
        "\n",
        "# Tuning Gradient Boosting Models\n",
        "\n",
        "Tree-based gradient boosting models have a LOT of hyperparameters to tune.  Here are the documentation pages for each of the 3 models you used today:\n",
        "\n",
        "1. [XGBoost Hyperparameter Documentation](https://xgboost.readthedocs.io/en/latest/parameter.html)\n",
        "2. [LightGBM Hyperparameter Documentation](https://lightgbm.readthedocs.io/en/latest/Parameters-Tuning.html)\n",
        "3. [Scikit-learn Gradient Boosting Classifier Documentation](https://scikit-learn.org/stable/modules/generated/sklearn.ensemble.GradientBoostingClassifier.html)\n",
        "\n",
        "Choose the model you felt performed the best when comparing multiple metrics and the runtime for fitting, and use GridSearchCV to try at least 2 different values each for 3 different hyper parameters in boosting model you chose.\n",
        "\n",
        "See if you can create a model with an accuracy between 86 and 90.\n"
      ]
    },
    {
      "cell_type": "markdown",
      "source": [
        "LGBooster was the faster when evaluating, but XGB performed the best. We are going to hypertune XGB"
      ],
      "metadata": {
        "id": "3g4lrlqtY1GS"
      }
    },
    {
      "cell_type": "code",
      "metadata": {
        "id": "f3M-SZpN_7iN",
        "colab": {
          "base_uri": "https://localhost:8080/"
        },
        "outputId": "4b9ebbe0-9589-452b-cecf-21f06f1e177e"
      },
      "source": [
        "%%time\n",
        "xgb_pipe.get_params()"
      ],
      "execution_count": 96,
      "outputs": [
        {
          "output_type": "stream",
          "name": "stdout",
          "text": [
            "CPU times: user 667 µs, sys: 0 ns, total: 667 µs\n",
            "Wall time: 678 µs\n"
          ]
        },
        {
          "output_type": "execute_result",
          "data": {
            "text/plain": [
              "{'columntransformer': ColumnTransformer(transformers=[('standardscaler', StandardScaler(),\n",
              "                                  <sklearn.compose._column_transformer.make_column_selector object at 0x7fd16ebb8d10>),\n",
              "                                 ('onehotencoder',\n",
              "                                  OneHotEncoder(handle_unknown='ignore',\n",
              "                                                sparse=False),\n",
              "                                  <sklearn.compose._column_transformer.make_column_selector object at 0x7fd16ebb8dd0>)]),\n",
              " 'columntransformer__n_jobs': None,\n",
              " 'columntransformer__onehotencoder': OneHotEncoder(handle_unknown='ignore', sparse=False),\n",
              " 'columntransformer__onehotencoder__categories': 'auto',\n",
              " 'columntransformer__onehotencoder__drop': None,\n",
              " 'columntransformer__onehotencoder__dtype': numpy.float64,\n",
              " 'columntransformer__onehotencoder__handle_unknown': 'ignore',\n",
              " 'columntransformer__onehotencoder__sparse': False,\n",
              " 'columntransformer__remainder': 'drop',\n",
              " 'columntransformer__sparse_threshold': 0.3,\n",
              " 'columntransformer__standardscaler': StandardScaler(),\n",
              " 'columntransformer__standardscaler__copy': True,\n",
              " 'columntransformer__standardscaler__with_mean': True,\n",
              " 'columntransformer__standardscaler__with_std': True,\n",
              " 'columntransformer__transformer_weights': None,\n",
              " 'columntransformer__transformers': [('standardscaler',\n",
              "   StandardScaler(),\n",
              "   <sklearn.compose._column_transformer.make_column_selector at 0x7fd16ebb8d10>),\n",
              "  ('onehotencoder',\n",
              "   OneHotEncoder(handle_unknown='ignore', sparse=False),\n",
              "   <sklearn.compose._column_transformer.make_column_selector at 0x7fd16ebb8dd0>)],\n",
              " 'columntransformer__verbose': False,\n",
              " 'columntransformer__verbose_feature_names_out': True,\n",
              " 'memory': None,\n",
              " 'steps': [('columntransformer',\n",
              "   ColumnTransformer(transformers=[('standardscaler', StandardScaler(),\n",
              "                                    <sklearn.compose._column_transformer.make_column_selector object at 0x7fd16ebb8d10>),\n",
              "                                   ('onehotencoder',\n",
              "                                    OneHotEncoder(handle_unknown='ignore',\n",
              "                                                  sparse=False),\n",
              "                                    <sklearn.compose._column_transformer.make_column_selector object at 0x7fd16ebb8dd0>)])),\n",
              "  ('xgbclassifier', XGBClassifier())],\n",
              " 'verbose': False,\n",
              " 'xgbclassifier': XGBClassifier(),\n",
              " 'xgbclassifier__base_score': 0.5,\n",
              " 'xgbclassifier__booster': 'gbtree',\n",
              " 'xgbclassifier__colsample_bylevel': 1,\n",
              " 'xgbclassifier__colsample_bynode': 1,\n",
              " 'xgbclassifier__colsample_bytree': 1,\n",
              " 'xgbclassifier__gamma': 0,\n",
              " 'xgbclassifier__learning_rate': 0.1,\n",
              " 'xgbclassifier__max_delta_step': 0,\n",
              " 'xgbclassifier__max_depth': 3,\n",
              " 'xgbclassifier__min_child_weight': 1,\n",
              " 'xgbclassifier__missing': None,\n",
              " 'xgbclassifier__n_estimators': 100,\n",
              " 'xgbclassifier__n_jobs': 1,\n",
              " 'xgbclassifier__nthread': None,\n",
              " 'xgbclassifier__objective': 'binary:logistic',\n",
              " 'xgbclassifier__random_state': 0,\n",
              " 'xgbclassifier__reg_alpha': 0,\n",
              " 'xgbclassifier__reg_lambda': 1,\n",
              " 'xgbclassifier__scale_pos_weight': 1,\n",
              " 'xgbclassifier__seed': None,\n",
              " 'xgbclassifier__silent': None,\n",
              " 'xgbclassifier__subsample': 1,\n",
              " 'xgbclassifier__verbosity': 1}"
            ]
          },
          "metadata": {},
          "execution_count": 96
        }
      ]
    },
    {
      "cell_type": "code",
      "source": [
        "# Define a dictionary of the parameters I am going to Tune\n",
        "param_grid = {'xgbclassifier__n_estimatorss': range(100,200,25),\n",
        "              'xgbclassifier__max_depth': range(1,6,2),\n",
        "              'xgbclassifier__learning_rate': [0.1, 0.01, 0.05]}"
      ],
      "metadata": {
        "id": "hg_-S-LzZQ-x"
      },
      "execution_count": 107,
      "outputs": []
    },
    {
      "cell_type": "markdown",
      "source": [
        ""
      ],
      "metadata": {
        "id": "alqkAgTrZQmj"
      }
    },
    {
      "cell_type": "code",
      "source": [
        "%%time\n",
        "#Instantiate a gridsearch with the model and the hyperparameter dictionary\n",
        "grid = GridSearchCV(xgb_pipe, param_grid)\n",
        "grid.fit(X_train, y_train)\n",
        "print(grid.best_params_)"
      ],
      "metadata": {
        "colab": {
          "base_uri": "https://localhost:8080/"
        },
        "id": "Qe3LEdiYZHgp",
        "outputId": "6de4269e-9359-44ad-cc52-57ded6655e5b"
      },
      "execution_count": 108,
      "outputs": [
        {
          "output_type": "stream",
          "name": "stdout",
          "text": [
            "{'xgbclassifier__learning_rate': 0.1, 'xgbclassifier__max_depth': 5, 'xgbclassifier__n_estimatorss': 100}\n",
            "CPU times: user 19min 55s, sys: 9.35 s, total: 20min 5s\n",
            "Wall time: 16min 29s\n"
          ]
        }
      ]
    },
    {
      "cell_type": "code",
      "source": [
        "# Check the optimal combinations of the hyperparameters:\n",
        "best_xgbc = grid.best_estimator_\n",
        "best_xgbc"
      ],
      "metadata": {
        "colab": {
          "base_uri": "https://localhost:8080/",
          "height": 192
        },
        "id": "Xf24jO2qnKeW",
        "outputId": "a176a799-5ed9-45a6-c489-f76de2f82a33"
      },
      "execution_count": 109,
      "outputs": [
        {
          "output_type": "execute_result",
          "data": {
            "text/html": [
              "<style>#sk-dc3d6936-179d-4dd3-bf91-a0cf164dd711 {color: black;background-color: white;}#sk-dc3d6936-179d-4dd3-bf91-a0cf164dd711 pre{padding: 0;}#sk-dc3d6936-179d-4dd3-bf91-a0cf164dd711 div.sk-toggleable {background-color: white;}#sk-dc3d6936-179d-4dd3-bf91-a0cf164dd711 label.sk-toggleable__label {cursor: pointer;display: block;width: 100%;margin-bottom: 0;padding: 0.3em;box-sizing: border-box;text-align: center;}#sk-dc3d6936-179d-4dd3-bf91-a0cf164dd711 label.sk-toggleable__label-arrow:before {content: \"▸\";float: left;margin-right: 0.25em;color: #696969;}#sk-dc3d6936-179d-4dd3-bf91-a0cf164dd711 label.sk-toggleable__label-arrow:hover:before {color: black;}#sk-dc3d6936-179d-4dd3-bf91-a0cf164dd711 div.sk-estimator:hover label.sk-toggleable__label-arrow:before {color: black;}#sk-dc3d6936-179d-4dd3-bf91-a0cf164dd711 div.sk-toggleable__content {max-height: 0;max-width: 0;overflow: hidden;text-align: left;background-color: #f0f8ff;}#sk-dc3d6936-179d-4dd3-bf91-a0cf164dd711 div.sk-toggleable__content pre {margin: 0.2em;color: black;border-radius: 0.25em;background-color: #f0f8ff;}#sk-dc3d6936-179d-4dd3-bf91-a0cf164dd711 input.sk-toggleable__control:checked~div.sk-toggleable__content {max-height: 200px;max-width: 100%;overflow: auto;}#sk-dc3d6936-179d-4dd3-bf91-a0cf164dd711 input.sk-toggleable__control:checked~label.sk-toggleable__label-arrow:before {content: \"▾\";}#sk-dc3d6936-179d-4dd3-bf91-a0cf164dd711 div.sk-estimator input.sk-toggleable__control:checked~label.sk-toggleable__label {background-color: #d4ebff;}#sk-dc3d6936-179d-4dd3-bf91-a0cf164dd711 div.sk-label input.sk-toggleable__control:checked~label.sk-toggleable__label {background-color: #d4ebff;}#sk-dc3d6936-179d-4dd3-bf91-a0cf164dd711 input.sk-hidden--visually {border: 0;clip: rect(1px 1px 1px 1px);clip: rect(1px, 1px, 1px, 1px);height: 1px;margin: -1px;overflow: hidden;padding: 0;position: absolute;width: 1px;}#sk-dc3d6936-179d-4dd3-bf91-a0cf164dd711 div.sk-estimator {font-family: monospace;background-color: #f0f8ff;border: 1px dotted black;border-radius: 0.25em;box-sizing: border-box;margin-bottom: 0.5em;}#sk-dc3d6936-179d-4dd3-bf91-a0cf164dd711 div.sk-estimator:hover {background-color: #d4ebff;}#sk-dc3d6936-179d-4dd3-bf91-a0cf164dd711 div.sk-parallel-item::after {content: \"\";width: 100%;border-bottom: 1px solid gray;flex-grow: 1;}#sk-dc3d6936-179d-4dd3-bf91-a0cf164dd711 div.sk-label:hover label.sk-toggleable__label {background-color: #d4ebff;}#sk-dc3d6936-179d-4dd3-bf91-a0cf164dd711 div.sk-serial::before {content: \"\";position: absolute;border-left: 1px solid gray;box-sizing: border-box;top: 2em;bottom: 0;left: 50%;}#sk-dc3d6936-179d-4dd3-bf91-a0cf164dd711 div.sk-serial {display: flex;flex-direction: column;align-items: center;background-color: white;padding-right: 0.2em;padding-left: 0.2em;}#sk-dc3d6936-179d-4dd3-bf91-a0cf164dd711 div.sk-item {z-index: 1;}#sk-dc3d6936-179d-4dd3-bf91-a0cf164dd711 div.sk-parallel {display: flex;align-items: stretch;justify-content: center;background-color: white;}#sk-dc3d6936-179d-4dd3-bf91-a0cf164dd711 div.sk-parallel::before {content: \"\";position: absolute;border-left: 1px solid gray;box-sizing: border-box;top: 2em;bottom: 0;left: 50%;}#sk-dc3d6936-179d-4dd3-bf91-a0cf164dd711 div.sk-parallel-item {display: flex;flex-direction: column;position: relative;background-color: white;}#sk-dc3d6936-179d-4dd3-bf91-a0cf164dd711 div.sk-parallel-item:first-child::after {align-self: flex-end;width: 50%;}#sk-dc3d6936-179d-4dd3-bf91-a0cf164dd711 div.sk-parallel-item:last-child::after {align-self: flex-start;width: 50%;}#sk-dc3d6936-179d-4dd3-bf91-a0cf164dd711 div.sk-parallel-item:only-child::after {width: 0;}#sk-dc3d6936-179d-4dd3-bf91-a0cf164dd711 div.sk-dashed-wrapped {border: 1px dashed gray;margin: 0 0.4em 0.5em 0.4em;box-sizing: border-box;padding-bottom: 0.4em;background-color: white;position: relative;}#sk-dc3d6936-179d-4dd3-bf91-a0cf164dd711 div.sk-label label {font-family: monospace;font-weight: bold;background-color: white;display: inline-block;line-height: 1.2em;}#sk-dc3d6936-179d-4dd3-bf91-a0cf164dd711 div.sk-label-container {position: relative;z-index: 2;text-align: center;}#sk-dc3d6936-179d-4dd3-bf91-a0cf164dd711 div.sk-container {/* jupyter's `normalize.less` sets `[hidden] { display: none; }` but bootstrap.min.css set `[hidden] { display: none !important; }` so we also need the `!important` here to be able to override the default hidden behavior on the sphinx rendered scikit-learn.org. See: https://github.com/scikit-learn/scikit-learn/issues/21755 */display: inline-block !important;position: relative;}#sk-dc3d6936-179d-4dd3-bf91-a0cf164dd711 div.sk-text-repr-fallback {display: none;}</style><div id=\"sk-dc3d6936-179d-4dd3-bf91-a0cf164dd711\" class=\"sk-top-container\"><div class=\"sk-text-repr-fallback\"><pre>Pipeline(steps=[(&#x27;columntransformer&#x27;,\n",
              "                 ColumnTransformer(transformers=[(&#x27;standardscaler&#x27;,\n",
              "                                                  StandardScaler(),\n",
              "                                                  &lt;sklearn.compose._column_transformer.make_column_selector object at 0x7fd170c1c6d0&gt;),\n",
              "                                                 (&#x27;onehotencoder&#x27;,\n",
              "                                                  OneHotEncoder(handle_unknown=&#x27;ignore&#x27;,\n",
              "                                                                sparse=False),\n",
              "                                                  &lt;sklearn.compose._column_transformer.make_column_selector object at 0x7fd16ee12550&gt;)])),\n",
              "                (&#x27;xgbclassifier&#x27;,\n",
              "                 XGBClassifier(max_depth=5, n_estimatorss=100))])</pre><b>Please rerun this cell to show the HTML repr or trust the notebook.</b></div><div class=\"sk-container\" hidden><div class=\"sk-item sk-dashed-wrapped\"><div class=\"sk-label-container\"><div class=\"sk-label sk-toggleable\"><input class=\"sk-toggleable__control sk-hidden--visually\" id=\"b1d20311-0a4d-4777-8d4b-026b15befd70\" type=\"checkbox\" ><label for=\"b1d20311-0a4d-4777-8d4b-026b15befd70\" class=\"sk-toggleable__label sk-toggleable__label-arrow\">Pipeline</label><div class=\"sk-toggleable__content\"><pre>Pipeline(steps=[(&#x27;columntransformer&#x27;,\n",
              "                 ColumnTransformer(transformers=[(&#x27;standardscaler&#x27;,\n",
              "                                                  StandardScaler(),\n",
              "                                                  &lt;sklearn.compose._column_transformer.make_column_selector object at 0x7fd170c1c6d0&gt;),\n",
              "                                                 (&#x27;onehotencoder&#x27;,\n",
              "                                                  OneHotEncoder(handle_unknown=&#x27;ignore&#x27;,\n",
              "                                                                sparse=False),\n",
              "                                                  &lt;sklearn.compose._column_transformer.make_column_selector object at 0x7fd16ee12550&gt;)])),\n",
              "                (&#x27;xgbclassifier&#x27;,\n",
              "                 XGBClassifier(max_depth=5, n_estimatorss=100))])</pre></div></div></div><div class=\"sk-serial\"><div class=\"sk-item sk-dashed-wrapped\"><div class=\"sk-label-container\"><div class=\"sk-label sk-toggleable\"><input class=\"sk-toggleable__control sk-hidden--visually\" id=\"d09c7c02-3de7-41dd-9075-cdefe7d68332\" type=\"checkbox\" ><label for=\"d09c7c02-3de7-41dd-9075-cdefe7d68332\" class=\"sk-toggleable__label sk-toggleable__label-arrow\">columntransformer: ColumnTransformer</label><div class=\"sk-toggleable__content\"><pre>ColumnTransformer(transformers=[(&#x27;standardscaler&#x27;, StandardScaler(),\n",
              "                                 &lt;sklearn.compose._column_transformer.make_column_selector object at 0x7fd170c1c6d0&gt;),\n",
              "                                (&#x27;onehotencoder&#x27;,\n",
              "                                 OneHotEncoder(handle_unknown=&#x27;ignore&#x27;,\n",
              "                                               sparse=False),\n",
              "                                 &lt;sklearn.compose._column_transformer.make_column_selector object at 0x7fd16ee12550&gt;)])</pre></div></div></div><div class=\"sk-parallel\"><div class=\"sk-parallel-item\"><div class=\"sk-item\"><div class=\"sk-label-container\"><div class=\"sk-label sk-toggleable\"><input class=\"sk-toggleable__control sk-hidden--visually\" id=\"ae157786-4d83-4490-9c38-4c737022b347\" type=\"checkbox\" ><label for=\"ae157786-4d83-4490-9c38-4c737022b347\" class=\"sk-toggleable__label sk-toggleable__label-arrow\">standardscaler</label><div class=\"sk-toggleable__content\"><pre>&lt;sklearn.compose._column_transformer.make_column_selector object at 0x7fd170c1c6d0&gt;</pre></div></div></div><div class=\"sk-serial\"><div class=\"sk-item\"><div class=\"sk-estimator sk-toggleable\"><input class=\"sk-toggleable__control sk-hidden--visually\" id=\"6c9ec339-f161-4bb4-b653-f82d9025a9e9\" type=\"checkbox\" ><label for=\"6c9ec339-f161-4bb4-b653-f82d9025a9e9\" class=\"sk-toggleable__label sk-toggleable__label-arrow\">StandardScaler</label><div class=\"sk-toggleable__content\"><pre>StandardScaler()</pre></div></div></div></div></div></div><div class=\"sk-parallel-item\"><div class=\"sk-item\"><div class=\"sk-label-container\"><div class=\"sk-label sk-toggleable\"><input class=\"sk-toggleable__control sk-hidden--visually\" id=\"e4ef3424-43e9-4c4f-83c2-40c587e8136f\" type=\"checkbox\" ><label for=\"e4ef3424-43e9-4c4f-83c2-40c587e8136f\" class=\"sk-toggleable__label sk-toggleable__label-arrow\">onehotencoder</label><div class=\"sk-toggleable__content\"><pre>&lt;sklearn.compose._column_transformer.make_column_selector object at 0x7fd16ee12550&gt;</pre></div></div></div><div class=\"sk-serial\"><div class=\"sk-item\"><div class=\"sk-estimator sk-toggleable\"><input class=\"sk-toggleable__control sk-hidden--visually\" id=\"a2ef8f54-a4da-4f58-926a-a9efaa26daac\" type=\"checkbox\" ><label for=\"a2ef8f54-a4da-4f58-926a-a9efaa26daac\" class=\"sk-toggleable__label sk-toggleable__label-arrow\">OneHotEncoder</label><div class=\"sk-toggleable__content\"><pre>OneHotEncoder(handle_unknown=&#x27;ignore&#x27;, sparse=False)</pre></div></div></div></div></div></div></div></div><div class=\"sk-item\"><div class=\"sk-estimator sk-toggleable\"><input class=\"sk-toggleable__control sk-hidden--visually\" id=\"f833daca-f094-4d18-b89b-394b684814af\" type=\"checkbox\" ><label for=\"f833daca-f094-4d18-b89b-394b684814af\" class=\"sk-toggleable__label sk-toggleable__label-arrow\">XGBClassifier</label><div class=\"sk-toggleable__content\"><pre>XGBClassifier(max_depth=5, n_estimatorss=100)</pre></div></div></div></div></div></div></div>"
            ],
            "text/plain": [
              "Pipeline(steps=[('columntransformer',\n",
              "                 ColumnTransformer(transformers=[('standardscaler',\n",
              "                                                  StandardScaler(),\n",
              "                                                  <sklearn.compose._column_transformer.make_column_selector object at 0x7fd170c1c6d0>),\n",
              "                                                 ('onehotencoder',\n",
              "                                                  OneHotEncoder(handle_unknown='ignore',\n",
              "                                                                sparse=False),\n",
              "                                                  <sklearn.compose._column_transformer.make_column_selector object at 0x7fd16ee12550>)])),\n",
              "                ('xgbclassifier',\n",
              "                 XGBClassifier(max_depth=5, n_estimatorss=100))])"
            ]
          },
          "metadata": {},
          "execution_count": 109
        }
      ]
    },
    {
      "cell_type": "markdown",
      "metadata": {
        "id": "jAV4kPhjHGf5"
      },
      "source": [
        "# Evaluation\n",
        "\n",
        "Evaluate your model using a classifiation report and/or a confusion matrix.  Explain in text how your model performed in terms of precision, recall, and it's ability to predict each of the two classes.  Also talk about the benefits or drawbacks of the computation time of that model."
      ]
    },
    {
      "cell_type": "code",
      "source": [
        "# Evaluate the best XGBC Training Data\n",
        "evaluate_classification(best_xgbc, X_train, y_train, classes=target_names,\n",
        "                                    label='XGBC Best Parameters Training Data (Classes Included)')"
      ],
      "metadata": {
        "colab": {
          "base_uri": "https://localhost:8080/",
          "height": 503
        },
        "id": "D0Tv0rJUn4JF",
        "outputId": "91cd6824-2ade-401c-a21e-b8572ad05a60"
      },
      "execution_count": 112,
      "outputs": [
        {
          "output_type": "stream",
          "name": "stdout",
          "text": [
            "------------------------------------------------------------\n",
            "[i] CLASSIFICATION REPORT FOR: XGBC Best Parameters Training Data (Classes Included)\n",
            "------------------------------------------------------------\n",
            "              precision    recall  f1-score   support\n",
            "\n",
            "        >50K       0.82      0.64      0.72      5914\n",
            "       =<50K       0.89      0.95      0.92     18506\n",
            "\n",
            "    accuracy                           0.88     24420\n",
            "   macro avg       0.85      0.80      0.82     24420\n",
            "weighted avg       0.87      0.88      0.87     24420\n",
            "\n"
          ]
        },
        {
          "output_type": "display_data",
          "data": {
            "image/png": "[encoded data removed]",
            "text/plain": [
              "<Figure size 432x288 with 2 Axes>"
            ]
          },
          "metadata": {
            "needs_background": "light"
          }
        }
      ]
    },
    {
      "cell_type": "code",
      "metadata": {
        "id": "MMQkGSUeEyEx",
        "colab": {
          "base_uri": "https://localhost:8080/",
          "height": 503
        },
        "outputId": "dc876e1b-406b-49cf-d472-2c7f7410b7d6"
      },
      "source": [
        "# Evaluate the best xgbc Testing Data\n",
        "evaluate_classification(best_xgbc, X_test, y_test, classes=target_names,\n",
        "                        label='XBGC Best Parameters Testing Data (Classes Included)')"
      ],
      "execution_count": 110,
      "outputs": [
        {
          "output_type": "stream",
          "name": "stdout",
          "text": [
            "------------------------------------------------------------\n",
            "[i] CLASSIFICATION REPORT FOR: XBGC Best Parameters Testing Data (Classes Included)\n",
            "------------------------------------------------------------\n",
            "              precision    recall  f1-score   support\n",
            "\n",
            "        >50K       0.79      0.63      0.70      1927\n",
            "       =<50K       0.89      0.95      0.92      6214\n",
            "\n",
            "    accuracy                           0.87      8141\n",
            "   macro avg       0.84      0.79      0.81      8141\n",
            "weighted avg       0.87      0.87      0.87      8141\n",
            "\n"
          ]
        },
        {
          "output_type": "display_data",
          "data": {
            "image/png": "[encoded data removed]",
            "text/plain": [
              "<Figure size 432x288 with 2 Axes>"
            ]
          },
          "metadata": {
            "needs_background": "light"
          }
        }
      ]
    },
    {
      "cell_type": "markdown",
      "source": [
        "With the best parameters, my model was able to perform better in precision and recall predictions of individual's who were making less than 50k. The accuracy of my model increased with the best parameters I hypertuned in the CV Grid. \n",
        "\n",
        "One of the benefits of the XGBC Model is it's ability to predict will less bias, however, one of the drawbacks is the amount of time it takes to complete, especially when you include the hypertuning of the parameters."
      ],
      "metadata": {
        "id": "w0fgUTTfoaIS"
      }
    },
    {
      "cell_type": "markdown",
      "metadata": {
        "id": "IjtsxJQ5l7Hi"
      },
      "source": [
        "# Conclusion\n",
        "\n",
        "In this assignment you practiced:\n",
        "1. data cleaning\n",
        "2. instantiating, fitting, and evaluating boosting models using multiple metrics\n",
        "3. timing how long it takes a model to fit and comparing run times between multiple models\n",
        "4. and choosing a final model based on multiple metrics.\n",
        "\n"
      ]
    }
  ]
}