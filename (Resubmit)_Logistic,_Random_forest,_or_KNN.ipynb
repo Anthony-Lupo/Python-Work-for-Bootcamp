{
  "nbformat": 4,
  "nbformat_minor": 0,
  "metadata": {
    "colab": {
      "name": "(Resubmit) Logistic, Random forest, or KNN.ipynb",
      "provenance": [],
      "collapsed_sections": [],
      "mount_file_id": "1dtWjGqLV7Bfq6uqbWUF5Tca--U_2Zkrg",
      "authorship_tag": "ABX9TyPg4/9hAtrRWEhwU6H5yrWv",
      "include_colab_link": true
    },
    "kernelspec": {
      "name": "python3",
      "display_name": "Python 3"
    },
    "language_info": {
      "name": "python"
    }
  },
  "cells": [
    {
      "cell_type": "markdown",
      "metadata": {
        "id": "view-in-github",
        "colab_type": "text"
      },
      "source": [
        "<a href=\"https://colab.research.google.com/github/alupo933/Python-Work-for-Bootcamp/blob/main/(Resubmit)_Logistic%2C_Random_forest%2C_or_KNN.ipynb\" target=\"_parent\"><img src=\"https://colab.research.google.com/assets/colab-badge.svg\" alt=\"Open In Colab\"/></a>"
      ]
    },
    {
      "cell_type": "code",
      "execution_count": 1,
      "metadata": {
        "id": "Zyt7hYuuLmE_"
      },
      "outputs": [],
      "source": [
        "import pandas as pd\n",
        "import numpy as np\n",
        "import matplotlib.pyplot as plt\n",
        "from sklearn.model_selection import train_test_split\n",
        "from sklearn.preprocessing import StandardScaler, OneHotEncoder\n",
        "from sklearn.neighbors import KNeighborsRegressor\n",
        "from sklearn.dummy import DummyRegressor\n",
        "from sklearn.pipeline import make_pipeline\n",
        "from sklearn.metrics import mean_squared_error, mean_absolute_error, r2_score\n",
        "from sklearn.compose import make_column_selector, make_column_transformer\n",
        "from sklearn.impute import SimpleImputer\n",
        "from sklearn.linear_model import LinearRegression\n",
        "from sklearn.linear_model import LogisticRegression\n",
        "from sklearn.preprocessing import StandardScaler, OneHotEncoder\n",
        "from sklearn.pipeline import make_pipeline\n",
        "from sklearn.neighbors import KNeighborsClassifier\n",
        "from sklearn.model_selection import GridSearchCV, RandomizedSearchCV\n",
        "import seaborn as sns\n",
        "from sklearn.metrics import accuracy_score, classification_report, confusion_matrix\n",
        "from seaborn import heatmap\n",
        "from sklearn import set_config\n",
        "set_config(display='diagram')"
      ]
    },
    {
      "cell_type": "code",
      "source": [
        "filename ='/content/drive/MyDrive/Coding Dojo Data Science Boot Camp/Excel Files/Wine_cultivars.csv'\n",
        "wine = pd.read_csv(filename)\n",
        "wine.head()"
      ],
      "metadata": {
        "colab": {
          "base_uri": "https://localhost:8080/",
          "height": 206
        },
        "id": "T1byBkRGL1N9",
        "outputId": "9a8d901b-3eb2-4f29-c724-9ef693b415b5"
      },
      "execution_count": 2,
      "outputs": [
        {
          "output_type": "execute_result",
          "data": {
            "text/html": [
              "\n",
              "  <div id=\"df-66b1f127-7e58-45ec-a5c2-9f5a953b72c8\">\n",
              "    <div class=\"colab-df-container\">\n",
              "      <div>\n",
              "<style scoped>\n",
              "    .dataframe tbody tr th:only-of-type {\n",
              "        vertical-align: middle;\n",
              "    }\n",
              "\n",
              "    .dataframe tbody tr th {\n",
              "        vertical-align: top;\n",
              "    }\n",
              "\n",
              "    .dataframe thead th {\n",
              "        text-align: right;\n",
              "    }\n",
              "</style>\n",
              "<table border=\"1\" class=\"dataframe\">\n",
              "  <thead>\n",
              "    <tr style=\"text-align: right;\">\n",
              "      <th></th>\n",
              "      <th>Class label</th>\n",
              "      <th>Alcohol</th>\n",
              "      <th>Malic Acid</th>\n",
              "      <th>Ash</th>\n",
              "      <th>Alcalinity of ash</th>\n",
              "      <th>Magnesium</th>\n",
              "      <th>Total phenols</th>\n",
              "      <th>Flavanoids</th>\n",
              "      <th>Nonflavonid phenols</th>\n",
              "      <th>Proanthocyanins</th>\n",
              "      <th>Color intensity</th>\n",
              "      <th>Hue</th>\n",
              "      <th>OD280/OD315 of diluted wines</th>\n",
              "      <th>Proline</th>\n",
              "    </tr>\n",
              "  </thead>\n",
              "  <tbody>\n",
              "    <tr>\n",
              "      <th>0</th>\n",
              "      <td>1</td>\n",
              "      <td>14.23</td>\n",
              "      <td>1.71</td>\n",
              "      <td>2.43</td>\n",
              "      <td>15.6</td>\n",
              "      <td>127</td>\n",
              "      <td>2.80</td>\n",
              "      <td>3.06</td>\n",
              "      <td>0.28</td>\n",
              "      <td>2.29</td>\n",
              "      <td>5.64</td>\n",
              "      <td>1.04</td>\n",
              "      <td>3.92</td>\n",
              "      <td>1065</td>\n",
              "    </tr>\n",
              "    <tr>\n",
              "      <th>1</th>\n",
              "      <td>1</td>\n",
              "      <td>13.20</td>\n",
              "      <td>1.78</td>\n",
              "      <td>2.14</td>\n",
              "      <td>11.2</td>\n",
              "      <td>100</td>\n",
              "      <td>2.65</td>\n",
              "      <td>2.76</td>\n",
              "      <td>0.26</td>\n",
              "      <td>1.28</td>\n",
              "      <td>4.38</td>\n",
              "      <td>1.05</td>\n",
              "      <td>3.40</td>\n",
              "      <td>1050</td>\n",
              "    </tr>\n",
              "    <tr>\n",
              "      <th>2</th>\n",
              "      <td>1</td>\n",
              "      <td>13.16</td>\n",
              "      <td>2.36</td>\n",
              "      <td>2.67</td>\n",
              "      <td>18.6</td>\n",
              "      <td>101</td>\n",
              "      <td>2.80</td>\n",
              "      <td>3.24</td>\n",
              "      <td>0.30</td>\n",
              "      <td>2.81</td>\n",
              "      <td>5.68</td>\n",
              "      <td>1.03</td>\n",
              "      <td>3.17</td>\n",
              "      <td>1185</td>\n",
              "    </tr>\n",
              "    <tr>\n",
              "      <th>3</th>\n",
              "      <td>1</td>\n",
              "      <td>14.37</td>\n",
              "      <td>1.95</td>\n",
              "      <td>2.50</td>\n",
              "      <td>16.8</td>\n",
              "      <td>113</td>\n",
              "      <td>3.85</td>\n",
              "      <td>3.49</td>\n",
              "      <td>0.24</td>\n",
              "      <td>2.18</td>\n",
              "      <td>7.80</td>\n",
              "      <td>0.86</td>\n",
              "      <td>3.45</td>\n",
              "      <td>1480</td>\n",
              "    </tr>\n",
              "    <tr>\n",
              "      <th>4</th>\n",
              "      <td>1</td>\n",
              "      <td>13.24</td>\n",
              "      <td>2.59</td>\n",
              "      <td>2.87</td>\n",
              "      <td>21.0</td>\n",
              "      <td>118</td>\n",
              "      <td>2.80</td>\n",
              "      <td>2.69</td>\n",
              "      <td>0.39</td>\n",
              "      <td>1.82</td>\n",
              "      <td>4.32</td>\n",
              "      <td>1.04</td>\n",
              "      <td>2.93</td>\n",
              "      <td>735</td>\n",
              "    </tr>\n",
              "  </tbody>\n",
              "</table>\n",
              "</div>\n",
              "      <button class=\"colab-df-convert\" onclick=\"convertToInteractive('df-66b1f127-7e58-45ec-a5c2-9f5a953b72c8')\"\n",
              "              title=\"Convert this dataframe to an interactive table.\"\n",
              "              style=\"display:none;\">\n",
              "        \n",
              "  <svg xmlns=\"http://www.w3.org/2000/svg\" height=\"24px\"viewBox=\"0 0 24 24\"\n",
              "       width=\"24px\">\n",
              "    <path d=\"M0 0h24v24H0V0z\" fill=\"none\"/>\n",
              "    <path d=\"M18.56 5.44l.94 2.06.94-2.06 2.06-.94-2.06-.94-.94-2.06-.94 2.06-2.06.94zm-11 1L8.5 8.5l.94-2.06 2.06-.94-2.06-.94L8.5 2.5l-.94 2.06-2.06.94zm10 10l.94 2.06.94-2.06 2.06-.94-2.06-.94-.94-2.06-.94 2.06-2.06.94z\"/><path d=\"M17.41 7.96l-1.37-1.37c-.4-.4-.92-.59-1.43-.59-.52 0-1.04.2-1.43.59L10.3 9.45l-7.72 7.72c-.78.78-.78 2.05 0 2.83L4 21.41c.39.39.9.59 1.41.59.51 0 1.02-.2 1.41-.59l7.78-7.78 2.81-2.81c.8-.78.8-2.07 0-2.86zM5.41 20L4 18.59l7.72-7.72 1.47 1.35L5.41 20z\"/>\n",
              "  </svg>\n",
              "      </button>\n",
              "      \n",
              "  <style>\n",
              "    .colab-df-container {\n",
              "      display:flex;\n",
              "      flex-wrap:wrap;\n",
              "      gap: 12px;\n",
              "    }\n",
              "\n",
              "    .colab-df-convert {\n",
              "      background-color: #E8F0FE;\n",
              "      border: none;\n",
              "      border-radius: 50%;\n",
              "      cursor: pointer;\n",
              "      display: none;\n",
              "      fill: #1967D2;\n",
              "      height: 32px;\n",
              "      padding: 0 0 0 0;\n",
              "      width: 32px;\n",
              "    }\n",
              "\n",
              "    .colab-df-convert:hover {\n",
              "      background-color: #E2EBFA;\n",
              "      box-shadow: 0px 1px 2px rgba(60, 64, 67, 0.3), 0px 1px 3px 1px rgba(60, 64, 67, 0.15);\n",
              "      fill: #174EA6;\n",
              "    }\n",
              "\n",
              "    [theme=dark] .colab-df-convert {\n",
              "      background-color: #3B4455;\n",
              "      fill: #D2E3FC;\n",
              "    }\n",
              "\n",
              "    [theme=dark] .colab-df-convert:hover {\n",
              "      background-color: #434B5C;\n",
              "      box-shadow: 0px 1px 3px 1px rgba(0, 0, 0, 0.15);\n",
              "      filter: drop-shadow(0px 1px 2px rgba(0, 0, 0, 0.3));\n",
              "      fill: #FFFFFF;\n",
              "    }\n",
              "  </style>\n",
              "\n",
              "      <script>\n",
              "        const buttonEl =\n",
              "          document.querySelector('#df-66b1f127-7e58-45ec-a5c2-9f5a953b72c8 button.colab-df-convert');\n",
              "        buttonEl.style.display =\n",
              "          google.colab.kernel.accessAllowed ? 'block' : 'none';\n",
              "\n",
              "        async function convertToInteractive(key) {\n",
              "          const element = document.querySelector('#df-66b1f127-7e58-45ec-a5c2-9f5a953b72c8');\n",
              "          const dataTable =\n",
              "            await google.colab.kernel.invokeFunction('convertToInteractive',\n",
              "                                                     [key], {});\n",
              "          if (!dataTable) return;\n",
              "\n",
              "          const docLinkHtml = 'Like what you see? Visit the ' +\n",
              "            '<a target=\"_blank\" href=https://colab.research.google.com/notebooks/data_table.ipynb>data table notebook</a>'\n",
              "            + ' to learn more about interactive tables.';\n",
              "          element.innerHTML = '';\n",
              "          dataTable['output_type'] = 'display_data';\n",
              "          await google.colab.output.renderOutput(dataTable, element);\n",
              "          const docLink = document.createElement('div');\n",
              "          docLink.innerHTML = docLinkHtml;\n",
              "          element.appendChild(docLink);\n",
              "        }\n",
              "      </script>\n",
              "    </div>\n",
              "  </div>\n",
              "  "
            ],
            "text/plain": [
              "   Class label  Alcohol  ...  OD280/OD315 of diluted wines  Proline\n",
              "0            1    14.23  ...                          3.92     1065\n",
              "1            1    13.20  ...                          3.40     1050\n",
              "2            1    13.16  ...                          3.17     1185\n",
              "3            1    14.37  ...                          3.45     1480\n",
              "4            1    13.24  ...                          2.93      735\n",
              "\n",
              "[5 rows x 14 columns]"
            ]
          },
          "metadata": {},
          "execution_count": 2
        }
      ]
    },
    {
      "cell_type": "code",
      "source": [
        "plt.scatter(wine['Color intensity'], wine['Class label'])\n",
        "plt.ylabel('Class label')\n",
        "plt.xlabel('Color Intesnsity', fontsize = 12)"
      ],
      "metadata": {
        "colab": {
          "base_uri": "https://localhost:8080/",
          "height": 300
        },
        "id": "SC97_nbxMszJ",
        "outputId": "4562b638-86bb-4e11-deea-81dfad87fe37"
      },
      "execution_count": 3,
      "outputs": [
        {
          "output_type": "execute_result",
          "data": {
            "text/plain": [
              "Text(0.5, 0, 'Color Intesnsity')"
            ]
          },
          "metadata": {},
          "execution_count": 3
        },
        {
          "output_type": "display_data",
          "data": {
            "image/png": "[encoded data removed]",
            "text/plain": [
              "<Figure size 432x288 with 1 Axes>"
            ]
          },
          "metadata": {
            "needs_background": "light"
          }
        }
      ]
    },
    {
      "cell_type": "code",
      "source": [
        "X = wine.drop(columns='Class label')\n",
        "y = wine['Class label']\n",
        "X_train, X_test, y_train, y_test = train_test_split(X, y, random_state=42)\n"
      ],
      "metadata": {
        "id": "SN_iUAXlN8vg"
      },
      "execution_count": 4,
      "outputs": []
    },
    {
      "cell_type": "markdown",
      "source": [
        "#1) Use a logistic regression model and try both l1 and l2 regularization."
      ],
      "metadata": {
        "id": "O3kubDIOP5b-"
      }
    },
    {
      "cell_type": "code",
      "source": [
        "# Make a logistic Regression anstance of the madel with default parameters\n",
        "logreg = LogisticRegression()\n",
        "# Instantiate Standard Scalar \n",
        "scaler = StandardScaler()\n",
        "# Put scaler and model on a pipeline\n",
        "logreg_pipe = make_pipeline(scaler, logreg)\n",
        "# Fit and train the model on the data, storing the information learned from the data\n",
        "logreg_pipe.fit(X_train, y_train)\n",
        "print('Training score')\n",
        "print(logreg_pipe.score(X_train, y_train))\n",
        "print('Testing score')\n",
        "print(logreg_pipe.score(X_test, y_test))"
      ],
      "metadata": {
        "colab": {
          "base_uri": "https://localhost:8080/"
        },
        "id": "tMK2Dd_VOVBY",
        "outputId": "fa6aaba5-edd8-4571-c44e-1af9290dc09b"
      },
      "execution_count": 5,
      "outputs": [
        {
          "output_type": "stream",
          "name": "stdout",
          "text": [
            "Training score\n",
            "1.0\n",
            "Testing score\n",
            "0.9777777777777777\n"
          ]
        }
      ]
    },
    {
      "cell_type": "markdown",
      "source": [
        "#L1 Tuning"
      ],
      "metadata": {
        "id": "cqE1QEZwPzX6"
      }
    },
    {
      "cell_type": "code",
      "source": [
        "c_values = [0.001, 0.01, 0.1, 1, 10, 100 ,1000]\n",
        "train_scores = []\n",
        "test_scores = []\n",
        "\n",
        "# iterative over the c values\n",
        "for c in c_values:\n",
        "\n",
        "  # Instantiate a model with each value of c and fit it on the data\n",
        "  log_reg = LogisticRegression(C=c, max_iter=1000, solver='liblinear', penalty='l1')\n",
        "  log_reg_pipe = make_pipeline(scaler, log_reg)\n",
        "  log_reg_pipe.fit(X_train, y_train)\n",
        "\n",
        "  # Add the training and testing scores to the scores list\n",
        "  train_scores.append(log_reg_pipe.score(X_train, y_train))\n",
        "  test_scores.append(log_reg_pipe.score(X_test, y_test))\n",
        "\n",
        "# Plot the change in accuracy as the value of C changes\n",
        "fig, ax = plt.subplots(1,1)\n",
        "ax.plot(c_values, train_scores, label='Training Accuracy')\n",
        "ax.plot(c_values, test_scores, label='Testing Accuracy')\n",
        "ax.set_xticks(c_values)\n",
        "ax.set_title('Change in accuracy over C values for l1 regularization')\n",
        "ax.legend()\n",
        "\n",
        "# set the x axis to a logarithmic scale to show the values of C in even intervals\n",
        "ax.set_xscale('log')\n",
        "# Print a dictionary of values of C and accuracy Scores\n",
        "{c:score for c, score in zip(c_values, test_scores)}"
      ],
      "metadata": {
        "colab": {
          "base_uri": "https://localhost:8080/",
          "height": 414
        },
        "id": "B4GkGvywPq_Y",
        "outputId": "b29fe8aa-3db4-4b86-d96f-49c308263ed2"
      },
      "execution_count": 6,
      "outputs": [
        {
          "output_type": "execute_result",
          "data": {
            "text/plain": [
              "{0.001: 0.3333333333333333,\n",
              " 0.01: 0.3333333333333333,\n",
              " 0.1: 1.0,\n",
              " 1: 0.9777777777777777,\n",
              " 10: 0.9777777777777777,\n",
              " 100: 0.9777777777777777,\n",
              " 1000: 0.9777777777777777}"
            ]
          },
          "metadata": {},
          "execution_count": 6
        },
        {
          "output_type": "display_data",
          "data": {
            "image/png": "[encoded data removed]",
            "text/plain": [
              "<Figure size 432x288 with 1 Axes>"
            ]
          },
          "metadata": {
            "needs_background": "light"
          }
        }
      ]
    },
    {
      "cell_type": "markdown",
      "source": [
        "With L1 tuning, we can see our best test scores are at 0.1"
      ],
      "metadata": {
        "id": "IywTvGbzVsUb"
      }
    },
    {
      "cell_type": "markdown",
      "source": [
        "# L2 Tuning\n"
      ],
      "metadata": {
        "id": "kYCt_R1hTUCy"
      }
    },
    {
      "cell_type": "code",
      "source": [
        "# Create a list of c vlaues and empty lists for scores\n",
        "c_values = [0.001, 0.01, 0.1, 1, 10, 100, 1000]\n",
        "train_scores = []\n",
        "test_scores = []\n",
        "\n",
        "# Iterative over the c values\n",
        "for c in c_values:\n",
        "  #instantiate a model with each value of c and fit it on the data\n",
        "  log_reg = LogisticRegression(C=c, max_iter=1000, solver='liblinear', penalty='l2')\n",
        "  log_reg_pipe2 = make_pipeline(scaler, log_reg)\n",
        "  log_reg_pipe2.fit(X_train, y_train)\n",
        "\n",
        "  # add the training and testing scores to the scores list\n",
        "  train_scores.append(log_reg_pipe2.score(X_train, y_train))\n",
        "  test_scores.append(log_reg_pipe2.score(X_test, y_test))\n",
        "\n",
        "# Plot the change in accuracy as the value of C changes\n",
        "fig, ax = plt.subplots(1,1)\n",
        "ax.plot(c_values, train_scores, label='Training Accuracy')\n",
        "ax.plot(c_values, test_scores, label='Testing Accuracy')\n",
        "ax.set_xticks(c_values)\n",
        "ax.set_title('Change in accuracy over C values for l2 regularization')\n",
        "ax.legend()\n",
        "\n",
        "# Set the X axis to a logarithmic scale to show the values of C in even intervals\n",
        "ax.set_xscale('log')\n",
        "# Print a dictionary of values of C and accuracy scores\n",
        "{c:score for c, score in zip(c_values, test_scores)};"
      ],
      "metadata": {
        "colab": {
          "base_uri": "https://localhost:8080/",
          "height": 284
        },
        "id": "FEOx3yHHTYJX",
        "outputId": "5d5bc07c-4b45-471e-8785-c28d06c4d372"
      },
      "execution_count": 7,
      "outputs": [
        {
          "output_type": "display_data",
          "data": {
            "image/png": "[encoded data removed]",
            "text/plain": [
              "<Figure size 432x288 with 1 Axes>"
            ]
          },
          "metadata": {
            "needs_background": "light"
          }
        }
      ]
    },
    {
      "cell_type": "code",
      "source": [
        "wine.dtypes"
      ],
      "metadata": {
        "colab": {
          "base_uri": "https://localhost:8080/"
        },
        "id": "-g2QARvFX_UD",
        "outputId": "8875b7c1-fd1f-4d2a-d417-a6751f027fd8"
      },
      "execution_count": 8,
      "outputs": [
        {
          "output_type": "execute_result",
          "data": {
            "text/plain": [
              "Class label                       int64\n",
              "Alcohol                         float64\n",
              "Malic Acid                      float64\n",
              "Ash                             float64\n",
              "Alcalinity of ash               float64\n",
              "Magnesium                         int64\n",
              "Total phenols                   float64\n",
              "Flavanoids                      float64\n",
              "Nonflavonid phenols             float64\n",
              "Proanthocyanins                 float64\n",
              "Color intensity                 float64\n",
              "Hue                             float64\n",
              "OD280/OD315 of diluted wines    float64\n",
              "Proline                           int64\n",
              "dtype: object"
            ]
          },
          "metadata": {},
          "execution_count": 8
        }
      ]
    },
    {
      "cell_type": "code",
      "source": [
        "data_types_dict = {'Class label': float,\n",
        "                   'Magnesium': float,\n",
        "                   'Proline': float}\n",
        "wine = wine.astype(data_types_dict)"
      ],
      "metadata": {
        "id": "ISPtuiK-Y332"
      },
      "execution_count": 9,
      "outputs": []
    },
    {
      "cell_type": "code",
      "source": [
        "wine.dtypes"
      ],
      "metadata": {
        "colab": {
          "base_uri": "https://localhost:8080/"
        },
        "id": "c62BhdlTZD7G",
        "outputId": "2d8b5266-3907-49c7-ce8e-583160edab13"
      },
      "execution_count": 10,
      "outputs": [
        {
          "output_type": "execute_result",
          "data": {
            "text/plain": [
              "Class label                     float64\n",
              "Alcohol                         float64\n",
              "Malic Acid                      float64\n",
              "Ash                             float64\n",
              "Alcalinity of ash               float64\n",
              "Magnesium                       float64\n",
              "Total phenols                   float64\n",
              "Flavanoids                      float64\n",
              "Nonflavonid phenols             float64\n",
              "Proanthocyanins                 float64\n",
              "Color intensity                 float64\n",
              "Hue                             float64\n",
              "OD280/OD315 of diluted wines    float64\n",
              "Proline                         float64\n",
              "dtype: object"
            ]
          },
          "metadata": {},
          "execution_count": 10
        }
      ]
    },
    {
      "cell_type": "markdown",
      "source": [
        "With L2 tuning we can see our best test score is at 0.1 and higher\n",
        "\n",
        "Comparatively L1 shows better results in test scores, but it is overfit"
      ],
      "metadata": {
        "id": "vrA9O28qVx34"
      }
    },
    {
      "cell_type": "markdown",
      "source": [
        "#2) After doing that, try using KNN and Random Forest models."
      ],
      "metadata": {
        "id": "broqU9zVWUxc"
      }
    },
    {
      "cell_type": "code",
      "source": [
        "# KNN Model first\n",
        "# Instantiate the model\n",
        "knn = KNeighborsClassifier()\n",
        "# Create a pipeline with Scaler\n",
        "knn_pipe = make_pipeline(scaler, knn)\n",
        "#Fit the Pipeline\n",
        "knn_pipe.fit(X_train, y_train)"
      ],
      "metadata": {
        "colab": {
          "base_uri": "https://localhost:8080/",
          "height": 126
        },
        "id": "9XrTo8fGV-B8",
        "outputId": "21c8c613-d074-457d-ec8c-26c7125c4637"
      },
      "execution_count": 11,
      "outputs": [
        {
          "output_type": "execute_result",
          "data": {
            "text/html": [
              "<style>#sk-6f37a9bd-8281-4aa8-89c0-443ee24523cb {color: black;background-color: white;}#sk-6f37a9bd-8281-4aa8-89c0-443ee24523cb pre{padding: 0;}#sk-6f37a9bd-8281-4aa8-89c0-443ee24523cb div.sk-toggleable {background-color: white;}#sk-6f37a9bd-8281-4aa8-89c0-443ee24523cb label.sk-toggleable__label {cursor: pointer;display: block;width: 100%;margin-bottom: 0;padding: 0.3em;box-sizing: border-box;text-align: center;}#sk-6f37a9bd-8281-4aa8-89c0-443ee24523cb label.sk-toggleable__label-arrow:before {content: \"▸\";float: left;margin-right: 0.25em;color: #696969;}#sk-6f37a9bd-8281-4aa8-89c0-443ee24523cb label.sk-toggleable__label-arrow:hover:before {color: black;}#sk-6f37a9bd-8281-4aa8-89c0-443ee24523cb div.sk-estimator:hover label.sk-toggleable__label-arrow:before {color: black;}#sk-6f37a9bd-8281-4aa8-89c0-443ee24523cb div.sk-toggleable__content {max-height: 0;max-width: 0;overflow: hidden;text-align: left;background-color: #f0f8ff;}#sk-6f37a9bd-8281-4aa8-89c0-443ee24523cb div.sk-toggleable__content pre {margin: 0.2em;color: black;border-radius: 0.25em;background-color: #f0f8ff;}#sk-6f37a9bd-8281-4aa8-89c0-443ee24523cb input.sk-toggleable__control:checked~div.sk-toggleable__content {max-height: 200px;max-width: 100%;overflow: auto;}#sk-6f37a9bd-8281-4aa8-89c0-443ee24523cb input.sk-toggleable__control:checked~label.sk-toggleable__label-arrow:before {content: \"▾\";}#sk-6f37a9bd-8281-4aa8-89c0-443ee24523cb div.sk-estimator input.sk-toggleable__control:checked~label.sk-toggleable__label {background-color: #d4ebff;}#sk-6f37a9bd-8281-4aa8-89c0-443ee24523cb div.sk-label input.sk-toggleable__control:checked~label.sk-toggleable__label {background-color: #d4ebff;}#sk-6f37a9bd-8281-4aa8-89c0-443ee24523cb input.sk-hidden--visually {border: 0;clip: rect(1px 1px 1px 1px);clip: rect(1px, 1px, 1px, 1px);height: 1px;margin: -1px;overflow: hidden;padding: 0;position: absolute;width: 1px;}#sk-6f37a9bd-8281-4aa8-89c0-443ee24523cb div.sk-estimator {font-family: monospace;background-color: #f0f8ff;border: 1px dotted black;border-radius: 0.25em;box-sizing: border-box;margin-bottom: 0.5em;}#sk-6f37a9bd-8281-4aa8-89c0-443ee24523cb div.sk-estimator:hover {background-color: #d4ebff;}#sk-6f37a9bd-8281-4aa8-89c0-443ee24523cb div.sk-parallel-item::after {content: \"\";width: 100%;border-bottom: 1px solid gray;flex-grow: 1;}#sk-6f37a9bd-8281-4aa8-89c0-443ee24523cb div.sk-label:hover label.sk-toggleable__label {background-color: #d4ebff;}#sk-6f37a9bd-8281-4aa8-89c0-443ee24523cb div.sk-serial::before {content: \"\";position: absolute;border-left: 1px solid gray;box-sizing: border-box;top: 2em;bottom: 0;left: 50%;}#sk-6f37a9bd-8281-4aa8-89c0-443ee24523cb div.sk-serial {display: flex;flex-direction: column;align-items: center;background-color: white;padding-right: 0.2em;padding-left: 0.2em;}#sk-6f37a9bd-8281-4aa8-89c0-443ee24523cb div.sk-item {z-index: 1;}#sk-6f37a9bd-8281-4aa8-89c0-443ee24523cb div.sk-parallel {display: flex;align-items: stretch;justify-content: center;background-color: white;}#sk-6f37a9bd-8281-4aa8-89c0-443ee24523cb div.sk-parallel::before {content: \"\";position: absolute;border-left: 1px solid gray;box-sizing: border-box;top: 2em;bottom: 0;left: 50%;}#sk-6f37a9bd-8281-4aa8-89c0-443ee24523cb div.sk-parallel-item {display: flex;flex-direction: column;position: relative;background-color: white;}#sk-6f37a9bd-8281-4aa8-89c0-443ee24523cb div.sk-parallel-item:first-child::after {align-self: flex-end;width: 50%;}#sk-6f37a9bd-8281-4aa8-89c0-443ee24523cb div.sk-parallel-item:last-child::after {align-self: flex-start;width: 50%;}#sk-6f37a9bd-8281-4aa8-89c0-443ee24523cb div.sk-parallel-item:only-child::after {width: 0;}#sk-6f37a9bd-8281-4aa8-89c0-443ee24523cb div.sk-dashed-wrapped {border: 1px dashed gray;margin: 0 0.4em 0.5em 0.4em;box-sizing: border-box;padding-bottom: 0.4em;background-color: white;position: relative;}#sk-6f37a9bd-8281-4aa8-89c0-443ee24523cb div.sk-label label {font-family: monospace;font-weight: bold;background-color: white;display: inline-block;line-height: 1.2em;}#sk-6f37a9bd-8281-4aa8-89c0-443ee24523cb div.sk-label-container {position: relative;z-index: 2;text-align: center;}#sk-6f37a9bd-8281-4aa8-89c0-443ee24523cb div.sk-container {/* jupyter's `normalize.less` sets `[hidden] { display: none; }` but bootstrap.min.css set `[hidden] { display: none !important; }` so we also need the `!important` here to be able to override the default hidden behavior on the sphinx rendered scikit-learn.org. See: https://github.com/scikit-learn/scikit-learn/issues/21755 */display: inline-block !important;position: relative;}#sk-6f37a9bd-8281-4aa8-89c0-443ee24523cb div.sk-text-repr-fallback {display: none;}</style><div id=\"sk-6f37a9bd-8281-4aa8-89c0-443ee24523cb\" class=\"sk-top-container\"><div class=\"sk-text-repr-fallback\"><pre>Pipeline(steps=[(&#x27;standardscaler&#x27;, StandardScaler()),\n",
              "                (&#x27;kneighborsclassifier&#x27;, KNeighborsClassifier())])</pre><b>Please rerun this cell to show the HTML repr or trust the notebook.</b></div><div class=\"sk-container\" hidden><div class=\"sk-item sk-dashed-wrapped\"><div class=\"sk-label-container\"><div class=\"sk-label sk-toggleable\"><input class=\"sk-toggleable__control sk-hidden--visually\" id=\"46234f9a-590c-4cfe-ad77-8c88ac868f25\" type=\"checkbox\" ><label for=\"46234f9a-590c-4cfe-ad77-8c88ac868f25\" class=\"sk-toggleable__label sk-toggleable__label-arrow\">Pipeline</label><div class=\"sk-toggleable__content\"><pre>Pipeline(steps=[(&#x27;standardscaler&#x27;, StandardScaler()),\n",
              "                (&#x27;kneighborsclassifier&#x27;, KNeighborsClassifier())])</pre></div></div></div><div class=\"sk-serial\"><div class=\"sk-item\"><div class=\"sk-estimator sk-toggleable\"><input class=\"sk-toggleable__control sk-hidden--visually\" id=\"7ceafccb-e908-48c4-81ee-3d3beb4ab605\" type=\"checkbox\" ><label for=\"7ceafccb-e908-48c4-81ee-3d3beb4ab605\" class=\"sk-toggleable__label sk-toggleable__label-arrow\">StandardScaler</label><div class=\"sk-toggleable__content\"><pre>StandardScaler()</pre></div></div></div><div class=\"sk-item\"><div class=\"sk-estimator sk-toggleable\"><input class=\"sk-toggleable__control sk-hidden--visually\" id=\"8bcd5816-2ef6-469f-9531-021aefba8280\" type=\"checkbox\" ><label for=\"8bcd5816-2ef6-469f-9531-021aefba8280\" class=\"sk-toggleable__label sk-toggleable__label-arrow\">KNeighborsClassifier</label><div class=\"sk-toggleable__content\"><pre>KNeighborsClassifier()</pre></div></div></div></div></div></div></div>"
            ],
            "text/plain": [
              "Pipeline(steps=[('standardscaler', StandardScaler()),\n",
              "                ('kneighborsclassifier', KNeighborsClassifier())])"
            ]
          },
          "metadata": {},
          "execution_count": 11
        }
      ]
    },
    {
      "cell_type": "code",
      "source": [
        "# Evaluate the accuracy\n",
        "Knn_pipe_train_pred = knn_pipe.predict(X_train)\n",
        "print(accuracy_score(y_train, Knn_pipe_train_pred))"
      ],
      "metadata": {
        "colab": {
          "base_uri": "https://localhost:8080/"
        },
        "id": "Wcn7OwykXiO2",
        "outputId": "4f4695e5-f36b-475d-f2a1-ed2ac27ca8ba"
      },
      "execution_count": 12,
      "outputs": [
        {
          "output_type": "stream",
          "name": "stdout",
          "text": [
            "0.9774436090225563\n"
          ]
        }
      ]
    },
    {
      "cell_type": "code",
      "source": [
        "Knn_pipe_test_pred = knn_pipe.predict(X_test)\n",
        "print(accuracy_score(y_test, Knn_pipe_test_pred))"
      ],
      "metadata": {
        "colab": {
          "base_uri": "https://localhost:8080/"
        },
        "id": "hG0UCUp5ZrdV",
        "outputId": "3aa37b3b-bb04-46e2-acfd-675768a92ca7"
      },
      "execution_count": 13,
      "outputs": [
        {
          "output_type": "stream",
          "name": "stdout",
          "text": [
            "0.9555555555555556\n"
          ]
        }
      ]
    },
    {
      "cell_type": "code",
      "source": [
        "# Call the paramters\n",
        "knn_pipe.get_params()"
      ],
      "metadata": {
        "colab": {
          "base_uri": "https://localhost:8080/"
        },
        "id": "TZgkS_MfZ-p1",
        "outputId": "c759fb0d-6553-41e5-aab8-fea690f9fa5b"
      },
      "execution_count": 14,
      "outputs": [
        {
          "output_type": "execute_result",
          "data": {
            "text/plain": [
              "{'kneighborsclassifier': KNeighborsClassifier(),\n",
              " 'kneighborsclassifier__algorithm': 'auto',\n",
              " 'kneighborsclassifier__leaf_size': 30,\n",
              " 'kneighborsclassifier__metric': 'minkowski',\n",
              " 'kneighborsclassifier__metric_params': None,\n",
              " 'kneighborsclassifier__n_jobs': None,\n",
              " 'kneighborsclassifier__n_neighbors': 5,\n",
              " 'kneighborsclassifier__p': 2,\n",
              " 'kneighborsclassifier__weights': 'uniform',\n",
              " 'memory': None,\n",
              " 'standardscaler': StandardScaler(),\n",
              " 'standardscaler__copy': True,\n",
              " 'standardscaler__with_mean': True,\n",
              " 'standardscaler__with_std': True,\n",
              " 'steps': [('standardscaler', StandardScaler()),\n",
              "  ('kneighborsclassifier', KNeighborsClassifier())],\n",
              " 'verbose': False}"
            ]
          },
          "metadata": {},
          "execution_count": 14
        }
      ]
    },
    {
      "cell_type": "code",
      "source": [
        "# Test Parameters\n",
        "parameter_grid = {'kneighborsclassifier__n_neighbors': range(1,10),\n",
        "                  'kneighborsclassifier__weights' : ['uniform', 'distance'],\n",
        "                  'kneighborsclassifier__p' : range(1,5)}"
      ],
      "metadata": {
        "id": "4yGn3g-5aLqE"
      },
      "execution_count": 15,
      "outputs": []
    },
    {
      "cell_type": "code",
      "source": [
        "# Instantiate a gridsearch with the model and hyper parameter diectionary\n",
        "grid = GridSearchCV(knn_pipe, parameter_grid, error_score='raise')\n",
        "grid.fit(X_train, y_train)\n",
        "print(grid.best_params_)"
      ],
      "metadata": {
        "colab": {
          "base_uri": "https://localhost:8080/"
        },
        "id": "KCOMBT6Ia2mF",
        "outputId": "c6f47a6f-4723-4895-e661-3429336e2738"
      },
      "execution_count": 16,
      "outputs": [
        {
          "output_type": "stream",
          "name": "stdout",
          "text": [
            "{'kneighborsclassifier__n_neighbors': 5, 'kneighborsclassifier__p': 1, 'kneighborsclassifier__weights': 'uniform'}\n"
          ]
        }
      ]
    },
    {
      "cell_type": "code",
      "source": [
        "# Check the optimal combinations of hyperparameters\n",
        "best_knn = grid.best_estimator_\n",
        "best_knn"
      ],
      "metadata": {
        "colab": {
          "base_uri": "https://localhost:8080/",
          "height": 126
        },
        "id": "hraOVohAbzBl",
        "outputId": "26265ceb-832a-464f-bd39-cba491c665a0"
      },
      "execution_count": 17,
      "outputs": [
        {
          "output_type": "execute_result",
          "data": {
            "text/html": [
              "<style>#sk-699281d2-43d5-43e0-895e-c28d643165f0 {color: black;background-color: white;}#sk-699281d2-43d5-43e0-895e-c28d643165f0 pre{padding: 0;}#sk-699281d2-43d5-43e0-895e-c28d643165f0 div.sk-toggleable {background-color: white;}#sk-699281d2-43d5-43e0-895e-c28d643165f0 label.sk-toggleable__label {cursor: pointer;display: block;width: 100%;margin-bottom: 0;padding: 0.3em;box-sizing: border-box;text-align: center;}#sk-699281d2-43d5-43e0-895e-c28d643165f0 label.sk-toggleable__label-arrow:before {content: \"▸\";float: left;margin-right: 0.25em;color: #696969;}#sk-699281d2-43d5-43e0-895e-c28d643165f0 label.sk-toggleable__label-arrow:hover:before {color: black;}#sk-699281d2-43d5-43e0-895e-c28d643165f0 div.sk-estimator:hover label.sk-toggleable__label-arrow:before {color: black;}#sk-699281d2-43d5-43e0-895e-c28d643165f0 div.sk-toggleable__content {max-height: 0;max-width: 0;overflow: hidden;text-align: left;background-color: #f0f8ff;}#sk-699281d2-43d5-43e0-895e-c28d643165f0 div.sk-toggleable__content pre {margin: 0.2em;color: black;border-radius: 0.25em;background-color: #f0f8ff;}#sk-699281d2-43d5-43e0-895e-c28d643165f0 input.sk-toggleable__control:checked~div.sk-toggleable__content {max-height: 200px;max-width: 100%;overflow: auto;}#sk-699281d2-43d5-43e0-895e-c28d643165f0 input.sk-toggleable__control:checked~label.sk-toggleable__label-arrow:before {content: \"▾\";}#sk-699281d2-43d5-43e0-895e-c28d643165f0 div.sk-estimator input.sk-toggleable__control:checked~label.sk-toggleable__label {background-color: #d4ebff;}#sk-699281d2-43d5-43e0-895e-c28d643165f0 div.sk-label input.sk-toggleable__control:checked~label.sk-toggleable__label {background-color: #d4ebff;}#sk-699281d2-43d5-43e0-895e-c28d643165f0 input.sk-hidden--visually {border: 0;clip: rect(1px 1px 1px 1px);clip: rect(1px, 1px, 1px, 1px);height: 1px;margin: -1px;overflow: hidden;padding: 0;position: absolute;width: 1px;}#sk-699281d2-43d5-43e0-895e-c28d643165f0 div.sk-estimator {font-family: monospace;background-color: #f0f8ff;border: 1px dotted black;border-radius: 0.25em;box-sizing: border-box;margin-bottom: 0.5em;}#sk-699281d2-43d5-43e0-895e-c28d643165f0 div.sk-estimator:hover {background-color: #d4ebff;}#sk-699281d2-43d5-43e0-895e-c28d643165f0 div.sk-parallel-item::after {content: \"\";width: 100%;border-bottom: 1px solid gray;flex-grow: 1;}#sk-699281d2-43d5-43e0-895e-c28d643165f0 div.sk-label:hover label.sk-toggleable__label {background-color: #d4ebff;}#sk-699281d2-43d5-43e0-895e-c28d643165f0 div.sk-serial::before {content: \"\";position: absolute;border-left: 1px solid gray;box-sizing: border-box;top: 2em;bottom: 0;left: 50%;}#sk-699281d2-43d5-43e0-895e-c28d643165f0 div.sk-serial {display: flex;flex-direction: column;align-items: center;background-color: white;padding-right: 0.2em;padding-left: 0.2em;}#sk-699281d2-43d5-43e0-895e-c28d643165f0 div.sk-item {z-index: 1;}#sk-699281d2-43d5-43e0-895e-c28d643165f0 div.sk-parallel {display: flex;align-items: stretch;justify-content: center;background-color: white;}#sk-699281d2-43d5-43e0-895e-c28d643165f0 div.sk-parallel::before {content: \"\";position: absolute;border-left: 1px solid gray;box-sizing: border-box;top: 2em;bottom: 0;left: 50%;}#sk-699281d2-43d5-43e0-895e-c28d643165f0 div.sk-parallel-item {display: flex;flex-direction: column;position: relative;background-color: white;}#sk-699281d2-43d5-43e0-895e-c28d643165f0 div.sk-parallel-item:first-child::after {align-self: flex-end;width: 50%;}#sk-699281d2-43d5-43e0-895e-c28d643165f0 div.sk-parallel-item:last-child::after {align-self: flex-start;width: 50%;}#sk-699281d2-43d5-43e0-895e-c28d643165f0 div.sk-parallel-item:only-child::after {width: 0;}#sk-699281d2-43d5-43e0-895e-c28d643165f0 div.sk-dashed-wrapped {border: 1px dashed gray;margin: 0 0.4em 0.5em 0.4em;box-sizing: border-box;padding-bottom: 0.4em;background-color: white;position: relative;}#sk-699281d2-43d5-43e0-895e-c28d643165f0 div.sk-label label {font-family: monospace;font-weight: bold;background-color: white;display: inline-block;line-height: 1.2em;}#sk-699281d2-43d5-43e0-895e-c28d643165f0 div.sk-label-container {position: relative;z-index: 2;text-align: center;}#sk-699281d2-43d5-43e0-895e-c28d643165f0 div.sk-container {/* jupyter's `normalize.less` sets `[hidden] { display: none; }` but bootstrap.min.css set `[hidden] { display: none !important; }` so we also need the `!important` here to be able to override the default hidden behavior on the sphinx rendered scikit-learn.org. See: https://github.com/scikit-learn/scikit-learn/issues/21755 */display: inline-block !important;position: relative;}#sk-699281d2-43d5-43e0-895e-c28d643165f0 div.sk-text-repr-fallback {display: none;}</style><div id=\"sk-699281d2-43d5-43e0-895e-c28d643165f0\" class=\"sk-top-container\"><div class=\"sk-text-repr-fallback\"><pre>Pipeline(steps=[(&#x27;standardscaler&#x27;, StandardScaler()),\n",
              "                (&#x27;kneighborsclassifier&#x27;, KNeighborsClassifier(p=1))])</pre><b>Please rerun this cell to show the HTML repr or trust the notebook.</b></div><div class=\"sk-container\" hidden><div class=\"sk-item sk-dashed-wrapped\"><div class=\"sk-label-container\"><div class=\"sk-label sk-toggleable\"><input class=\"sk-toggleable__control sk-hidden--visually\" id=\"85bc5073-1a8e-44d3-950e-2b0684a51213\" type=\"checkbox\" ><label for=\"85bc5073-1a8e-44d3-950e-2b0684a51213\" class=\"sk-toggleable__label sk-toggleable__label-arrow\">Pipeline</label><div class=\"sk-toggleable__content\"><pre>Pipeline(steps=[(&#x27;standardscaler&#x27;, StandardScaler()),\n",
              "                (&#x27;kneighborsclassifier&#x27;, KNeighborsClassifier(p=1))])</pre></div></div></div><div class=\"sk-serial\"><div class=\"sk-item\"><div class=\"sk-estimator sk-toggleable\"><input class=\"sk-toggleable__control sk-hidden--visually\" id=\"24d74e91-4c6e-4ca7-a1f7-4af4f4bbe3df\" type=\"checkbox\" ><label for=\"24d74e91-4c6e-4ca7-a1f7-4af4f4bbe3df\" class=\"sk-toggleable__label sk-toggleable__label-arrow\">StandardScaler</label><div class=\"sk-toggleable__content\"><pre>StandardScaler()</pre></div></div></div><div class=\"sk-item\"><div class=\"sk-estimator sk-toggleable\"><input class=\"sk-toggleable__control sk-hidden--visually\" id=\"f30becad-6c18-4db9-9ec3-c6deb0de4ceb\" type=\"checkbox\" ><label for=\"f30becad-6c18-4db9-9ec3-c6deb0de4ceb\" class=\"sk-toggleable__label sk-toggleable__label-arrow\">KNeighborsClassifier</label><div class=\"sk-toggleable__content\"><pre>KNeighborsClassifier(p=1)</pre></div></div></div></div></div></div></div>"
            ],
            "text/plain": [
              "Pipeline(steps=[('standardscaler', StandardScaler()),\n",
              "                ('kneighborsclassifier', KNeighborsClassifier(p=1))])"
            ]
          },
          "metadata": {},
          "execution_count": 17
        }
      ]
    },
    {
      "cell_type": "code",
      "source": [
        "# Run a classification reprot on both train and test datasets for the best model\n",
        "knn_train_pred = best_knn.predict(X_train)\n",
        "knn_test_pred = best_knn.predict(X_test)\n",
        "print('Best Model Train Metrics')\n",
        "print(classification_report(y_train, knn_train_pred))\n",
        "print('Best Model Test Metrics')\n",
        "print(classification_report(y_test, knn_test_pred))"
      ],
      "metadata": {
        "colab": {
          "base_uri": "https://localhost:8080/"
        },
        "id": "EyfWw6hQca4U",
        "outputId": "ade4ac90-aea1-4ed7-dbfc-92a1918fbd14"
      },
      "execution_count": 18,
      "outputs": [
        {
          "output_type": "stream",
          "name": "stdout",
          "text": [
            "Best Model Train Metrics\n",
            "              precision    recall  f1-score   support\n",
            "\n",
            "           1       0.98      1.00      0.99        44\n",
            "           2       1.00      0.96      0.98        53\n",
            "           3       0.97      1.00      0.99        36\n",
            "\n",
            "    accuracy                           0.98       133\n",
            "   macro avg       0.98      0.99      0.99       133\n",
            "weighted avg       0.99      0.98      0.98       133\n",
            "\n",
            "Best Model Test Metrics\n",
            "              precision    recall  f1-score   support\n",
            "\n",
            "           1       0.94      1.00      0.97        15\n",
            "           2       1.00      0.89      0.94        18\n",
            "           3       0.92      1.00      0.96        12\n",
            "\n",
            "    accuracy                           0.96        45\n",
            "   macro avg       0.95      0.96      0.96        45\n",
            "weighted avg       0.96      0.96      0.96        45\n",
            "\n"
          ]
        }
      ]
    },
    {
      "cell_type": "code",
      "source": [
        "print('Best Model Train Metrics')\n",
        "print(accuracy_score(y_train, knn_train_pred))\n",
        "print('\\nBest Model Test Metrics')\n",
        "print(accuracy_score(y_test, knn_test_pred))"
      ],
      "metadata": {
        "colab": {
          "base_uri": "https://localhost:8080/"
        },
        "id": "lpdWDMi7dReW",
        "outputId": "b56715a9-318f-48de-dbf2-a0b9d5cec78f"
      },
      "execution_count": 19,
      "outputs": [
        {
          "output_type": "stream",
          "name": "stdout",
          "text": [
            "Best Model Train Metrics\n",
            "0.9849624060150376\n",
            "\n",
            "Best Model Test Metrics\n",
            "0.9555555555555556\n"
          ]
        }
      ]
    },
    {
      "cell_type": "markdown",
      "source": [
        "#Random Forest"
      ],
      "metadata": {
        "id": "si_SBu3rB6Q2"
      }
    },
    {
      "cell_type": "code",
      "source": [
        "# Import the Random Forest Regress\n",
        "from sklearn.ensemble import RandomForestRegressor"
      ],
      "metadata": {
        "id": "YVgMEFouB80W"
      },
      "execution_count": 21,
      "outputs": []
    },
    {
      "cell_type": "code",
      "source": [
        "# Make an instance of the Model and use Default Parameters to start\n",
        "randomforest = RandomForestRegressor(random_state=42)"
      ],
      "metadata": {
        "id": "DBQ6fytrDA6F"
      },
      "execution_count": 22,
      "outputs": []
    },
    {
      "cell_type": "code",
      "source": [
        "# Next we'll look at the hyperparameters and see what are tunable\n",
        "randomforest.get_params()"
      ],
      "metadata": {
        "colab": {
          "base_uri": "https://localhost:8080/"
        },
        "id": "XITrnWf1DSUF",
        "outputId": "74862771-4407-4a12-f2de-b42174231bcb"
      },
      "execution_count": 24,
      "outputs": [
        {
          "output_type": "execute_result",
          "data": {
            "text/plain": [
              "{'bootstrap': True,\n",
              " 'ccp_alpha': 0.0,\n",
              " 'criterion': 'squared_error',\n",
              " 'max_depth': None,\n",
              " 'max_features': 'auto',\n",
              " 'max_leaf_nodes': None,\n",
              " 'max_samples': None,\n",
              " 'min_impurity_decrease': 0.0,\n",
              " 'min_samples_leaf': 1,\n",
              " 'min_samples_split': 2,\n",
              " 'min_weight_fraction_leaf': 0.0,\n",
              " 'n_estimators': 100,\n",
              " 'n_jobs': None,\n",
              " 'oob_score': False,\n",
              " 'random_state': 42,\n",
              " 'verbose': 0,\n",
              " 'warm_start': False}"
            ]
          },
          "metadata": {},
          "execution_count": 24
        }
      ]
    },
    {
      "cell_type": "code",
      "source": [
        "# now we'll train the model on the data\n",
        "randomforest.fit(X_train, y_train)"
      ],
      "metadata": {
        "colab": {
          "base_uri": "https://localhost:8080/",
          "height": 74
        },
        "id": "Xy8TXnu_Dcc1",
        "outputId": "6d250ac4-0916-4d19-f2af-4edb9eaaa702"
      },
      "execution_count": 25,
      "outputs": [
        {
          "output_type": "execute_result",
          "data": {
            "text/html": [
              "<style>#sk-48b78a3c-565a-411c-ae97-5ce9cae17169 {color: black;background-color: white;}#sk-48b78a3c-565a-411c-ae97-5ce9cae17169 pre{padding: 0;}#sk-48b78a3c-565a-411c-ae97-5ce9cae17169 div.sk-toggleable {background-color: white;}#sk-48b78a3c-565a-411c-ae97-5ce9cae17169 label.sk-toggleable__label {cursor: pointer;display: block;width: 100%;margin-bottom: 0;padding: 0.3em;box-sizing: border-box;text-align: center;}#sk-48b78a3c-565a-411c-ae97-5ce9cae17169 label.sk-toggleable__label-arrow:before {content: \"▸\";float: left;margin-right: 0.25em;color: #696969;}#sk-48b78a3c-565a-411c-ae97-5ce9cae17169 label.sk-toggleable__label-arrow:hover:before {color: black;}#sk-48b78a3c-565a-411c-ae97-5ce9cae17169 div.sk-estimator:hover label.sk-toggleable__label-arrow:before {color: black;}#sk-48b78a3c-565a-411c-ae97-5ce9cae17169 div.sk-toggleable__content {max-height: 0;max-width: 0;overflow: hidden;text-align: left;background-color: #f0f8ff;}#sk-48b78a3c-565a-411c-ae97-5ce9cae17169 div.sk-toggleable__content pre {margin: 0.2em;color: black;border-radius: 0.25em;background-color: #f0f8ff;}#sk-48b78a3c-565a-411c-ae97-5ce9cae17169 input.sk-toggleable__control:checked~div.sk-toggleable__content {max-height: 200px;max-width: 100%;overflow: auto;}#sk-48b78a3c-565a-411c-ae97-5ce9cae17169 input.sk-toggleable__control:checked~label.sk-toggleable__label-arrow:before {content: \"▾\";}#sk-48b78a3c-565a-411c-ae97-5ce9cae17169 div.sk-estimator input.sk-toggleable__control:checked~label.sk-toggleable__label {background-color: #d4ebff;}#sk-48b78a3c-565a-411c-ae97-5ce9cae17169 div.sk-label input.sk-toggleable__control:checked~label.sk-toggleable__label {background-color: #d4ebff;}#sk-48b78a3c-565a-411c-ae97-5ce9cae17169 input.sk-hidden--visually {border: 0;clip: rect(1px 1px 1px 1px);clip: rect(1px, 1px, 1px, 1px);height: 1px;margin: -1px;overflow: hidden;padding: 0;position: absolute;width: 1px;}#sk-48b78a3c-565a-411c-ae97-5ce9cae17169 div.sk-estimator {font-family: monospace;background-color: #f0f8ff;border: 1px dotted black;border-radius: 0.25em;box-sizing: border-box;margin-bottom: 0.5em;}#sk-48b78a3c-565a-411c-ae97-5ce9cae17169 div.sk-estimator:hover {background-color: #d4ebff;}#sk-48b78a3c-565a-411c-ae97-5ce9cae17169 div.sk-parallel-item::after {content: \"\";width: 100%;border-bottom: 1px solid gray;flex-grow: 1;}#sk-48b78a3c-565a-411c-ae97-5ce9cae17169 div.sk-label:hover label.sk-toggleable__label {background-color: #d4ebff;}#sk-48b78a3c-565a-411c-ae97-5ce9cae17169 div.sk-serial::before {content: \"\";position: absolute;border-left: 1px solid gray;box-sizing: border-box;top: 2em;bottom: 0;left: 50%;}#sk-48b78a3c-565a-411c-ae97-5ce9cae17169 div.sk-serial {display: flex;flex-direction: column;align-items: center;background-color: white;padding-right: 0.2em;padding-left: 0.2em;}#sk-48b78a3c-565a-411c-ae97-5ce9cae17169 div.sk-item {z-index: 1;}#sk-48b78a3c-565a-411c-ae97-5ce9cae17169 div.sk-parallel {display: flex;align-items: stretch;justify-content: center;background-color: white;}#sk-48b78a3c-565a-411c-ae97-5ce9cae17169 div.sk-parallel::before {content: \"\";position: absolute;border-left: 1px solid gray;box-sizing: border-box;top: 2em;bottom: 0;left: 50%;}#sk-48b78a3c-565a-411c-ae97-5ce9cae17169 div.sk-parallel-item {display: flex;flex-direction: column;position: relative;background-color: white;}#sk-48b78a3c-565a-411c-ae97-5ce9cae17169 div.sk-parallel-item:first-child::after {align-self: flex-end;width: 50%;}#sk-48b78a3c-565a-411c-ae97-5ce9cae17169 div.sk-parallel-item:last-child::after {align-self: flex-start;width: 50%;}#sk-48b78a3c-565a-411c-ae97-5ce9cae17169 div.sk-parallel-item:only-child::after {width: 0;}#sk-48b78a3c-565a-411c-ae97-5ce9cae17169 div.sk-dashed-wrapped {border: 1px dashed gray;margin: 0 0.4em 0.5em 0.4em;box-sizing: border-box;padding-bottom: 0.4em;background-color: white;position: relative;}#sk-48b78a3c-565a-411c-ae97-5ce9cae17169 div.sk-label label {font-family: monospace;font-weight: bold;background-color: white;display: inline-block;line-height: 1.2em;}#sk-48b78a3c-565a-411c-ae97-5ce9cae17169 div.sk-label-container {position: relative;z-index: 2;text-align: center;}#sk-48b78a3c-565a-411c-ae97-5ce9cae17169 div.sk-container {/* jupyter's `normalize.less` sets `[hidden] { display: none; }` but bootstrap.min.css set `[hidden] { display: none !important; }` so we also need the `!important` here to be able to override the default hidden behavior on the sphinx rendered scikit-learn.org. See: https://github.com/scikit-learn/scikit-learn/issues/21755 */display: inline-block !important;position: relative;}#sk-48b78a3c-565a-411c-ae97-5ce9cae17169 div.sk-text-repr-fallback {display: none;}</style><div id=\"sk-48b78a3c-565a-411c-ae97-5ce9cae17169\" class=\"sk-top-container\"><div class=\"sk-text-repr-fallback\"><pre>RandomForestRegressor(random_state=42)</pre><b>Please rerun this cell to show the HTML repr or trust the notebook.</b></div><div class=\"sk-container\" hidden><div class=\"sk-item\"><div class=\"sk-estimator sk-toggleable\"><input class=\"sk-toggleable__control sk-hidden--visually\" id=\"f127670a-f261-4428-abd4-f6eaf11c48c2\" type=\"checkbox\" checked><label for=\"f127670a-f261-4428-abd4-f6eaf11c48c2\" class=\"sk-toggleable__label sk-toggleable__label-arrow\">RandomForestRegressor</label><div class=\"sk-toggleable__content\"><pre>RandomForestRegressor(random_state=42)</pre></div></div></div></div></div>"
            ],
            "text/plain": [
              "RandomForestRegressor(random_state=42)"
            ]
          },
          "metadata": {},
          "execution_count": 25
        }
      ]
    },
    {
      "cell_type": "code",
      "source": [
        "# Next we predict the target\n",
        "randomforest.predict(X_test)"
      ],
      "metadata": {
        "colab": {
          "base_uri": "https://localhost:8080/"
        },
        "id": "UgW8Gn87EZ70",
        "outputId": "b4a0895f-3eee-46cd-e6b0-6835268ea3d4"
      },
      "execution_count": 26,
      "outputs": [
        {
          "output_type": "execute_result",
          "data": {
            "text/plain": [
              "array([1.  , 1.  , 2.4 , 1.01, 2.01, 1.  , 2.  , 2.98, 1.98, 1.97, 1.2 ,\n",
              "       2.35, 1.  , 2.47, 1.  , 2.  , 2.  , 2.  , 1.  , 2.  , 1.  , 1.89,\n",
              "       2.18, 3.  , 3.  , 3.  , 1.99, 1.85, 2.  , 1.  , 1.03, 2.  , 2.87,\n",
              "       1.  , 1.03, 1.  , 2.83, 3.  , 1.88, 2.93, 1.08, 2.01, 2.  , 2.14,\n",
              "       2.77])"
            ]
          },
          "metadata": {},
          "execution_count": 26
        }
      ]
    },
    {
      "cell_type": "code",
      "source": [
        "# Now We'll Evaluate the performance of the model\n",
        "randomforest_train_score = randomforest.score(X_train, y_train)\n",
        "randomforest_test_score = randomforest.score(X_test, y_test)\n",
        "print(randomforest_train_score)\n",
        "print(randomforest_test_score)"
      ],
      "metadata": {
        "colab": {
          "base_uri": "https://localhost:8080/"
        },
        "id": "qh1uqjPtEgYU",
        "outputId": "021138c5-7490-4843-ed4e-1ee0cf898d91"
      },
      "execution_count": 28,
      "outputs": [
        {
          "output_type": "stream",
          "name": "stdout",
          "text": [
            "0.9903771180030257\n",
            "0.9134962686567164\n"
          ]
        }
      ]
    },
    {
      "cell_type": "code",
      "source": [
        "parameter_grid2 = {'max_depth': range(1,10),\n",
        "                  'n_estimators' : range(50,150,5)}"
      ],
      "metadata": {
        "id": "LjsrGm2sFimn"
      },
      "execution_count": 31,
      "outputs": []
    },
    {
      "cell_type": "code",
      "source": [
        "# Instantiate a gridsearch with the model and hyper parameter diectionary\n",
        "grid2 = GridSearchCV(randomforest, parameter_grid, error_score='raise')\n",
        "grid2.fit(X_train, y_train)\n",
        "print(grid2.best_params_)"
      ],
      "metadata": {
        "colab": {
          "base_uri": "https://localhost:8080/"
        },
        "id": "sMyWlHvWFnoM",
        "outputId": "3c12483a-e797-428b-97b7-c7a709681f89"
      },
      "execution_count": 32,
      "outputs": [
        {
          "output_type": "stream",
          "name": "stdout",
          "text": [
            "{'max_depth': 6, 'n_estimators': 115}\n"
          ]
        }
      ]
    },
    {
      "cell_type": "code",
      "source": [
        "# Check the optimal combinations of hyperparameters\n",
        "best_randomforest = grid2.best_estimator_\n",
        "best_randomforest"
      ],
      "metadata": {
        "colab": {
          "base_uri": "https://localhost:8080/",
          "height": 74
        },
        "id": "0AYTjzxyGg9q",
        "outputId": "2de2997a-2424-4330-8179-c1794a62b3c8"
      },
      "execution_count": 33,
      "outputs": [
        {
          "output_type": "execute_result",
          "data": {
            "text/html": [
              "<style>#sk-26aa4739-4827-428f-9958-b05101306d30 {color: black;background-color: white;}#sk-26aa4739-4827-428f-9958-b05101306d30 pre{padding: 0;}#sk-26aa4739-4827-428f-9958-b05101306d30 div.sk-toggleable {background-color: white;}#sk-26aa4739-4827-428f-9958-b05101306d30 label.sk-toggleable__label {cursor: pointer;display: block;width: 100%;margin-bottom: 0;padding: 0.3em;box-sizing: border-box;text-align: center;}#sk-26aa4739-4827-428f-9958-b05101306d30 label.sk-toggleable__label-arrow:before {content: \"▸\";float: left;margin-right: 0.25em;color: #696969;}#sk-26aa4739-4827-428f-9958-b05101306d30 label.sk-toggleable__label-arrow:hover:before {color: black;}#sk-26aa4739-4827-428f-9958-b05101306d30 div.sk-estimator:hover label.sk-toggleable__label-arrow:before {color: black;}#sk-26aa4739-4827-428f-9958-b05101306d30 div.sk-toggleable__content {max-height: 0;max-width: 0;overflow: hidden;text-align: left;background-color: #f0f8ff;}#sk-26aa4739-4827-428f-9958-b05101306d30 div.sk-toggleable__content pre {margin: 0.2em;color: black;border-radius: 0.25em;background-color: #f0f8ff;}#sk-26aa4739-4827-428f-9958-b05101306d30 input.sk-toggleable__control:checked~div.sk-toggleable__content {max-height: 200px;max-width: 100%;overflow: auto;}#sk-26aa4739-4827-428f-9958-b05101306d30 input.sk-toggleable__control:checked~label.sk-toggleable__label-arrow:before {content: \"▾\";}#sk-26aa4739-4827-428f-9958-b05101306d30 div.sk-estimator input.sk-toggleable__control:checked~label.sk-toggleable__label {background-color: #d4ebff;}#sk-26aa4739-4827-428f-9958-b05101306d30 div.sk-label input.sk-toggleable__control:checked~label.sk-toggleable__label {background-color: #d4ebff;}#sk-26aa4739-4827-428f-9958-b05101306d30 input.sk-hidden--visually {border: 0;clip: rect(1px 1px 1px 1px);clip: rect(1px, 1px, 1px, 1px);height: 1px;margin: -1px;overflow: hidden;padding: 0;position: absolute;width: 1px;}#sk-26aa4739-4827-428f-9958-b05101306d30 div.sk-estimator {font-family: monospace;background-color: #f0f8ff;border: 1px dotted black;border-radius: 0.25em;box-sizing: border-box;margin-bottom: 0.5em;}#sk-26aa4739-4827-428f-9958-b05101306d30 div.sk-estimator:hover {background-color: #d4ebff;}#sk-26aa4739-4827-428f-9958-b05101306d30 div.sk-parallel-item::after {content: \"\";width: 100%;border-bottom: 1px solid gray;flex-grow: 1;}#sk-26aa4739-4827-428f-9958-b05101306d30 div.sk-label:hover label.sk-toggleable__label {background-color: #d4ebff;}#sk-26aa4739-4827-428f-9958-b05101306d30 div.sk-serial::before {content: \"\";position: absolute;border-left: 1px solid gray;box-sizing: border-box;top: 2em;bottom: 0;left: 50%;}#sk-26aa4739-4827-428f-9958-b05101306d30 div.sk-serial {display: flex;flex-direction: column;align-items: center;background-color: white;padding-right: 0.2em;padding-left: 0.2em;}#sk-26aa4739-4827-428f-9958-b05101306d30 div.sk-item {z-index: 1;}#sk-26aa4739-4827-428f-9958-b05101306d30 div.sk-parallel {display: flex;align-items: stretch;justify-content: center;background-color: white;}#sk-26aa4739-4827-428f-9958-b05101306d30 div.sk-parallel::before {content: \"\";position: absolute;border-left: 1px solid gray;box-sizing: border-box;top: 2em;bottom: 0;left: 50%;}#sk-26aa4739-4827-428f-9958-b05101306d30 div.sk-parallel-item {display: flex;flex-direction: column;position: relative;background-color: white;}#sk-26aa4739-4827-428f-9958-b05101306d30 div.sk-parallel-item:first-child::after {align-self: flex-end;width: 50%;}#sk-26aa4739-4827-428f-9958-b05101306d30 div.sk-parallel-item:last-child::after {align-self: flex-start;width: 50%;}#sk-26aa4739-4827-428f-9958-b05101306d30 div.sk-parallel-item:only-child::after {width: 0;}#sk-26aa4739-4827-428f-9958-b05101306d30 div.sk-dashed-wrapped {border: 1px dashed gray;margin: 0 0.4em 0.5em 0.4em;box-sizing: border-box;padding-bottom: 0.4em;background-color: white;position: relative;}#sk-26aa4739-4827-428f-9958-b05101306d30 div.sk-label label {font-family: monospace;font-weight: bold;background-color: white;display: inline-block;line-height: 1.2em;}#sk-26aa4739-4827-428f-9958-b05101306d30 div.sk-label-container {position: relative;z-index: 2;text-align: center;}#sk-26aa4739-4827-428f-9958-b05101306d30 div.sk-container {/* jupyter's `normalize.less` sets `[hidden] { display: none; }` but bootstrap.min.css set `[hidden] { display: none !important; }` so we also need the `!important` here to be able to override the default hidden behavior on the sphinx rendered scikit-learn.org. See: https://github.com/scikit-learn/scikit-learn/issues/21755 */display: inline-block !important;position: relative;}#sk-26aa4739-4827-428f-9958-b05101306d30 div.sk-text-repr-fallback {display: none;}</style><div id=\"sk-26aa4739-4827-428f-9958-b05101306d30\" class=\"sk-top-container\"><div class=\"sk-text-repr-fallback\"><pre>RandomForestRegressor(max_depth=6, n_estimators=115, random_state=42)</pre><b>Please rerun this cell to show the HTML repr or trust the notebook.</b></div><div class=\"sk-container\" hidden><div class=\"sk-item\"><div class=\"sk-estimator sk-toggleable\"><input class=\"sk-toggleable__control sk-hidden--visually\" id=\"a3dbab7f-db16-4a26-aaa2-325a072d741d\" type=\"checkbox\" checked><label for=\"a3dbab7f-db16-4a26-aaa2-325a072d741d\" class=\"sk-toggleable__label sk-toggleable__label-arrow\">RandomForestRegressor</label><div class=\"sk-toggleable__content\"><pre>RandomForestRegressor(max_depth=6, n_estimators=115, random_state=42)</pre></div></div></div></div></div>"
            ],
            "text/plain": [
              "RandomForestRegressor(max_depth=6, n_estimators=115, random_state=42)"
            ]
          },
          "metadata": {},
          "execution_count": 33
        }
      ]
    },
    {
      "cell_type": "code",
      "source": [
        "#Now that we have the optimal combinations of hyperparameters, we will run tune to them in our model\n",
        "randomforest_6 = RandomForestRegressor(max_depth=6, n_estimators=115, random_state=42)\n",
        "randomforest_6.fit(X_train, y_train)\n",
        "randomforest_6_train_score = randomforest_6.score(X_train, y_train)\n",
        "randomforest_6_test_score = randomforest_6.score(X_test, y_test)\n",
        "print(randomforest_6_train_score)\n",
        "print(randomforest_6_test_score)"
      ],
      "metadata": {
        "colab": {
          "base_uri": "https://localhost:8080/"
        },
        "id": "JQvmGjnEGuP8",
        "outputId": "1ff8c9dc-5657-4759-916c-1f4e4700bfe1"
      },
      "execution_count": 36,
      "outputs": [
        {
          "output_type": "stream",
          "name": "stdout",
          "text": [
            "0.9903730956990754\n",
            "0.9162316959625314\n"
          ]
        }
      ]
    },
    {
      "cell_type": "code",
      "source": [
        "print('Best Model Train Metrics')\n",
        "print(accuracy_score(y_train, randomforest_train_pred))\n",
        "print('\\nBest Model Test Metrics')\n",
        "print(accuracy_score(y_test, randomforest_test_pred))"
      ],
      "metadata": {
        "id": "I8cTPNW9HALd"
      },
      "execution_count": null,
      "outputs": []
    },
    {
      "cell_type": "markdown",
      "source": [
        "The KNN Model performed best. The hyper parameters I tuned were neighbors, classifiers and weights. The training score was a little low than the randomforest regress (98% vs. 99%), but the testing score was much better (94% vs 91%).\n",
        "\n",
        "The hyperparameters I tuned in my randomforest model were the n_estimators \n",
        "\n",
        "Evaluation: my model improved on the training metrics by 1.7%.\n",
        "\n",
        "MY model can accurately predict Class 1 by 94%.\n",
        "\n",
        "My model is able to clearly predict whether or not the grape will be class type 2 by it's attributes at a rate of 100%. \n",
        "\n",
        "My model can accurately predict Class 3 at a rate of 92%."
      ],
      "metadata": {
        "id": "p3VDN_bmdYKq"
      }
    }
  ]
}